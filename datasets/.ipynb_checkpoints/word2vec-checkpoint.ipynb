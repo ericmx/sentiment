{
 "cells": [
  {
   "cell_type": "code",
   "execution_count": 142,
   "metadata": {
    "collapsed": true,
    "deletable": true,
    "editable": true
   },
   "outputs": [],
   "source": [
    "import sklearn\n",
    "import pandas as pd\n",
    "import numpy as np\n",
    "import nltk\n",
    "from nltk.corpus import stopwords"
   ]
  },
  {
   "cell_type": "code",
   "execution_count": 143,
   "metadata": {
    "collapsed": false,
    "deletable": true,
    "editable": true
   },
   "outputs": [],
   "source": [
    "train = pd.read_csv(\"5_4_3_split_data_train.csv\", header = 0)"
   ]
  },
  {
   "cell_type": "code",
   "execution_count": 144,
   "metadata": {
    "collapsed": false,
    "deletable": true,
    "editable": true
   },
   "outputs": [
    {
     "data": {
      "text/plain": [
       "(61709, 2)"
      ]
     },
     "execution_count": 144,
     "metadata": {},
     "output_type": "execute_result"
    }
   ],
   "source": [
    "train.shape"
   ]
  },
  {
   "cell_type": "code",
   "execution_count": 145,
   "metadata": {
    "collapsed": false
   },
   "outputs": [
    {
     "data": {
      "text/html": [
       "<div>\n",
       "<table border=\"1\" class=\"dataframe\">\n",
       "  <thead>\n",
       "    <tr style=\"text-align: right;\">\n",
       "      <th></th>\n",
       "      <th>review</th>\n",
       "      <th>sentiment</th>\n",
       "    </tr>\n",
       "  </thead>\n",
       "  <tbody>\n",
       "    <tr>\n",
       "      <th>61704</th>\n",
       "      <td>its a good app i have an iphone  and can use m...</td>\n",
       "      <td>1</td>\n",
       "    </tr>\n",
       "    <tr>\n",
       "      <th>61705</th>\n",
       "      <td>it works seamlessly without any issues on my s</td>\n",
       "      <td>0</td>\n",
       "    </tr>\n",
       "    <tr>\n",
       "      <th>61706</th>\n",
       "      <td>great functionality easy to use and secure as ...</td>\n",
       "      <td>1</td>\n",
       "    </tr>\n",
       "    <tr>\n",
       "      <th>61707</th>\n",
       "      <td>good app with simple visualization and easy to...</td>\n",
       "      <td>1</td>\n",
       "    </tr>\n",
       "    <tr>\n",
       "      <th>61708</th>\n",
       "      <td>it does everything you need and its easy to use</td>\n",
       "      <td>1</td>\n",
       "    </tr>\n",
       "  </tbody>\n",
       "</table>\n",
       "</div>"
      ],
      "text/plain": [
       "                                                  review  sentiment\n",
       "61704  its a good app i have an iphone  and can use m...          1\n",
       "61705     it works seamlessly without any issues on my s          0\n",
       "61706  great functionality easy to use and secure as ...          1\n",
       "61707  good app with simple visualization and easy to...          1\n",
       "61708    it does everything you need and its easy to use          1"
      ]
     },
     "execution_count": 145,
     "metadata": {},
     "output_type": "execute_result"
    }
   ],
   "source": [
    "train.tail()"
   ]
  },
  {
   "cell_type": "code",
   "execution_count": 146,
   "metadata": {
    "collapsed": false,
    "deletable": true,
    "editable": true
   },
   "outputs": [],
   "source": [
    "# print(stopwords.words(\"english\"))\n",
    "train.dropna(axis = 0, how = 'any', inplace = True)\n",
    "train.reset_index(inplace=True)"
   ]
  },
  {
   "cell_type": "code",
   "execution_count": 147,
   "metadata": {
    "collapsed": false
   },
   "outputs": [
    {
     "data": {
      "text/plain": [
       "(61709, 3)"
      ]
     },
     "execution_count": 147,
     "metadata": {},
     "output_type": "execute_result"
    }
   ],
   "source": [
    "train.shape"
   ]
  },
  {
   "cell_type": "code",
   "execution_count": 148,
   "metadata": {
    "collapsed": false,
    "deletable": true,
    "editable": true
   },
   "outputs": [],
   "source": [
    "def review_to_words(raw_review):\n",
    "#     words = raw_review\n",
    "#     stops = set(stopwords.words(\"english\"))\n",
    "#     meaningful_words = [w for w in words if not w in stops]\n",
    "    return (\"\".join(raw_review))"
   ]
  },
  {
   "cell_type": "code",
   "execution_count": 149,
   "metadata": {
    "collapsed": false,
    "deletable": true,
    "editable": true
   },
   "outputs": [
    {
     "name": "stdout",
     "output_type": "stream",
     "text": [
      "61709\n"
     ]
    }
   ],
   "source": [
    "print(train[\"review\"].size)"
   ]
  },
  {
   "cell_type": "code",
   "execution_count": 150,
   "metadata": {
    "collapsed": true,
    "deletable": true,
    "editable": true
   },
   "outputs": [],
   "source": [
    "num_reviews = train [\"review\"].size"
   ]
  },
  {
   "cell_type": "code",
   "execution_count": 151,
   "metadata": {
    "collapsed": false,
    "deletable": true,
    "editable": true
   },
   "outputs": [
    {
     "name": "stdout",
     "output_type": "stream",
     "text": [
      "61709\n"
     ]
    }
   ],
   "source": [
    "print(num_reviews)\n",
    "# print(train[\"review\"][27224])"
   ]
  },
  {
   "cell_type": "code",
   "execution_count": 152,
   "metadata": {
    "collapsed": false,
    "deletable": true,
    "editable": true
   },
   "outputs": [],
   "source": [
    "clean_train_reviews = []\n",
    "for i in xrange(0, num_reviews):\n",
    "    clean_train_reviews.append( review_to_words(train[\"review\"][i]))"
   ]
  },
  {
   "cell_type": "code",
   "execution_count": 153,
   "metadata": {
    "collapsed": false,
    "deletable": true,
    "editable": true
   },
   "outputs": [],
   "source": [
    "from sklearn.feature_extraction.text import CountVectorizer"
   ]
  },
  {
   "cell_type": "code",
   "execution_count": 154,
   "metadata": {
    "collapsed": false,
    "deletable": true,
    "editable": true
   },
   "outputs": [],
   "source": [
    "vectorizer = CountVectorizer(analyzer=\"word\", tokenizer=None, preprocessor=None, stop_words=None, max_features=5000)\n",
    "train_data_features = vectorizer.fit_transform(clean_train_reviews)"
   ]
  },
  {
   "cell_type": "code",
   "execution_count": 102,
   "metadata": {
    "collapsed": true,
    "deletable": true,
    "editable": true
   },
   "outputs": [],
   "source": [
    "train_data_features = train_data_features.toarray()"
   ]
  },
  {
   "cell_type": "code",
   "execution_count": 103,
   "metadata": {
    "collapsed": false,
    "deletable": true,
    "editable": true
   },
   "outputs": [
    {
     "name": "stdout",
     "output_type": "stream",
     "text": [
      "(61709, 5000)\n"
     ]
    }
   ],
   "source": [
    "print train_data_features.shape"
   ]
  },
  {
   "cell_type": "code",
   "execution_count": 155,
   "metadata": {
    "collapsed": false,
    "deletable": true,
    "editable": true
   },
   "outputs": [
    {
     "name": "stdout",
     "output_type": "stream",
     "text": [
      "[u'abilities', u'ability', u'able', u'about', u'above', u'abreast', u'abroad', u'absolute', u'absolutely', u'absurd', u'abt', u'abundance', u'acc', u'accept', u'acceptable', u'acceptance', u'accepted', u'accepting', u'accepts', u'access', u'accessed', u'accessibility', u'accessible', u'accessing', u'accident', u'accidentally', u'accommodate', u'accommodating', u'accomplish', u'accomplished', u'according', u'accordingly', u'account', u'accountant', u'accounted', u'accounti', u'accounting', u'accountrouting', u'accounts', u'acct', u'accts', u'accumulated', u'accuracy', u'accurate', u'accurately', u'accustomed', u'ach', u'achieve', u'acknowledge', u'acknowledged', u'acquired', u'across', u'act', u'acting', u'action', u'actions', u'activate', u'activated', u'activation', u'active', u'actively', u'activities', u'activity', u'acts', u'actual', u'actually', u'ad', u'adapt', u'adapted', u'add', u'added', u'adding', u'addition', u'additional', u'additionally', u'additions', u'address', u'addressed', u'addresses', u'adds', u'adequate', u'adjust', u'adjusted', u'adjusting', u'adjustment', u'adjustments', u'admit', u'adobe', u'adopt', u'adopted', u'adopter', u'adore', u'ads', u'adult', u'adults', u'advance', u'advanced', u'advancements', u'advances', u'advantage', u'advantages', u'advertise', u'advertised', u'advertisement', u'advertisements', u'advertises', u'advertising', u'advice', u'advise', u'advised', u'aesthetic', u'aesthetically', u'aesthetics', u'affairs', u'affect', u'affected', u'affects', u'afford', u'affords', u'afraid', u'after', u'afternoon', u'afterwards', u'again', u'against', u'age', u'agent', u'ages', u'aggravating', u'aggravation', u'ago', u'agree', u'ahead', u'aid', u'aint', u'air', u'airline', u'airlines', u'airport', u'al', u'alas', u'alert', u'alerted', u'alerting', u'alerts', u'all', u'allot', u'allow', u'allowance', u'allowed', u'allowing', u'allows', u'ally', u'almost', u'alone', u'along', u'alot', u'already', u'alright', u'also', u'alter', u'alternative', u'although', u'altogether', u'alway', u'always', u'am', u'amaze', u'amazed', u'amazes', u'amazing', u'amazingly', u'america', u'american', u'americas', u'amex', u'among', u'amongst', u'amount', u'amounts', u'amp', u'ample', u'amt', u'an', u'analysis', u'analyze', u'ancient', u'and', u'andor', u'angle', u'angry', u'animation', u'animations', u'announced', u'annoy', u'annoyance', u'annoyances', u'annoyed', u'annoying', u'annoys', u'annual', u'another', u'answer', u'answered', u'answers', u'anticipated', u'antiquated', u'any', u'anyall', u'anybody', u'anyhow', u'anymore', u'anyone', u'anyplace', u'anything', u'anytime', u'anyway', u'anyways', u'anywhere', u'anywhereanytime', u'ap', u'apart', u'api', u'app', u'appalled', u'appand', u'apparent', u'apparently', u'appbut', u'appeal', u'appealing', u'appear', u'appearance', u'appeared', u'appearing', u'appears', u'appeasy', u'appfor', u'appi', u'appit', u'appits', u'applaud', u'apple', u'applepay', u'apples', u'application', u'applications', u'applied', u'applies', u'apply', u'applying', u'appmakes', u'appmy', u'appnow', u'appplease', u'appreciate', u'appreciated', u'appreciation', u'appreciative', u'apprehensive', u'approach', u'appropriate', u'approval', u'approve', u'approved', u'approx', u'approximately', u'apps', u'appthank', u'appthanks', u'appthe', u'appthis', u'appuse', u'appvery', u'apr', u'april', u'aps', u'arbitrary', u'archaic', u'are', u'area', u'areas', u'arent', u'arise', u'arises', u'arizona', u'arkansas', u'arm', u'army', u'around', u'arrange', u'arrive', u'arrived', u'arrow', u'arrows', u'art', u'as', u'asap', u'aside', u'ask', u'asked', u'asking', u'asks', u'aspect', u'aspects', u'aspire', u'asset', u'assets', u'assign', u'assigned', u'assist', u'assistance', u'assistant', u'assisting', u'associate', u'associated', u'associates', u'assume', u'assumed', u'assuming', u'assured', u'at', u'atampt', u'atleast', u'atm', u'atmbranch', u'atms', u'attach', u'attached', u'attempt', u'attempted', u'attempting', u'attempts', u'attention', u'attitude', u'attractive', u'august', u'authenticate', u'authenticated', u'authenticating', u'authentication', u'authorization', u'authorize', u'authorized', u'auto', u'automated', u'automatic', u'automatically', u'autopay', u'avail', u'availability', u'available', u'average', u'avoid', u'avoided', u'avoiding', u'avoids', u'award', u'awards', u'aware', u'awareness', u'away', u'awesome', u'awesomeness', u'awful', u'awhile', u'awkward', u'awkwardly', u'awsome', u'baby', u'babysitter', u'back', u'backandforth', u'backed', u'backend', u'background', u'backgrounds', u'backing', u'backup', u'backward', u'backwards', u'bad', u'badge', u'badges', u'badly', u'baffled', u'baking', u'bal', u'balance', u'balanced', u'balancei', u'balances', u'balancetransactions', u'balancing', u'ball', u'bam', u'bank', u'bankatm', u'bankcredit', u'banked', u'banker', u'bankers', u'banki', u'banking', u'bankingcredit', u'banks', u'banner', u'banners', u'bar', u'barclay', u'barclays', u'bare', u'barely', u'barrier', u'base', u'based', u'bases', u'basic', u'basically', u'basics', u'basis', u'bat', u'bay', u'bbampt', u'bc', u'be', u'beach', u'beat', u'beats', u'beautiful', u'beautifully', u'beauty', u'became', u'because', u'become', u'becomes', u'becoming', u'bed', u'beef', u'been', u'before', u'began', u'begin', u'beginning', u'begins', u'begun', u'behalf', u'behave', u'behavior', u'behind', u'being', u'believe', u'bells', u'belong', u'belongs', u'below', u'bend', u'beneficial', u'benefit', u'benefits', u'beside', u'besides', u'best', u'bet', u'beta', u'better', u'between', u'beware', u'beyond', u'big', u'bigger', u'biggest', u'bill', u'billing', u'billion', u'billpay', u'bills', u'bind', u'biometric', u'biometrics', u'birthday', u'bit', u'biweekly', u'biz', u'bizarre', u'black', u'blah', u'blame', u'bland', u'blank', u'bless', u'blessing', u'blind', u'blink', u'block', u'blocked', u'blocks', u'blow', u'blown', u'blows', u'blue', u'blueprint', u'blur', u'blurry', u'bmo', u'boa', u'board', u'boas', u'body', u'bofa', u'bofas', u'bogus', u'bold', u'bomb', u'bonus', u'boo', u'book', u'booking', u'books', u'boom', u'boot', u'boring', u'both', u'bother', u'bothered', u'bothering', u'bothers', u'bothersome', u'bottom', u'bought', u'bounced', u'bounds', u'bout', u'box', u'boxes', u'boy', u'boyfriend', u'brag', u'brain', u'brainer', u'branch', u'branchatm', u'branches', u'branchesatms', u'brand', u'bravo', u'breach', u'bread', u'break', u'breakdown', u'breaker', u'breakfast', u'breaking', u'breaks', u'breath', u'breeze', u'breezy', u'brick', u'brief', u'bright', u'brilliant', u'brilliantly', u'bring', u'bringing', u'brings', u'broke', u'broken', u'brokerage', u'brought', u'browse', u'browser', u'browsers', u'browsing', u'bs', u'btw', u'bubble', u'bucks', u'budget', u'budgeting', u'budgets', u'bug', u'bugging', u'buggy', u'bugs', u'build', u'building', u'buildings', u'built', u'bummer', u'bump', u'bunch', u'burden', u'buried', u'bus', u'business', u'businesses', u'busy', u'but', u'button', u'buttons', u'buy', u'buying', u'by', u'bye', u'bypass', u'ca', u'cache', u'cake', u'calculate', u'calculated', u'calculations', u'calculator', u'calendar', u'california', u'call', u'called', u'calling', u'calls', u'came', u'camera', u'cameras', u'camper', u'can', u'cancel', u'canceled', u'canceling', u'cancelled', u'candle', u'candy', u'cannot', u'cant', u'cap', u'capabilities', u'capability', u'capable', u'capital', u'capitalone', u'capitol', u'capture', u'captured', u'captures', u'car', u'card', u'cards', u'care', u'careful', u'carefully', u'cares', u'caring', u'carolina', u'carrier', u'carry', u'carrying', u'case', u'cases', u'cash', u'cashed', u'cashier', u'cashiers', u'cashing', u'catch', u'catching', u'catchup', u'categories', u'categorization', u'categorize', u'category', u'caught', u'cause', u'caused', u'causes', u'causing', u'cautious', u'caveat', u'cc', u'ccs', u'ceiling', u'cell', u'cellphone', u'cellular', u'center', u'centered', u'centers', u'cents', u'century', u'certain', u'certainly', u'chace', u'chade', u'chair', u'challenge', u'challenged', u'challenges', u'challenging', u'champ', u'chance', u'chances', u'change', u'changed', u'changer', u'changes', u'changing', u'character', u'characters', u'charge', u'charged', u'charges', u'charging', u'charm', u'chart', u'charts', u'chase', u'chasepay', u'chases', u'chasing', u'chat', u'cheap', u'check', u'checkbook', u'checked', u'checking', u'checkings', u'checkingsavings', u'checkout', u'checks', u'cheers', u'cheque', u'cheques', u'chicago', u'child', u'children', u'childrens', u'chill', u'china', u'chip', u'choice', u'choices', u'choose', u'chooses', u'choosing', u'chore', u'chores', u'chose', u'chosen', u'christmas', u'chrome', u'chronological', u'cinch', u'circle', u'circles', u'circular', u'circumstances', u'citi', u'citibank', u'cities', u'citis', u'citizen', u'city', u'ck', u'claim', u'claiming', u'claims', u'clarity', u'class', u'classy', u'clean', u'cleaned', u'cleaner', u'cleanest', u'cleanly', u'clear', u'cleared', u'clearer', u'clearing', u'clearly', u'clears', u'clever', u'click', u'clickable', u'clicked', u'clicking', u'clicks', u'client', u'clients', u'clock', u'close', u'closed', u'closely', u'closer', u'closes', u'closest', u'closing', u'clue', u'clueless', u'clumsy', u'clunky', u'clutter', u'cluttered', u'cluttering', u'cmon', u'co', u'coast', u'codes', u'coding', u'coffee', u'collect', u'collecting', u'college', u'color', u'colorful', u'colors', u'combination', u'combine', u'combined', u'combines', u'combo', u'come', u'comes', u'comfort', u'comfortable', u'comforting', u'coming', u'comma', u'commands', u'comment', u'commented', u'comments', u'commercial', u'commercials', u'commission', u'commitment', u'committed', u'common', u'commonly', u'communicate', u'communication', u'community', u'commute', u'compact', u'companies', u'companion', u'company', u'companys', u'comparable', u'comparatively', u'compare', u'compared', u'compares', u'comparing', u'comparison', u'comparisons', u'compass', u'compatibility', u'compatible', u'compelled', u'compete', u'competent', u'competing', u'competition', u'competitive', u'competitor', u'competitors', u'complain', u'complained', u'complaining', u'complains', u'complaint', u'complaints', u'complete', u'completed', u'completely', u'completing', u'complex', u'complexity', u'complicated', u'complications', u'compliment', u'component', u'comprehensive', u'compromise', u'compromised', u'compromising', u'computer', u'computers', u'con', u'concept', u'concern', u'concerned', u'concerning', u'concerns', u'concise', u'conclusion', u'condition', u'conditions', u'conduct', u'confidence', u'confident', u'configuration', u'configure', u'configured', u'confirm', u'confirmation', u'confirmations', u'confirmed', u'confirming', u'confirms', u'confuse', u'confused', u'confuses', u'confusing', u'confusion', u'congrats', u'congratulations', u'connect', u'connected', u'connecting', u'connection', u'connections', u'connectivity', u'connects', u'connivence', u'cons', u'consider', u'considerable', u'considerably', u'consideration', u'considered', u'considering', u'considers', u'consistency', u'consistent', u'consistently', u'consolidated', u'constant', u'constantly', u'constructed', u'constructive', u'consultant', u'consumer', u'consumers', u'consuming', u'contact', u'contacted', u'contacting', u'contacts', u'contains', u'content', u'continual', u'continually', u'continue', u'continued', u'continues', u'continuing', u'continuous', u'continuously', u'contract', u'contractor', u'contractors', u'contrary', u'contrast', u'contrasting', u'control', u'controlling', u'controls', u'convenience', u'conveniences', u'convenient', u'convenienti', u'conveniently', u'convent', u'convienent', u'convienient', u'convient', u'convince', u'convinced', u'convinient', u'convoluted', u'cookies', u'cool', u'cooler', u'coolest', u'copied', u'copies', u'copy', u'copying', u'core', u'corner', u'corp', u'corporate', u'corporation', u'correct', u'corrected', u'correcting', u'correctly', u'corrects', u'corresponding', u'cost', u'costing', u'costly', u'costs', u'costumer', u'couch', u'could', u'couldnt', u'couldve', u'count', u'counter', u'counting', u'countless', u'countries', u'country', u'counts', u'couple', u'coupled', u'course', u'courteous', u'courtesy', u'cover', u'coverage', u'covered', u'covers', u'crap', u'crappy', u'crash', u'crashed', u'crashes', u'crashing', u'crazy', u'create', u'created', u'creates', u'creating', u'creation', u'creative', u'creators', u'credentials', u'credit', u'creditdebit', u'credited', u'credits', u'crisp', u'criteria', u'critical', u'criticism', u'critique', u'crooks', u'cross', u'crossed', u'crowded', u'crucial', u'cry', u'crystal', u'cs', u'cumbersome', u'curb', u'curious', u'currency', u'current', u'currently', u'curve', u'cust', u'custom', u'customer', u'customers', u'customizable', u'customization', u'customize', u'customized', u'cut', u'cute', u'cutoff', u'cuts', u'cutting', u'cuz', u'cyber', u'cycle', u'dad', u'daily', u'dallas', u'dang', u'dangerous', u'dark', u'darn', u'dashboard', u'data', u'date', u'dated', u'dates', u'daughter', u'daughters', u'day', u'days', u'daytime', u'daytoday', u'dc', u'dead', u'deal', u'dealing', u'dealings', u'deals', u'dealt', u'dear', u'debit', u'debitcredit', u'debited', u'debits', u'debt', u'debts', u'decade', u'decades', u'december', u'decent', u'decently', u'decide', u'decided', u'decides', u'decimal', u'decision', u'decisions', u'decline', u'declined', u'dedicated', u'dedication', u'deduct', u'deducted', u'deduction', u'deductions', u'deducts', u'deep', u'deeper', u'def', u'default', u'defaulted', u'defaults', u'defeats', u'defiantly', u'defined', u'definite', u'definitely', u'delay', u'delayed', u'delays', u'delete', u'deleted', u'deleting', u'delight', u'delightful', u'deliver', u'delivered', u'delivering', u'delivers', u'delivery', u'demand', u'demands', u'denied', u'deny', u'department', u'depend', u'dependable', u'dependent', u'depending', u'depends', u'deposit', u'deposited', u'depositing', u'deposits', u'dept', u'depth', u'describe', u'described', u'describes', u'description', u'descriptions', u'deserve', u'deserves', u'design', u'designated', u'designed', u'designer', u'designers', u'designing', u'designs', u'desire', u'desired', u'desk', u'desktop', u'desperately', u'despise', u'despite', u'destroy', u'detail', u'detailed', u'details', u'detect', u'detection', u'determine', u'determined', u'detroit', u'dev', u'develop', u'developed', u'developer', u'developers', u'developing', u'development', u'device', u'devices', u'devise', u'devs', u'dial', u'dialing', u'dialog', u'dialogue', u'did', u'didnt', u'die', u'died', u'dies', u'diff', u'difference', u'different', u'differentiate', u'differently', u'difficult', u'difficulties', u'difficulty', u'dig', u'digging', u'digit', u'digital', u'digitally', u'digits', u'dime', u'diminished', u'dinner', u'direct', u'directed', u'direction', u'directions', u'directly', u'directs', u'dirty', u'disability', u'disable', u'disabled', u'disables', u'disabling', u'disagree', u'disappear', u'disappeared', u'disappearing', u'disappears', u'disappoint', u'disappointed', u'disappointing', u'disappointment', u'disappoints', u'disaster', u'disclaimer', u'disconnect', u'discontinued', u'discouraging', u'discover', u'discovered', u'discovers', u'discrepancies', u'discuss', u'dislike', u'dismiss', u'dismissed', u'disney', u'disorganized', u'dispense', u'dispensing', u'display', u'displayed', u'displaying', u'displays', u'disposal', u'dispute', u'disputed', u'disputes', u'dissatisfied', u'distance', u'distinction', u'distinguish', u'distracting', u'ditto', u'dl', u'do', u'doable', u'documented', u'documents', u'does', u'doesnt', u'dog', u'dogs', u'doing', u'dollar', u'dollars', u'done', u'dont', u'door', u'dose', u'dot', u'dots', u'double', u'doubt', u'dough', u'down', u'downfall', u'downgrade', u'downgraded', u'downhill', u'download', u'downloaded', u'downloading', u'downside', u'downtime', u'downtown', u'dozen', u'dozens', u'draft', u'drafted', u'drafting', u'drag', u'drama', u'drastically', u'draw', u'drawback', u'drawn', u'dread', u'dreadful', u'dream', u'drill', u'drive', u'driven', u'driver', u'drives', u'drivethru', u'driving', u'droid', u'drop', u'dropped', u'dropping', u'drops', u'drove', u'due', u'duh', u'dull', u'dumb', u'duplicate', u'during', u'dust', u'dynamic', u'each', u'earlier', u'early', u'earn', u'earned', u'earning', u'earth', u'ease', u'easeofuse', u'easier', u'easiest', u'easily', u'easiness', u'east', u'eastern', u'easy', u'easytouse', u'eat', u'eating', u'ebay', u'ebills', u'economy', u'ect', u'edeposit', u'edge', u'edit', u'edited', u'editing', u'edition', u'effect', u'effective', u'effectively', u'efficiency', u'efficient', u'efficiently', u'effing', u'effort', u'effortless', u'effortlessly', u'efforts', u'eg', u'eight', u'either', u'elderly', u'electronic', u'electronically', u'elegant', u'elementary', u'elements', u'eligible', u'eliminate', u'eliminated', u'eliminates', u'eliminating', u'else', u'elses', u'elsewhere', u'email', u'emailed', u'emails', u'embarrassing', u'embarrassment', u'embrace', u'emergencies', u'emergency', u'employed', u'employee', u'employees', u'employer', u'empty', u'emulate', u'enable', u'enabled', u'enables', u'enabling', u'encounter', u'encountered', u'encourage', u'encourages', u'encryption', u'end', u'ended', u'ending', u'endless', u'endorse', u'endorsed', u'endorsement', u'ends', u'energy', u'engineer', u'engineering', u'engineers', u'english', u'enhance', u'enhanced', u'enhancement', u'enhancements', u'enjoy', u'enjoyable', u'enjoyed', u'enjoying', u'enough', u'enroll', u'enrolled', u'ensure', u'ensuring', u'enter', u'entered', u'entering', u'entertainment', u'entire', u'entirely', u'entries', u'entry', u'envelope', u'envelopes', u'environment', u'epitome', u'equal', u'equally', u'era', u'erase', u'erased', u'errands', u'erroneous', u'error', u'errors', u'escrow', u'esp', u'especially', u'essential', u'essentially', u'essentials', u'est', u'establish', u'established', u'estate', u'estimated', u'et', u'etc', u'etci', u'etrade', u'europe', u'even', u'evening', u'event', u'eventually', u'ever', u'every', u'everybody', u'everyday', u'everyone', u'everyones', u'everything', u'everythings', u'everytime', u'everywhere', u'evident', u'evil', u'evolve', u'evolved', u'evolving', u'ex', u'exact', u'exactly', u'example', u'examples', u'exceed', u'exceeded', u'exceeding', u'exceeds', u'excellence', u'excellent', u'excellently', u'excels', u'except', u'exception', u'exceptional', u'exceptionally', u'exceptions', u'excessive', u'exchange', u'excited', u'exciting', u'exclusively', u'excuse', u'excuses', u'execute', u'executed', u'execution', u'exemplary', u'exercise', u'exist', u'existed', u'existence', u'existing', u'exists', u'exit', u'exiting', u'expand', u'expanded', u'expect', u'expectations', u'expected', u'expecting', u'expenditures', u'expense', u'expenses', u'expensive', u'experience', u'experienced', u'experiences', u'experiencing', u'expert', u'expired', u'explain', u'explained', u'explains', u'explanation', u'explanatory', u'explore', u'exploring', u'express', u'extend', u'extended', u'extension', u'extensive', u'extensively', u'extent', u'external', u'extra', u'extraneous', u'extreme', u'extremely', u'eye', u'eyes', u'ez', u'fabulous', u'face', u'facebook', u'faced', u'facilitate', u'facilitates', u'facilities', u'facility', u'fact', u'factor', u'fail', u'failed', u'failing', u'fails', u'failure', u'failures', u'fair', u'fairly', u'faith', u'fake', u'fall', u'falling', u'falls', u'false', u'familiar', u'families', u'family', u'familys', u'fan', u'fancy', u'fantastic', u'fantastically', u'faq', u'faqs', u'far', u'fargo', u'fargos', u'farther', u'fashion', u'fashioned', u'fast', u'faster', u'fastest', u'fat', u'fault', u'faulty', u'fav', u'fave', u'favor', u'favorite', u'favorites', u'fear', u'feat', u'feature', u'featured', u'features', u'featuresi', u'fed', u'federal', u'fee', u'feed', u'feedback', u'feel', u'feeling', u'feels', u'fees', u'feet', u'fell', u'fellow', u'felt', u'few', u'fewer', u'fianc', u'fico', u'fidelity', u'field', u'fields', u'fifth', u'fight', u'fighting', u'figure', u'figured', u'figures', u'figuring', u'file', u'filing', u'fill', u'filled', u'filling', u'fills', u'filter', u'filters', u'final', u'finally', u'finance', u'finances', u'financial', u'financially', u'financials', u'financing', u'find', u'finder', u'finding', u'finds', u'fine', u'fined', u'finest', u'finger', u'fingerprint', u'fingerprints', u'fingers', u'fingertip', u'fingertips', u'finicky', u'finish', u'finished', u'fir', u'fire', u'fired', u'firm', u'firmware', u'first', u'fish', u'fit', u'fits', u'five', u'fivestar', u'fix', u'fixed', u'fixes', u'fixing', u'fl', u'flag', u'flagged', u'flags', u'flash', u'flashy', u'flat', u'flaw', u'flawless', u'flawlessly', u'flaws', u'flexibility', u'flexible', u'flight', u'flights', u'flip', u'float', u'florida', u'flow', u'flows', u'fluff', u'fluid', u'fluidly', u'fly', u'flying', u'focus', u'focused', u'focuses', u'folder', u'folks', u'follow', u'followed', u'following', u'follows', u'fond', u'font', u'fonts', u'food', u'fool', u'foot', u'for', u'forbid', u'force', u'forced', u'forces', u'forcing', u'forefront', u'foreign', u'foremost', u'forever', u'forget', u'forgetful', u'forgets', u'forgetting', u'forgot', u'forgotten', u'form', u'format', u'formats', u'formatted', u'formatting', u'former', u'formerly', u'forms', u'forth', u'fortunately', u'forward', u'found', u'four', u'fourth', u'frame', u'frames', u'frankly', u'fraud', u'fraudulent', u'freakin', u'freaking', u'free', u'freedom', u'freely', u'freeze', u'freezes', u'freezing', u'frequency', u'frequent', u'frequently', u'fresh', u'friday', u'fridays', u'friend', u'friendlier', u'friendliness', u'friendly', u'friends', u'frills', u'from', u'front', u'frost', u'froze', u'frozen', u'frustrated', u'frustrates', u'frustrating', u'frustration', u'frustrations', u'fuel', u'fulfills', u'full', u'fully', u'fumble', u'fun', u'function', u'functional', u'functionalities', u'functionality', u'functionally', u'functioned', u'functioning', u'functions', u'fund', u'funding', u'funds', u'funny', u'further', u'furthermore', u'fuss', u'fussy', u'future', u'futuristic', u'fyi', u'gadgets', u'gain', u'galaxy', u'game', u'games', u'garbage', u'gas', u'gave', u'gb', u'gem', u'gen', u'general', u'generally', u'generate', u'generated', u'generation', u'generic', u'genius', u'get', u'gets', u'getting', u'giant', u'gift', u'gifts', u'girl', u'girlfriend', u'give', u'given', u'gives', u'giving', u'glad', u'glance', u'glaring', u'glasses', u'glitch', u'glitched', u'glitches', u'glitchy', u'go', u'goal', u'goals', u'god', u'godsend', u'goes', u'going', u'gold', u'golden', u'gone', u'gonna', u'good', u'goodbye', u'goodness', u'google', u'gorgeous', u'gosh', u'got', u'goto', u'gotta', u'gotten', u'government', u'gps', u'gr', u'grab', u'grace', u'grade', u'graduated', u'grand', u'grandma', u'grandmother', u'granted', u'graph', u'graphic', u'graphically', u'graphics', u'graphs', u'grate', u'grateful', u'gray', u'great', u'greater', u'greatest', u'greati', u'greatly', u'greats', u'greedy', u'green', u'greeted', u'greeting', u'greetings', u'greets', u'grey', u'gripe', u'gripes', u'groceries', u'grocery', u'ground', u'group', u'grouped', u'groups', u'grow', u'growing', u'grown', u'gs', u'gt', u'guess', u'guessing', u'gui', u'guide', u'guidelines', u'guy', u'guys', u'ha', u'habit', u'habits', u'hack', u'hacked', u'hacker', u'hackers', u'hacking', u'had', u'hadnt', u'haha', u'hahaha', u'hair', u'half', u'halfway', u'hamburger', u'hand', u'handful', u'handicapped', u'handing', u'handle', u'handled', u'handles', u'handling', u'hands', u'handsdown', u'handwriting', u'handwritten', u'handy', u'hang', u'hanging', u'hangs', u'happen', u'happened', u'happening', u'happens', u'happier', u'happily', u'happy', u'hard', u'harder', u'hardest', u'hardly', u'has', u'hasnt', u'hassle', u'hassles', u'hat', u'hate', u'hated', u'hating', u'hats', u'have', u'havent', u'having', u'hawaii', u'he', u'head', u'headache', u'headaches', u'headed', u'heading', u'heads', u'health', u'hear', u'heard', u'hearing', u'heart', u'heaven', u'heavily', u'heavy', u'heck', u'hectic', u'held', u'hell', u'hello', u'help', u'helped', u'helpful', u'helpfulness', u'helping', u'helps', u'hence', u'her', u'here', u'heres', u'hes', u'heshe', u'hesitant', u'hesitate', u'hey', u'hi', u'hiccup', u'hiccups', u'hidden', u'hide', u'hides', u'hiding', u'high', u'higher', u'highest', u'highlight', u'highlighted', u'highly', u'him', u'hint', u'hire', u'hired', u'his', u'historical', u'histories', u'history', u'hit', u'hitch', u'hitches', u'hits', u'hitting', u'hold', u'holder', u'holders', u'holding', u'holds', u'holiday', u'holidays', u'home', u'homepage', u'honest', u'honestly', u'honesty', u'hooked', u'hoops', u'hooray', u'hope', u'hoped', u'hopefully', u'hopes', u'hoping', u'horizontal', u'horrendous', u'horrible', u'horribly', u'hot', u'hotel', u'hour', u'hours', u'house', u'household', u'how', u'however', u'hrs', u'hsbc', u'huge', u'hugely', u'huh', u'human', u'humble', u'hundred', u'hundreds', u'hung', u'hunt', u'hunting', u'huntington', u'hurry', u'hurt', u'husband', u'husbands', u'hype', u'iam', u'ice', u'icing', u'icloud', u'icon', u'icons', u'id', u'idea', u'ideal', u'ideas', u'identical', u'identification', u'identified', u'identify', u'identifying', u'identity', u'idiot', u'idiots', u'idk', u'idle', u'ids', u'ie', u'if', u'iffy', u'ignore', u'ignored', u'ignoring', u'ii', u'ill', u'illiterate', u'im', u'image', u'images', u'imagine', u'imagined', u'imaging', u'imho', u'immediate', u'immediately', u'immensely', u'imo', u'impaired', u'impeccable', u'implement', u'implementation', u'implemented', u'implementing', u'importance', u'important', u'importantly', u'impossible', u'impress', u'impressed', u'impression', u'impressive', u'improve', u'improved', u'improvement', u'improvements', u'improves', u'improving', u'in', u'inability', u'inaccessible', u'inaccurate', u'inactive', u'inactivity', u'inadequate', u'inapp', u'inbox', u'incarnation', u'incase', u'inception', u'inch', u'incidents', u'inclined', u'include', u'included', u'includes', u'including', u'inclusion', u'income', u'incoming', u'incompetent', u'inconsistency', u'inconsistent', u'inconvenience', u'inconvenient', u'incorporate', u'incorporated', u'incorporating', u'incorrect', u'incorrectly', u'increase', u'increased', u'increases', u'increasing', u'incredible', u'incredibly', u'incurred', u'indeed', u'independent', u'indepth', u'india', u'indicate', u'indicated', u'indicates', u'indicating', u'indication', u'indicator', u'indispensable', u'individual', u'individually', u'individuals', u'industry', u'inefficient', u'infinitely', u'info', u'inform', u'information', u'informational', u'informative', u'informed', u'informing', u'informs', u'infuriating', u'ini', u'initial', u'initially', u'initiate', u'initiated', u'ink', u'innovate', u'innovating', u'innovation', u'innovations', u'innovative', u'input', u'inputting', u'inquiries', u'inquiry', u'ins', u'insane', u'insanely', u'insert', u'inside', u'insist', u'install', u'installation', u'installed', u'installing', u'instance', u'instances', u'instant', u'instantaneous', u'instantaneously', u'instantly', u'instead', u'institution', u'institutions', u'instructions', u'insufficient', u'insurance', u'integral', u'integrate', u'integrated', u'integrates', u'integrating', u'integration', u'intelligent', u'intend', u'intended', u'interact', u'interaction', u'interactions', u'interactive', u'interest', u'interested', u'interesting', u'interests', u'interface', u'interfaces', u'intermittent', u'internal', u'international', u'internationally', u'internet', u'interruption', u'into', u'intro', u'introduce', u'introduced', u'intrusive', u'intuitive', u'intuitively', u'invalid', u'invaluable', u'invented', u'invention', u'invest', u'invested', u'investigated', u'investigation', u'investing', u'investment', u'investments', u'inviting', u'invoices', u'involve', u'involved', u'involves', u'ios', u'ipad', u'ipads', u'iphone', u'iphoneipad', u'iphones', u'ipod', u'ira', u'irrelevant', u'irritated', u'irritating', u'irritation', u'is', u'isnt', u'iso', u'issue', u'issued', u'issues', u'it', u'itd', u'item', u'itemized', u'items', u'iteration', u'iterations', u'iti', u'itit', u'itits', u'itll', u'itouch', u'its', u'itself', u'itthis', u'itunes', u'iv', u'ive', u'jam', u'jamie', u'january', u'jersey', u'jesus', u'job', u'jobs', u'join', u'joined', u'joint', u'joke', u'journey', u'joy', u'jp', u'jpm', u'jpmc', u'jpmorgan', u'judge', u'july', u'jump', u'jumping', u'june', u'junk', u'just', u'keep', u'keeper', u'keeping', u'keeps', u'kept', u'key', u'keyboard', u'keychain', u'keypad', u'keys', u'kick', u'kicked', u'kicking', u'kicks', u'kid', u'kidding', u'kids', u'kill', u'killer', u'killing', u'kills', u'kind', u'kinda', u'kindle', u'kinds', u'king', u'kinks', u'kitchen', u'knew', u'knock', u'know', u'knowing', u'knowledgable', u'knowledge', u'knowledgeable', u'known', u'knows', u'kudos', u'la', u'label', u'labeled', u'labor', u'laborious', u'lack', u'lacking', u'lacks', u'ladies', u'lady', u'lag', u'lagging', u'laggy', u'lags', u'laid', u'lame', u'land', u'landing', u'landlord', u'landscape', u'language', u'lap', u'laptop', u'large', u'larger', u'largest', u'last', u'lastly', u'late', u'lately', u'later', u'latest', u'latter', u'laugh', u'launch', u'launched', u'lay', u'layer', u'layers', u'laying', u'layout', u'laziness', u'lazy', u'lead', u'leader', u'leading', u'leads', u'leap', u'leaps', u'learn', u'learned', u'learning', u'lease', u'least', u'leave', u'leaves', u'leaving', u'led', u'ledger', u'left', u'legacy', u'legal', u'legible', u'legit', u'leisure', u'length', u'lengthy', u'less', u'lesson', u'lessons', u'let', u'lets', u'letter', u'letters', u'letting', u'level', u'levels', u'library', u'lie', u'lies', u'lieu', u'life', u'lifes', u'lifesaver', u'lifestyle', u'lift', u'light', u'lighting', u'lightning', u'lights', u'like', u'liked', u'likely', u'likes', u'liking', u'lil', u'limit', u'limitation', u'limitations', u'limited', u'limiting', u'limits', u'line', u'lines', u'link', u'linked', u'linking', u'links', u'liquid', u'list', u'listed', u'listen', u'listened', u'listening', u'listing', u'lists', u'lit', u'literally', u'little', u'live', u'lived', u'lives', u'living', u'load', u'loaded', u'loading', u'loads', u'loan', u'loans', u'lobby', u'local', u'locate', u'located', u'locating', u'location', u'locations', u'locator', u'lock', u'locked', u'locking', u'locks', u'log', u'logged', u'logging', u'logic', u'logical', u'logically', u'login', u'logins', u'logo', u'logoff', u'logon', u'logout', u'logs', u'lol', u'long', u'longer', u'longest', u'longtime', u'look', u'looked', u'looking', u'looks', u'lookup', u'loop', u'loose', u'lord', u'lose', u'loses', u'losing', u'loss', u'lost', u'lot', u'lots', u'lousy', u'love', u'loved', u'lovely', u'loves', u'loving', u'low', u'lower', u'lowercase', u'lowered', u'lowest', u'loyal', u'loyalty', u'lt', u'lte', u'luck', u'luckily', u'lucky', u'lunch', u'luv', u'luxury', u'lying', u'ma', u'mac', u'machine', u'machines', u'mad', u'made', u'magic', u'magically', u'mail', u'mailbox', u'mailed', u'mailing', u'main', u'mainly', u'maintain', u'maintained', u'maintaining', u'maintains', u'maintenance', u'major', u'majority', u'make', u'maker', u'makes', u'making', u'malfunction', u'malfunctioning', u'malfunctions', u'mall', u'man', u'manage', u'manageable', u'managed', u'management', u'manager', u'managers', u'manages', u'managing', u'mandatory', u'maneuver', u'mange', u'manhattan', u'manipulate', u'manner', u'manual', u'manually', u'many', u'map', u'maps', u'march', u'mark', u'marked', u'market', u'marketing', u'marks', u'marriott', u'massive', u'master', u'match', u'matched', u'matches', u'math', u'matter', u'matters', u'max', u'maximum', u'may', u'maybe', u'me', u'mean', u'meaning', u'means', u'meant', u'meantime', u'measure', u'measures', u'media', u'mediocre', u'meet', u'meeting', u'meets', u'mega', u'meh', u'mei', u'member', u'members', u'memo', u'memorize', u'memory', u'memos', u'mental', u'mentally', u'mention', u'mentioned', u'mentioning', u'menu', u'menus', u'merchant', u'merchants', u'mere', u'merely', u'mess', u'message', u'messages', u'messaging', u'messed', u'messes', u'messing', u'messy', u'met', u'method', u'methods', u'mexico', u'middle', u'midnight', u'might', u'mile', u'mileage', u'miles', u'military', u'millennial', u'million', u'millions', u'min', u'mind', u'mine', u'mini', u'minimal', u'minimize', u'minimum', u'minor', u'mins', u'mint', u'minus', u'minute', u'minutes', u'mirror', u'misleading', u'misplace', u'misplaced', u'miss', u'missed', u'missing', u'mistake', u'mistaken', u'mistakes', u'mix', u'mixed', u'mo', u'mobil', u'mobile', u'mobility', u'mode', u'model', u'models', u'modern', u'modifications', u'modify', u'mom', u'moment', u'moments', u'moms', u'monday', u'monetary', u'money', u'moneyi', u'moneys', u'monies', u'monitor', u'monitoring', u'month', u'monthly', u'months', u'moon', u'more', u'moreover', u'morgan', u'morning', u'mortar', u'mortgage', u'mortgages', u'most', u'mostly', u'mother', u'motions', u'move', u'moved', u'movement', u'movements', u'moves', u'movie', u'moving', u'msg', u'much', u'multi', u'multiple', u'multitasking', u'music', u'must', u'musthave', u'mutual', u'my', u'myself', u'na', u'nagging', u'nail', u'nailed', u'name', u'namely', u'names', u'nasty', u'national', u'native', u'natural', u'naturally', u'nature', u'navigable', u'navigate', u'navigated', u'navigatei', u'navigates', u'navigating', u'navigation', u'navy', u'nd', u'near', u'nearby', u'nearest', u'nearly', u'neat', u'neatly', u'necessarily', u'necessary', u'necessities', u'necessity', u'neck', u'need', u'needed', u'needing', u'needless', u'needlessly', u'needs', u'negative', u'negatives', u'neither', u'nerve', u'nervous', u'net', u'network', u'never', u'nevertheless', u'new', u'newer', u'newest', u'newly', u'news', u'next', u'nice', u'nicely', u'nicer', u'nicest', u'nickname', u'nicknames', u'nifty', u'night', u'nightmare', u'nights', u'nitpicky', u'nj', u'no', u'nobody', u'nobrainer', u'non', u'nonchase', u'none', u'nonetheless', u'nonexistent', u'nonfunctional', u'nonmobile', u'nonsense', u'nope', u'nor', u'normal', u'normally', u'north', u'not', u'notch', u'note', u'noted', u'notes', u'nothing', u'nothings', u'notice', u'noticeable', u'noticed', u'notices', u'noticing', u'notification', u'notifications', u'notified', u'notifies', u'notify', u'notifying', u'nov', u'november', u'now', u'nowadays', u'nowhere', u'nsf', u'nuff', u'nuisance', u'number', u'numbers', u'numeric', u'numerous', u'nuts', u'ny', u'nyc', u'obligations', u'obnoxious', u'obsolete', u'obtain', u'obvious', u'obviously', u'occasion', u'occasional', u'occasionally', u'occasions', u'occur', u'occurred', u'occurring', u'occurs', u'ocd', u'ocr', u'october', u'odd', u'of', u'off', u'offer', u'offered', u'offering', u'offerings', u'offers', u'office', u'offices', u'official', u'officially', u'offline', u'often', u'oh', u'ok', u'okay', u'old', u'older', u'omg', u'on', u'once', u'one', u'ones', u'onetouch', u'ongoing', u'online', u'only', u'onthego', u'onto', u'open', u'opened', u'opening', u'opens', u'operate', u'operates', u'operating', u'operation', u'operational', u'operations', u'operator', u'opinion', u'opportunities', u'opportunity', u'opposed', u'opposite', u'opt', u'opted', u'optimal', u'optimization', u'optimize', u'optimized', u'option', u'optional', u'options', u'or', u'order', u'ordered', u'ordering', u'orders', u'ordinary', u'organization', u'organize', u'organized', u'orientation', u'oriented', u'original', u'originally', u'os', u'other', u'others', u'otherwise', u'ought', u'our', u'out', u'outages', u'outdated', u'outdone', u'outgoing', u'outline', u'outside', u'outstanding', u'over', u'overall', u'overdraft', u'overdrafted', u'overdrafts', u'overdraw', u'overdrawing', u'overdrawn', u'overdue', u'overhaul', u'overhead', u'overkill', u'overlooked', u'overly', u'overnight', u'override', u'overseas', u'oversight', u'overspending', u'overview', u'owe', u'owed', u'own', u'owner', u'owners', u'owning', u'pace', u'paced', u'pack', u'package', u'packed', u'pad', u'page', u'pages', u'paid', u'pain', u'painful', u'painless', u'paired', u'palm', u'panel', u'paper', u'paperless', u'par', u'parameters', u'paranoid', u'parent', u'parents', u'park', u'parking', u'part', u'partial', u'partially', u'particular', u'particularly', u'parties', u'partner', u'parts', u'party', u'pass', u'passbook', u'passcode', u'passed', u'passes', u'password', u'passwords', u'past', u'paste', u'pat', u'patch', u'path', u'pathetic', u'patience', u'patient', u'pattern', u'pay', u'paycheck', u'paychecks', u'payday', u'payed', u'payee', u'payees', u'payer', u'paying', u'payment', u'payments', u'payoff', u'paypal', u'payroll', u'pays', u'pc', u'pdf', u'pdfs', u'peace', u'peak', u'peasy', u'peek', u'peers', u'penalty', u'pending', u'penny', u'people', u'peoples', u'per', u'percent', u'percentage', u'perfect', u'perfected', u'perfection', u'perfectly', u'perform', u'performance', u'performed', u'performing', u'performs', u'perhaps', u'period', u'periodic', u'periodically', u'periods', u'perk', u'perks', u'permanent', u'permanently', u'permission', u'permit', u'persistent', u'persists', u'person', u'personal', u'personalization', u'personalize', u'personalized', u'personally', u'personnel', u'persons', u'perspective', u'pertaining', u'pertains', u'pertinent', u'phenomenal', u'phone', u'phonei', u'phones', u'photo', u'photograph', u'photographing', u'photographs', u'photos', u'physical', u'physically', u'pic', u'pick', u'picking', u'picks', u'picky', u'pics', u'picture', u'pictures', u'pie', u'piece', u'pile', u'pin', u'pinch', u'pisses', u'pity', u'pix', u'place', u'placed', u'placement', u'places', u'plain', u'plan', u'planet', u'planned', u'planning', u'plans', u'platform', u'platforms', u'play', u'played', u'playing', u'pleasant', u'pleasantly', u'please', u'pleased', u'pleasing', u'pleasure', u'plenty', u'pls', u'plus', u'plz', u'pm', u'pmt', u'pnc', u'pocket', u'point', u'pointed', u'pointless', u'points', u'policies', u'policy', u'polished', u'polite', u'poor', u'poorly', u'pop', u'popped', u'popping', u'pops', u'popular', u'popup', u'popups', u'portable', u'portal', u'portfolio', u'portion', u'portrait', u'pos', u'position', u'positive', u'possibilities', u'possibility', u'possible', u'possibly', u'post', u'postage', u'posted', u'posting', u'postings', u'posts', u'potential', u'potentially', u'power', u'powerful', u'ppl', u'practical', u'practically', u'practices', u'praise', u'pre', u'precious', u'precise', u'prefer', u'preference', u'preferences', u'preferred', u'premium', u'prepared', u'presence', u'present', u'presentation', u'presented', u'presents', u'preset', u'press', u'pressed', u'pressing', u'prettier', u'pretty', u'prevent', u'prevented', u'preventing', u'prevention', u'prevents', u'preview', u'previews', u'previous', u'previously', u'price', u'priceless', u'primarily', u'primary', u'principal', u'principle', u'print', u'printed', u'printing', u'prints', u'prior', u'priority', u'privacy', u'private', u'privilege', u'pro', u'prob', u'probably', u'problem', u'problematic', u'problems', u'procedure', u'proceed', u'process', u'processed', u'processes', u'processing', u'produce', u'product', u'productive', u'productivity', u'products', u'professional', u'professionally', u'professionals', u'profile', u'profiles', u'profit', u'profits', u'program', u'programmed', u'programmer', u'programmers', u'programming', u'programs', u'progress', u'progressed', u'progressive', u'prominent', u'promise', u'promised', u'promises', u'promote', u'promoted', u'promotional', u'promotions', u'prompt', u'prompted', u'prompting', u'promptly', u'prompts', u'proof', u'proper', u'properly', u'property', u'props', u'pros', u'protect', u'protected', u'protecting', u'protection', u'protects', u'proud', u'prove', u'proved', u'proven', u'proves', u'provide', u'provided', u'provider', u'providers', u'provides', u'providing', u'proving', u'ps', u'public', u'pull', u'pulled', u'pulling', u'pulls', u'punch', u'purchase', u'purchased', u'purchases', u'purchasing', u'pure', u'purely', u'purpose', u'purposes', u'purse', u'push', u'pushed', u'pushes', u'pushing', u'put', u'puts', u'putting', u'pw', u'qa', u'qp', u'quality', u'qualm', u'quarterly', u'question', u'questionable', u'questions', u'quibble', u'quick', u'quickdeposit', u'quicken', u'quicker', u'quickest', u'quickly', u'quickpay', u'quickpays', u'quikpay', u'quirks', u'quirky', u'quit', u'quite', u'quits', u'rad', u'raise', u'raised', u'raising', u'ran', u'random', u'randomly', u'range', u'rank', u'rapid', u'rapidly', u'rare', u'rarely', u'rate', u'rated', u'rates', u'rather', u'rating', u'ratings', u'rave', u'raving', u'rd', u're', u'reach', u'reached', u'react', u'reactivate', u'read', u'readable', u'reader', u'readily', u'reading', u'reads', u'ready', u'real', u'reality', u'realize', u'realized', u'really', u'realtime', u'reappear', u'reason', u'reasonable', u'reasonably', u'reasons', u'reassurance', u'reassuring', u'reauthenticate', u'reauthorize', u'rebate', u'reboot', u'rebooted', u'rebooting', u'recall', u'receipt', u'receipts', u'receive', u'received', u'receives', u'receiving', u'recent', u'recently', u'reception', u'recipient', u'recipients', u'recognition', u'recognize', u'recognized', u'recognizes', u'recognizing', u'recommend', u'recommendation', u'recommendations', u'recommended', u'recommending', u'reconcile', u'reconciling', u'reconsider', u'record', u'recorded', u'records', u'recover', u'rectified', u'rectify', u'recurring', u'red', u'redeem', u'redeeming', u'redemption', u'redesign', u'redesigned', u'redirected', u'redo', u'redownload', u'redownloaded', u'redownloading', u'reduce', u'reduced', u'reduces', u'redundant', u'reenable', u'reenter', u'reentering', u'refer', u'reference', u'referred', u'refers', u'refined', u'reflect', u'reflected', u'reflection', u'reflects', u'refresh', u'refreshing', u'refund', u'refunded', u'refunds', u'refuse', u'refused', u'refuses', u'refusing', u'regard', u'regarding', u'regardless', u'regards', u'region', u'regional', u'regions', u'register', u'registered', u'registers', u'registration', u'regret', u'regular', u'regularly', u'reimbursed', u'reinstall', u'reinstalled', u'reinstalling', u'reject', u'rejected', u'rejecting', u'rejects', u'related', u'relation', u'relationship', u'relative', u'relatively', u'relatives', u'relaunch', u'relearn', u'release', u'released', u'releases', u'releasing', u'relevant', u'reliability', u'reliable', u'reliably', u'relied', u'relief', u'religiously', u'reload', u'reloaded', u'reloading', u'relocated', u'relog', u'relogin', u'reluctant', u'rely', u'relying', u'remain', u'remaining', u'remains', u'remarkably', u'remember', u'remembered', u'remembering', u'remembers', u'remind', u'reminded', u'reminder', u'reminders', u'reminding', u'reminds', u'remote', u'remotely', u'removal', u'remove', u'removed', u'removes', u'removing', u'rendered', u'rendering', u'renders', u'rent', u'rental', u'renter', u'reoccurring', u'reopen', u'reopening', u'reorder', u'rep', u'repair', u'repairs', u'repay', u'repeat', u'repeated', u'repeatedly', u'repeating', u'replace', u'replaced', u'replacement', u'replaces', u'replacing', u'reply', u'report', u'reported', u'reporting', u'reports', u'representative', u'representatives', u'reps', u'request', u'requested', u'requesting', u'requests', u'require', u'required', u'requirement', u'requirements', u'requires', u'requiring', u'research', u'resent', u'reserve', u'reset', u'resets', u'resetting', u'resign', u'resolution', u'resolutions', u'resolve', u'resolved', u'resort', u'resource', u'resourceful', u'resources', u'respect', u'respective', u'respond', u'responded', u'responds', u'response', u'responses', u'responsibilities', u'responsibility', u'responsible', u'responsive', u'responsiveness', u'rest', u'restart', u'restarted', u'restarting', u'restaurant', u'restaurants', u'restore', u'restored', u'restricted', u'restriction', u'restrictions', u'result', u'resulted', u'resulting', u'results', u'retail', u'retake', u'retaking', u'retina', u'retired', u'retirement', u'retrieve', u'retry', u'return', u'returned', u'returns', u'retype', u'revamp', u'revamped', u'reverse', u'reversed', u'revert', u'reverts', u'review', u'reviewed', u'reviewer', u'reviewers', u'reviewing', u'reviews', u'revise', u'revised', u'revision', u'revisions', u'revolutionary', u'revolutionized', u'reward', u'rewards', u'rich', u'rid', u'ride', u'ridiculous', u'ridiculously', u'right', u'risk', u'road', u'robust', u'rock', u'rocket', u'rocks', u'roll', u'rolled', u'rolling', u'room', u'roommate', u'roommates', u'rotate', u'rotation', u'rough', u'round', u'rounded', u'route', u'router', u'routine', u'routinely', u'routing', u'row', u'rows', u'rude', u'ruin', u'ruined', u'ruins', u'rules', u'run', u'running', u'runs', u'rural', u'rush', u'sacrificing', u'sad', u'sadly', u'safari', u'safe', u'safely', u'safer', u'safety', u'said', u'sailing', u'sake', u'sale', u'sales', u'same', u'samsung', u'san', u'sapphire', u'satisfaction', u'satisfactory', u'satisfied', u'satisfies', u'satisfy', u'satisfying', u'saturday', u'save', u'saved', u'saver', u'saves', u'saving', u'savings', u'savior', u'savvy', u'saw', u'say', u'saying', u'says', u'scale', u'scam', u'scan', u'scanned', u'scanner', u'scanning', u'scans', u'scary', u'scene', u'scenery', u'schedule', u'scheduled', u'schedules', u'scheduling', u'scheme', u'school', u'science', u'scope', u'score', u'scores', u'scratch', u'screen', u'screens', u'screenshot', u'screenshots', u'screw', u'screwed', u'screwing', u'scroll', u'scrolling', u'se', u'seamless', u'seamlessly', u'search', u'searchable', u'searched', u'searches', u'searching', u'season', u'second', u'secondary', u'secondly', u'seconds', u'secret', u'section', u'sections', u'secure', u'secured', u'securely', u'security', u'see', u'seeing', u'seek', u'seeking', u'seem', u'seemed', u'seemingly', u'seems', u'seen', u'sees', u'seldom', u'select', u'selected', u'selecting', u'selection', u'selections', u'self', u'selfexplanatory', u'sell', u'selling', u'send', u'sending', u'sendreceive', u'sends', u'senior', u'sense', u'sensitive', u'sensor', u'sent', u'separate', u'separated', u'separately', u'separates', u'serena', u'serious', u'seriously', u'serve', u'served', u'server', u'servers', u'serves', u'service', u'serviceable', u'services', u'serving', u'session', u'sessions', u'set', u'sets', u'setting', u'settings', u'setup', u'seven', u'several', u'severely', u'sf', u'shaky', u'shame', u'shameful', u'share', u'sharp', u'she', u'shes', u'shift', u'shocked', u'shoot', u'shop', u'shopping', u'short', u'shortcoming', u'shortcut', u'shortly', u'shot', u'shots', u'should', u'shoulder', u'shoulders', u'shouldnt', u'show', u'showed', u'showing', u'shown', u'shows', u'shut', u'shuts', u'shutting', u'sick', u'side', u'sidebar', u'sides', u'sideways', u'sigh', u'sight', u'sign', u'signal', u'signature', u'signatures', u'signed', u'significant', u'significantly', u'signin', u'signing', u'signon', u'signs', u'silly', u'similar', u'similarly', u'simple', u'simpler', u'simplest', u'simplicity', u'simplified', u'simplifies', u'simplify', u'simplifying', u'simplistic', u'simply', u'simultaneously', u'since', u'sincerely', u'sing', u'single', u'sister', u'sit', u'site', u'sites', u'sits', u'sitting', u'situation', u'situations', u'six', u'size', u'sized', u'skeptical', u'sketchy', u'skills', u'skip', u'skyline', u'slate', u'sleek', u'sleeker', u'sleep', u'sleeping', u'sliced', u'slick', u'slide', u'slides', u'sliding', u'slight', u'slightest', u'slightly', u'slip', u'slips', u'sloppy', u'slow', u'slower', u'slowing', u'slowly', u'slows', u'sluggish', u'small', u'smaller', u'smart', u'smartphone', u'smell', u'smh', u'smile', u'smooth', u'smoother', u'smoothest', u'smoothly', u'sms', u'snail', u'snap', u'snapping', u'snappy', u'snaps', u'snapshot', u'snapshots', u'sneak', u'sneaky', u'snow', u'so', u'social', u'society', u'software', u'sold', u'sole', u'solely', u'solid', u'solution', u'solutions', u'solve', u'solved', u'solves', u'some', u'somebody', u'someday', u'somehow', u'someone', u'someones', u'something', u'somethings', u'sometime', u'sometimes', u'somewhat', u'somewhere', u'son', u'song', u'sons', u'soo', u'soon', u'sooner', u'sooo', u'soooo', u'sooooo', u'sophisticated', u'sorry', u'sort', u'sorted', u'sorting', u'sorts', u'sound', u'sounds', u'source', u'sources', u'south', u'southwest', u'space', u'spam', u'speak', u'speaking', u'speaks', u'special', u'specialist', u'specially', u'specific', u'specifically', u'specify', u'spectacular', u'speed', u'speedy', u'spend', u'spending', u'spendings', u'spends', u'spent', u'spinning', u'spins', u'spit', u'spite', u'splash', u'split', u'splitting', u'spoiled', u'spoke', u'sporadically', u'spot', u'spots', u'spotty', u'spouse', u'spread', u'square', u'ssn', u'st', u'stability', u'stable', u'staff', u'stage', u'stamp', u'stamps', u'stand', u'standard', u'standards', u'standing', u'standpoint', u'stands', u'staple', u'star', u'starbucks', u'stars', u'start', u'started', u'starters', u'starting', u'starts', u'state', u'stated', u'statement', u'statements', u'states', u'stating', u'station', u'status', u'statuses', u'stay', u'stayed', u'staying', u'stays', u'steadily', u'steady', u'steal', u'stealing', u'steals', u'stellar', u'step', u'stepped', u'stepping', u'steps', u'stick', u'sticking', u'still', u'stinks', u'stock', u'stocks', u'stole', u'stolen', u'stone', u'stop', u'stopped', u'stopping', u'stops', u'storage', u'store', u'stored', u'stores', u'storing', u'story', u'straight', u'straightforward', u'stranded', u'strange', u'stream', u'streamline', u'streamlined', u'streamlining', u'street', u'streets', u'stress', u'stressful', u'strict', u'strictly', u'striving', u'strokes', u'strong', u'stronger', u'strongly', u'structure', u'structured', u'struggle', u'stuck', u'student', u'students', u'study', u'stuff', u'stunning', u'stupid', u'style', u'stylish', u'sub', u'subject', u'submit', u'submitted', u'submitting', u'subpar', u'subsequent', u'substantial', u'subtle', u'subtract', u'subtracted', u'success', u'successful', u'successfully', u'such', u'sudden', u'suddenly', u'suffice', u'sufficient', u'suggest', u'suggested', u'suggestion', u'suggestions', u'suggests', u'suit', u'suite', u'suited', u'suits', u'sum', u'summaries', u'summary', u'summer', u'sums', u'sun', u'sunday', u'sundays', u'suntrust', u'super', u'superb', u'superior', u'supersedes', u'supper', u'supplies', u'supply', u'support', u'supported', u'supporting', u'supports', u'suppose', u'supposed', u'supposedly', u'sure', u'surely', u'surface', u'surpassed', u'surpasses', u'surprise', u'surprised', u'surprises', u'surprising', u'surprisingly', u'survive', u'suspect', u'suspicious', u'swear', u'sweet', u'swift', u'swiftly', u'swipe', u'swiped', u'swipes', u'swiping', u'switch', u'switched', u'switches', u'switching', u'symbol', u'symbols', u'sync', u'synced', u'syncs', u'system', u'systems', u'tab', u'table', u'tablet', u'tablets', u'tabs', u'tacky', u'tag', u'take', u'taken', u'takes', u'taking', u'talk', u'talked', u'talking', u'tap', u'tapped', u'tapping', u'taps', u'target', u'task', u'tasks', u'tax', u'taxes', u'tcf', u'td', u'te', u'teach', u'team', u'teams', u'tech', u'techie', u'technical', u'technically', u'technological', u'technologically', u'technologies', u'technology', u'techs', u'techy', u'tedious', u'teen', u'teenager', u'teenagers', u'teens', u'telephone', u'tell', u'teller', u'tellers', u'telling', u'tells', u'temporarily', u'temporary', u'ten', u'tend', u'tends', u'tennessee', u'term', u'terms', u'terrible', u'terribly', u'terrific', u'test', u'tested', u'testing', u'texas', u'text', u'texted', u'texting', u'texts', u'th', u'than', u'thank', u'thankful', u'thankfully', u'thanks', u'thanx', u'that', u'thatd', u'thatll', u'thats', u'the', u'thee', u'theft', u'their', u'theirs', u'them', u'theme', u'themselves', u'then', u'there', u'therefore', u'theres', u'these', u'they', u'theyd', u'theyll', u'theyre', u'theyve', u'thief', u'thier', u'thieves', u'thin', u'thing', u'things', u'think', u'thinking', u'thinks', u'third', u'thirty', u'this', u'tho', u'thorough', u'thoroughly', u'those', u'though', u'thought', u'thoughtful', u'thoughtfully', u'thoughtout', u'thoughts', u'thousand', u'thousands', u'three', u'threshold', u'thresholds', u'threw', u'thrilled', u'through', u'throughout', u'throw', u'throwing', u'thru', u'thumb', u'thumbprint', u'thumbs', u'thus', u'thx', u'thy', u'ticket', u'tickets', u'tie', u'tied', u'tier', u'tight', u'til', u'till', u'time', u'timed', u'timei', u'timely', u'timeout', u'times', u'timesaver', u'timesaving', u'timing', u'tiny', u'tip', u'tips', u'tired', u'title', u'to', u'today', u'todays', u'todo', u'tofrom', u'together', u'toggle', u'toilet', u'token', u'told', u'tomorrow', u'ton', u'tonight', u'tons', u'too', u'took', u'tool', u'tools', u'top', u'topnotch', u'tops', u'total', u'totally', u'totals', u'touch', u'touched', u'touches', u'touchid', u'touching', u'touchy', u'tough', u'toward', u'towards', u'town', u'towns', u'trace', u'track', u'tracker', u'tracking', u'tracks', u'trade', u'traditional', u'traffic', u'train', u'trained', u'transact', u'transaction', u'transactional', u'transactions', u'transfer', u'transfering', u'transferred', u'transferring', u'transfers', u'transition', u'transitions', u'translations', u'transparency', u'transparent', u'trash', u'travel', u'traveler', u'travelers', u'traveling', u'travelling', u'travels', u'treat', u'treated', u'tree', u'tremendous', u'tremendously', u'trend', u'trends', u'trial', u'trick', u'tricky', u'tried', u'tries', u'trigger', u'triggered', u'triggering', u'trip', u'triple', u'tripod', u'trips', u'trouble', u'troubles', u'troubleshooting', u'troublesome', u'trough', u'truck', u'true', u'truly', u'trust', u'trusted', u'trustworthy', u'truth', u'try', u'trying', u'tuesday', u'tuning', u'turn', u'turned', u'turning', u'turns', u'tutorial', u'tv', u'tweak', u'tweaked', u'tweaking', u'tweaks', u'twenty', u'twice', u'two', u'txt', u'ty', u'type', u'typed', u'typeface', u'types', u'typical', u'typically', u'typing', u'uber', u'ugh', u'ugly', u'ui', u'uiux', u'ultimate', u'ultimately', u'unable', u'unacceptable', u'unauthorized', u'unavailable', u'unaware', u'unbelievable', u'unclear', u'uncluttered', u'uncomplicated', u'under', u'underneath', u'understand', u'understandable', u'understanding', u'understands', u'understood', u'undo', u'unexpected', u'unexpectedly', u'unfamiliar', u'unfortunate', u'unfortunately', u'unfriendly', u'unhappy', u'unhelpful', u'uninstall', u'uninstalled', u'uninstalling', u'unintuitive', u'union', u'unions', u'unique', u'united', u'universal', u'unknown', u'unless', u'unlike', u'unlimited', u'unlock', u'unlocked', u'unlocking', u'unmatched', u'unnecessarily', u'unnecessary', u'unprofessional', u'unread', u'unrecognized', u'unreliable', u'unresponsive', u'unstable', u'unsuccessful', u'unsure', u'until', u'unusable', u'unusual', u'up', u'upcoming', u'update', u'updated', u'updates', u'updating', u'upfront', u'upgrade', u'upgraded', u'upgrades', u'upgrading', u'upload', u'uploaded', u'uploading', u'uploads', u'upon', u'upped', u'upper', u'ups', u'upset', u'uptodate', u'uptotheminute', u'ur', u'urge', u'urgent', u'us', u'usa', u'usaa', u'usaas', u'usability', u'usable', u'usage', u'usbank', u'use', u'useable', u'used', u'useful', u'usefull', u'usefulness', u'usei', u'useless', u'usenavigate', u'user', u'userfriendly', u'userid', u'users', u'uses', u'using', u'usual', u'usually', u'utilities', u'utility', u'utilize', u'utilized', u'utilizes', u'utilizing', u'utter', u'utterly', u'ux', u'vacation', u'vague', u'valid', u'validate', u'valuable', u'value', u'valued', u'values', u'variety', u'various', u'vast', u'vastly', u'vehicle', u'vendor', u'vendors', u'venmo', u'venture', u'ver', u'verification', u'verified', u'verify', u'verifying', u'verizon', u'versa', u'versatile', u'versatility', u'version', u'versions', u'versus', u'vertical', u'very', u'veteran', u'veterans', u'vey', u'via', u'vibration', u'vice', u'victim', u'video', u'view', u'viewable', u'viewed', u'viewing', u'views', u'virtual', u'virtually', u'visa', u'visibility', u'visible', u'vision', u'visit', u'visited', u'visiting', u'visits', u'visual', u'visually', u'visuals', u'vital', u'voice', u'voiceover', u'volume', u'vpn', u'vs', u'wa', u'wait', u'waited', u'waiting', u'wake', u'walgreens', u'walk', u'walked', u'walking', u'wall', u'wallet', u'wallpaper', u'wamu', u'wamus', u'wanna', u'want', u'wanted', u'wanting', u'wants', u'warn', u'warned', u'warning', u'warnings', u'warns', u'was', u'washed', u'washington', u'wasnt', u'waste', u'wasted', u'wastes', u'wasting', u'watch', u'watched', u'watching', u'water', u'way', u'ways', u'wchase', u'we', u'weak', u'weather', u'web', u'webpage', u'website', u'websites', u'wed', u'week', u'weekdays', u'weekend', u'weekends', u'weekly', u'weeks', u'weight', u'weird', u'welcome', u'welcomed', u'welcoming', u'well', u'welldesigned', u'welli', u'wells', u'wellsfargo', u'went', u'were', u'werent', u'west', u'western', u'wether', u'weve', u'wf', u'what', u'whatever', u'whats', u'whatsoever', u'when', u'whenever', u'where', u'whereas', u'wheres', u'wherever', u'whether', u'which', u'while', u'whining', u'whistles', u'white', u'who', u'whoever', u'whole', u'whom', u'whoop', u'whos', u'whose', u'why', u'wide', u'widget', u'wife', u'wifes', u'wifi', u'will', u'willing', u'win', u'window', u'windows', u'winner', u'winning', u'wins', u'wire', u'wireless', u'wires', u'wiring', u'wise', u'wish', u'wished', u'wishing', u'wit', u'with', u'withdraw', u'withdrawal', u'withdrawals', u'withdrawing', u'withdrawn', u'withdraws', u'within', u'without', u'wo', u'woke', u'woman', u'won', u'wonder', u'wonderful', u'wonderfully', u'wondering', u'wonders', u'wonky', u'wont', u'wood', u'woot', u'word', u'words', u'work', u'worked', u'workers', u'workflow', u'working', u'works', u'world', u'worlds', u'worried', u'worries', u'worry', u'worrying', u'worse', u'worst', u'worth', u'worthless', u'worthwhile', u'worthy', u'would', u'wouldnt', u'wouldve', u'wow', u'wrapped', u'wrist', u'write', u'writes', u'writing', u'written', u'wrong', u'wrote', u'wth', u'xfer', u'xs', u'ya', u'yall', u'yay', u'yea', u'yeah', u'year', u'years', u'yellow', u'yep', u'yes', u'yesterday', u'yet', u'yo', u'york', u'you', u'youd', u'youll', u'young', u'younger', u'your', u'youre', u'yours', u'yourself', u'youve', u'yr', u'yrs', u'zelle', u'zero', u'zoom', u'zoomed', u'zooms']\n"
     ]
    }
   ],
   "source": [
    "vocab = vectorizer.get_feature_names()\n",
    "print vocab"
   ]
  },
  {
   "cell_type": "code",
   "execution_count": 156,
   "metadata": {
    "collapsed": false,
    "deletable": true,
    "editable": true
   },
   "outputs": [
    {
     "name": "stdout",
     "output_type": "stream",
     "text": [
      "[[  25 1276 4350 ...,   27    6   19]] abilities\n"
     ]
    }
   ],
   "source": [
    "dist = np.sum(train_data_features, axis = 0)\n",
    "for tag, count in zip(vocab, dist):\n",
    "    print count, tag"
   ]
  },
  {
   "cell_type": "code",
   "execution_count": 157,
   "metadata": {
    "collapsed": true,
    "deletable": true,
    "editable": true
   },
   "outputs": [],
   "source": [
    "from sklearn.ensemble import RandomForestClassifier"
   ]
  },
  {
   "cell_type": "code",
   "execution_count": 158,
   "metadata": {
    "collapsed": false,
    "deletable": true,
    "editable": true
   },
   "outputs": [
    {
     "name": "stdout",
     "output_type": "stream",
     "text": [
      "Time to complete: 75.9336740971 seconds\n"
     ]
    }
   ],
   "source": [
    "import time\n",
    "forest = RandomForestClassifier(n_estimators=100)\n",
    "tic = time.time()\n",
    "forest = forest.fit(train_data_features, train[\"sentiment\"])\n",
    "toc = time.time()\n",
    "print(\"Time to complete: \" + str(toc-tic) + \" seconds\")"
   ]
  },
  {
   "cell_type": "code",
   "execution_count": 163,
   "metadata": {
    "collapsed": false,
    "deletable": true,
    "editable": true
   },
   "outputs": [
    {
     "name": "stdout",
     "output_type": "stream",
     "text": [
      "                                                  review  sentiment\n",
      "0      this app functions great does everything i nee...          1\n",
      "1                          fast and easy has every thing          1\n",
      "2                                     very user friendly          1\n",
      "3             thanks to chase my life is much easier now          1\n",
      "4                   like the new update easy to navigate          1\n",
      "5      password keeps resetting touchid was missing b...          1\n",
      "6      no major issues with app the updates are consi...          1\n",
      "7      this has to be one of the best bank app ive us...          1\n",
      "8      itd be nice to get multiple alerts for differe...          0\n",
      "9                      easy to use and full capabilities          1\n",
      "10     comprehensive financial information easily acc...          1\n",
      "11     such a lifesaver app  has helped to a great ex...          1\n",
      "12                             havent had any issues yet          1\n",
      "13     some functions are not easy to use otherwise g...          1\n",
      "14                 accurate and reliable and easy to use          1\n",
      "15                                             see above          1\n",
      "16                                     friendly amp easy          1\n",
      "17     dont recommend banking here multiple times hav...          1\n",
      "18     great app very user friendly and secure one of...          0\n",
      "19                            convenient and easy to use          1\n",
      "20           this app has made my banking so much easier          1\n",
      "21     this app is quick and basic i only have type o...          1\n",
      "22     one of the most easy to follow and understandi...          1\n",
      "23     enjoy it very much very easy to use thanks cha...          1\n",
      "24            great app does everything without glitches          1\n",
      "25                                 quick and easy to use          1\n",
      "26     nicely integrated feature with finger print sc...          1\n",
      "27     making mobile deposits should be quick easy an...          1\n",
      "28                               the app is working well          1\n",
      "29                              always works well for me          1\n",
      "...                                                  ...        ...\n",
      "61680  advertise that you can check your credit score...          1\n",
      "61681  in my area code  the app shows nearest chase a...          1\n",
      "61682  used to be a good app i assume a security sett...          1\n",
      "61683  i really like this app when i first installed ...          0\n",
      "61684  touch id no longer works  as of  check deposit...          1\n",
      "61685  i give it five stars because it does everythin...          0\n",
      "61686  why is there no way to contact them through th...          1\n",
      "61687  only after trying to log in does a popup come ...          0\n",
      "61688  for the past month i probably changed my passw...          0\n",
      "61689                                   its aaaiiigghhht          1\n",
      "61690  i love this bank it has saved my butt more tha...          1\n",
      "61691  this app review writing feature stinks instead...          1\n",
      "61692  this app works great  percent of the time only...          0\n",
      "61693  this app constantly works perfectly on my sist...          0\n",
      "61694  it makes you update to the latest version afte...          1\n",
      "61695  love this app and love my amazon rewards visa ...          1\n",
      "61696  this app works great for what i need to get do...          1\n",
      "61697  this app i find easy to use and understand i l...          0\n",
      "61698  great app but frequently doesnt recognize my i...          0\n",
      "61699  slow and investment module very awkward with i...          0\n",
      "61700                               and always improving          0\n",
      "61701  after many months of problems as described bel...          1\n",
      "61702                                            awesome          0\n",
      "61703  im really disappointed i only use this a coupl...          1\n",
      "61704  i dont have to buy amazon cards anymore but no...          1\n",
      "61705  the app has great features however it took me ...          0\n",
      "61706  when you try to login for the first time it as...          0\n",
      "61707  every time i need to update the app i must fir...          1\n",
      "61708  save lot of timeno worry to drive in to deposi...          1\n",
      "61709  the app keeps crashing every time i try to lon...          1\n",
      "\n",
      "[61710 rows x 2 columns]\n"
     ]
    }
   ],
   "source": [
    "test = pd.read_csv(\"5_4_3_split_data_test.csv\", header = 0)\n",
    "print test\n",
    "test.dropna(axis = 0, how = 'any', inplace = True)\n",
    "test.reset_index(inplace=True)"
   ]
  },
  {
   "cell_type": "code",
   "execution_count": 164,
   "metadata": {
    "collapsed": true,
    "deletable": true,
    "editable": true
   },
   "outputs": [],
   "source": [
    "clean_test_reviews = []"
   ]
  },
  {
   "cell_type": "code",
   "execution_count": 165,
   "metadata": {
    "collapsed": false,
    "deletable": true,
    "editable": true
   },
   "outputs": [],
   "source": [
    "for i in xrange(0, len(test[\"review\"])):\n",
    "    clean_review = review_to_words(test[\"review\"][i])\n",
    "    clean_test_reviews.append( clean_review)"
   ]
  },
  {
   "cell_type": "code",
   "execution_count": 166,
   "metadata": {
    "collapsed": false,
    "deletable": true,
    "editable": true
   },
   "outputs": [
    {
     "data": {
      "text/plain": [
       "61710"
      ]
     },
     "execution_count": 166,
     "metadata": {},
     "output_type": "execute_result"
    }
   ],
   "source": [
    "len(clean_test_reviews)"
   ]
  },
  {
   "cell_type": "code",
   "execution_count": 167,
   "metadata": {
    "collapsed": true,
    "deletable": true,
    "editable": true
   },
   "outputs": [],
   "source": [
    "test_data_features = vectorizer.transform(clean_test_reviews)\n",
    "test_data_features = test_data_features.toarray()"
   ]
  },
  {
   "cell_type": "code",
   "execution_count": 168,
   "metadata": {
    "collapsed": false,
    "deletable": true,
    "editable": true,
    "scrolled": true
   },
   "outputs": [
    {
     "name": "stdout",
     "output_type": "stream",
     "text": [
      "[[0 0 0 ..., 0 0 0]\n",
      " [0 0 0 ..., 0 0 0]\n",
      " [0 0 0 ..., 0 0 0]\n",
      " ..., \n",
      " [0 0 0 ..., 0 0 0]\n",
      " [0 0 0 ..., 0 0 0]\n",
      " [0 0 0 ..., 0 0 0]]\n"
     ]
    }
   ],
   "source": [
    "print(test_data_features)\n",
    "result = forest.predict(test_data_features)"
   ]
  },
  {
   "cell_type": "code",
   "execution_count": 169,
   "metadata": {
    "collapsed": false,
    "deletable": true,
    "editable": true
   },
   "outputs": [],
   "source": [
    "output = pd.DataFrame(data = {\"prediction\": result, \"sentiment\": test[\"sentiment\"]})"
   ]
  },
  {
   "cell_type": "code",
   "execution_count": 170,
   "metadata": {
    "collapsed": true,
    "deletable": true,
    "editable": true
   },
   "outputs": [],
   "source": [
    "output.to_csv(\"5_4_3_bag_of_words_model.csv\", index=False)"
   ]
  },
  {
   "cell_type": "code",
   "execution_count": 171,
   "metadata": {
    "collapsed": false,
    "deletable": true,
    "editable": true
   },
   "outputs": [
    {
     "name": "stdout",
     "output_type": "stream",
     "text": [
      "0.846151353103\n"
     ]
    }
   ],
   "source": [
    "print(forest.score(test_data_features, test['sentiment']))"
   ]
  },
  {
   "cell_type": "code",
   "execution_count": 118,
   "metadata": {
    "collapsed": false,
    "deletable": true,
    "editable": true
   },
   "outputs": [
    {
     "name": "stdout",
     "output_type": "stream",
     "text": [
      "0.682877888687\n"
     ]
    }
   ],
   "source": [
    "from sklearn.metrics import accuracy_score\n",
    "print(accuracy_score(result, test['sentiment']))"
   ]
  },
  {
   "cell_type": "code",
   "execution_count": 172,
   "metadata": {
    "collapsed": false,
    "deletable": true,
    "editable": true
   },
   "outputs": [],
   "source": [
    "tokenizer = nltk.data.load('tokenizers/punkt/english.pickle')"
   ]
  },
  {
   "cell_type": "code",
   "execution_count": 173,
   "metadata": {
    "collapsed": true,
    "deletable": true,
    "editable": true
   },
   "outputs": [],
   "source": [
    "def review_to_sentences(review, tokenizer, remove_stopwords = False):\n",
    "    raw_sentences = tokenizer.tokenize(review.strip())\n",
    "    sentences = []\n",
    "    for raw_sentence in raw_sentences:\n",
    "        if len(raw_sentence) > 0:\n",
    "            sentences.append(review_to_wordlist(raw_sentence, remove_stopwords))\n",
    "            \n",
    "    return sentences\n",
    "def review_to_wordlist(review, remove_stopwords = False):\n",
    "    words = review.lower().split()\n",
    "    if remove_stopwords:\n",
    "        stops = set(stopwords.words(\"english\"))\n",
    "        words = [w for w in words if not w in stops]\n",
    "    return(words)"
   ]
  },
  {
   "cell_type": "code",
   "execution_count": 174,
   "metadata": {
    "collapsed": true,
    "deletable": true,
    "editable": true
   },
   "outputs": [],
   "source": [
    "sentences = []"
   ]
  },
  {
   "cell_type": "code",
   "execution_count": 175,
   "metadata": {
    "collapsed": false,
    "deletable": true,
    "editable": true
   },
   "outputs": [
    {
     "name": "stdout",
     "output_type": "stream",
     "text": [
      "Parsing sentences from training set\n",
      "Parsing sentences for unlabled set\n"
     ]
    }
   ],
   "source": [
    "print \"Parsing sentences from training set\"\n",
    "for review in train[\"review\"]:\n",
    "    sentences += review_to_sentences(review, tokenizer)\n",
    "    \n",
    "print \"Parsing sentences for unlabled set\"\n",
    "for review in test[\"review\"]:\n",
    "    sentences += review_to_sentences(review, tokenizer)"
   ]
  },
  {
   "cell_type": "code",
   "execution_count": 176,
   "metadata": {
    "collapsed": false,
    "deletable": true,
    "editable": true
   },
   "outputs": [
    {
     "name": "stdout",
     "output_type": "stream",
     "text": [
      "123409\n"
     ]
    }
   ],
   "source": [
    "print(len(sentences))"
   ]
  },
  {
   "cell_type": "code",
   "execution_count": 177,
   "metadata": {
    "collapsed": false,
    "deletable": true,
    "editable": true
   },
   "outputs": [
    {
     "name": "stdout",
     "output_type": "stream",
     "text": [
      "['no', 'problem', 'with', 'constant', 'improvement', 'i', 'switched', 'to', 'chase', 'once', 'being', 'approved', 'for', 'a', 'car', 'loan', 'some', 'ten', 'years', 'ago', 'i', 'just', 'thought', 'it', 'was', 'easier', 'to', 'make', 'a', 'transfer', 'between', 'accounts', 'than', 'make', 'a', 'payment', 'ive', 'never', 'looked', 'back', 'before', 'i', 'knew', 'it', 'chase', 'was', 'my', 'only', 'bank', 'the', 'tools', 'offered', 'on', 'app', 'were', 'not', 'complete', 'but', 'still', 'better', 'than', 'the', 'rest', 'for', 'personal', 'banking', 'along', 'the', 'years', 'ive', 'been', 'a', 'part', 'of', 'the', 'many', 'changes', 'on', 'app', 'and', 'banking', 'these', 'guys', 'are', 'great', 'at', 'first', 'it', 'was', 'annoying', 'with', 'partial', 'app', 'use', 'in', 'the', 'weekend', 'i', 'always', 'that', 'that', 'should', 'not', 'be', 'done', 'when', 'perhaps', 'the', 'app', 'gets', 'most', 'used', 'whatever', 'i', 'actually', 'look', 'forward', 'to', 'the', 'changes', 'the', 'last', 'one', 'were', 'complete', 'access', 'is', 'available', 'without', 'having', 'to', 'sign', 'in', 'again', 'is', 'welcomed', 'its', 'going', 'to', 'be', 'hard', 'for', 'me', 'to', 'change', 'banks', 'im', 'also', 'a', 'world', 'traveler', 'one', 'day', 'i', 'can', 'be', 'in', 'canada', 'the', 'next', 'in', 'casablanca', 'morocco', 'then', 'a', 'few', 'days', 'later', 'the', 'usa', 'and', 'few', 'more', 'more', 'days', 'in', 'mexico', 'it', 'was', 'hard', 'when', 'i', 'first', 'starting', 'banking', 'with', 'chase', 'because', 'of', 'their', 'fraud', 'security', 'it', 'took', 'a', 'phone', 'call', 'and', 'that', 'was', 'it', 'want', 'to', 'increase', 'the', 'amount', 'of', 'funds', 'using', 'atm', 'all', 'it', 'took', 'was', 'a', 'phone', 'call', 'why', 'is', 'this', 'important', 'because', 'in', 'some', 'areas', 'i', 'travel', 'cards', 'are', 'not', 'accepted', 'as', 'long', 'as', 'theres', 'a', 'atm', 'i', 'can', 'get', 'cash', 'and', 'pay', 'for', 'car', 'rentals', 'hotels', 'meals', 'etc', 'a', 'limit', 'will', 'not', 'workall', 'to', 'say', 'yup', 'i', 'like', 'this', 'app']\n"
     ]
    }
   ],
   "source": [
    "print(sentences[0])"
   ]
  },
  {
   "cell_type": "code",
   "execution_count": 178,
   "metadata": {
    "collapsed": false,
    "deletable": true,
    "editable": true
   },
   "outputs": [],
   "source": [
    "import logging\n",
    "logging.basicConfig(format='%(asctime)s : %(levelname)s : %(message)s', level=logging.INFO)"
   ]
  },
  {
   "cell_type": "code",
   "execution_count": 179,
   "metadata": {
    "collapsed": false,
    "deletable": true,
    "editable": true
   },
   "outputs": [],
   "source": [
    "num_features = 300\n",
    "min_word_count = 40\n",
    "num_workers = 4\n",
    "context = 10\n",
    "downsampling = 1e-3"
   ]
  },
  {
   "cell_type": "code",
   "execution_count": 180,
   "metadata": {
    "collapsed": false,
    "deletable": true,
    "editable": true
   },
   "outputs": [],
   "source": [
    "from gensim.models import word2vec"
   ]
  },
  {
   "cell_type": "code",
   "execution_count": 181,
   "metadata": {
    "collapsed": false,
    "deletable": true,
    "editable": true
   },
   "outputs": [
    {
     "name": "stderr",
     "output_type": "stream",
     "text": [
      "2017-08-28 20:59:03,500 : INFO : collecting all words and their counts\n",
      "2017-08-28 20:59:03,501 : INFO : PROGRESS: at sentence #0, processed 0 words, keeping 0 word types\n"
     ]
    },
    {
     "name": "stdout",
     "output_type": "stream",
     "text": [
      "Training model...\n"
     ]
    },
    {
     "name": "stderr",
     "output_type": "stream",
     "text": [
      "2017-08-28 20:59:03,742 : INFO : PROGRESS: at sentence #10000, processed 687593 words, keeping 12786 word types\n",
      "2017-08-28 20:59:03,881 : INFO : PROGRESS: at sentence #20000, processed 1060914 words, keeping 15236 word types\n",
      "2017-08-28 20:59:03,981 : INFO : PROGRESS: at sentence #30000, processed 1341474 words, keeping 16872 word types\n",
      "2017-08-28 20:59:04,061 : INFO : PROGRESS: at sentence #40000, processed 1570222 words, keeping 18130 word types\n",
      "2017-08-28 20:59:04,138 : INFO : PROGRESS: at sentence #50000, processed 1765414 words, keeping 19193 word types\n",
      "2017-08-28 20:59:04,209 : INFO : PROGRESS: at sentence #60000, processed 1935369 words, keeping 20149 word types\n",
      "2017-08-28 20:59:04,272 : INFO : PROGRESS: at sentence #70000, processed 2080861 words, keeping 21018 word types\n",
      "2017-08-28 20:59:04,327 : INFO : PROGRESS: at sentence #80000, processed 2210105 words, keeping 21832 word types\n",
      "2017-08-28 20:59:04,378 : INFO : PROGRESS: at sentence #90000, processed 2316462 words, keeping 22487 word types\n",
      "2017-08-28 20:59:04,423 : INFO : PROGRESS: at sentence #100000, processed 2405534 words, keeping 23119 word types\n",
      "2017-08-28 20:59:04,457 : INFO : PROGRESS: at sentence #110000, processed 2471674 words, keeping 23726 word types\n",
      "2017-08-28 20:59:04,490 : INFO : PROGRESS: at sentence #120000, processed 2518759 words, keeping 25338 word types\n",
      "2017-08-28 20:59:04,539 : INFO : collected 26910 word types from a corpus of 2621808 raw words and 123409 sentences\n",
      "2017-08-28 20:59:04,540 : INFO : Loading a fresh vocabulary\n",
      "2017-08-28 20:59:04,583 : INFO : min_count=40 retains 2219 unique words (8% of original 26910, drops 24691)\n",
      "2017-08-28 20:59:04,584 : INFO : min_count=40 leaves 2536884 word corpus (96% of original 2621808, drops 84924)\n",
      "2017-08-28 20:59:04,595 : INFO : deleting the raw counts dictionary of 26910 items\n",
      "2017-08-28 20:59:04,599 : INFO : sample=0.001 downsamples 67 most-common words\n",
      "2017-08-28 20:59:04,600 : INFO : downsampling leaves estimated 1691207 word corpus (66.7% of prior 2536884)\n",
      "2017-08-28 20:59:04,602 : INFO : estimated required memory for 2219 words and 300 dimensions: 6435100 bytes\n",
      "2017-08-28 20:59:04,618 : INFO : resetting layer weights\n",
      "2017-08-28 20:59:04,665 : INFO : training model with 4 workers on 2219 vocabulary and 300 features, using sg=0 hs=0 sample=0.001 negative=5 window=10\n",
      "2017-08-28 20:59:05,680 : INFO : PROGRESS: at 6.00% examples, 983224 words/s, in_qsize 8, out_qsize 0\n",
      "2017-08-28 20:59:06,683 : INFO : PROGRESS: at 21.13% examples, 1021034 words/s, in_qsize 8, out_qsize 0\n",
      "2017-08-28 20:59:07,683 : INFO : PROGRESS: at 31.31% examples, 1011877 words/s, in_qsize 8, out_qsize 0\n",
      "2017-08-28 20:59:08,685 : INFO : PROGRESS: at 44.18% examples, 1045785 words/s, in_qsize 8, out_qsize 0\n",
      "2017-08-28 20:59:09,689 : INFO : PROGRESS: at 60.82% examples, 1069597 words/s, in_qsize 8, out_qsize 0\n",
      "2017-08-28 20:59:10,695 : INFO : PROGRESS: at 72.86% examples, 1080354 words/s, in_qsize 8, out_qsize 0\n",
      "2017-08-28 20:59:11,701 : INFO : PROGRESS: at 86.60% examples, 1110463 words/s, in_qsize 8, out_qsize 0\n",
      "2017-08-28 20:59:12,342 : INFO : worker thread finished; awaiting finish of 3 more threads\n",
      "2017-08-28 20:59:12,347 : INFO : worker thread finished; awaiting finish of 2 more threads\n",
      "2017-08-28 20:59:12,352 : INFO : worker thread finished; awaiting finish of 1 more threads\n",
      "2017-08-28 20:59:12,361 : INFO : worker thread finished; awaiting finish of 0 more threads\n",
      "2017-08-28 20:59:12,362 : INFO : training on 13109040 raw words (8454194 effective words) took 7.7s, 1099964 effective words/s\n"
     ]
    },
    {
     "name": "stdout",
     "output_type": "stream",
     "text": [
      "Time to train:8.8653550148seconds\n"
     ]
    }
   ],
   "source": [
    "import time\n",
    "print(\"Training model...\")\n",
    "tic = time.time()\n",
    "model = word2vec.Word2Vec(sentences, workers = num_workers, size = num_features, min_count = min_word_count, window = context, sample = downsampling)\n",
    "model_name = \"300features_40minwords_10context\"\n",
    "toc = time.time()\n",
    "print(\"Time to train:\" + str((toc-tic)) + \"seconds\")"
   ]
  },
  {
   "cell_type": "code",
   "execution_count": 182,
   "metadata": {
    "collapsed": false,
    "deletable": true,
    "editable": true
   },
   "outputs": [
    {
     "name": "stderr",
     "output_type": "stream",
     "text": [
      "2017-08-28 21:00:17,924 : INFO : precomputing L2-norms of word weight vectors\n"
     ]
    },
    {
     "data": {
      "text/plain": [
       "[('branch', 0.7003017663955688),\n",
       " ('banks', 0.5840883255004883),\n",
       " ('branches', 0.4553563594818115),\n",
       " ('banking', 0.4447375237941742),\n",
       " ('atm', 0.439160019159317),\n",
       " ('house', 0.4307142198085785),\n",
       " ('brick', 0.41486430168151855),\n",
       " ('mortar', 0.4111049771308899),\n",
       " ('company', 0.40035107731819153),\n",
       " ('teller', 0.39990466833114624)]"
      ]
     },
     "execution_count": 182,
     "metadata": {},
     "output_type": "execute_result"
    }
   ],
   "source": [
    "model.most_similar(\"bank\")"
   ]
  },
  {
   "cell_type": "code",
   "execution_count": 184,
   "metadata": {
    "collapsed": false,
    "deletable": true,
    "editable": true
   },
   "outputs": [
    {
     "name": "stderr",
     "output_type": "stream",
     "text": [
      "2017-08-28 21:00:30,701 : INFO : saving Word2Vec object under 5_4_3_300features_40minwords_10context, separately None\n",
      "2017-08-28 21:00:30,703 : INFO : not storing attribute syn0norm\n",
      "2017-08-28 21:00:30,704 : INFO : not storing attribute cum_table\n",
      "2017-08-28 21:00:30,734 : INFO : saved 5_4_3_300features_40minwords_10context\n"
     ]
    }
   ],
   "source": [
    "model_name = \"5_4_3_300features_40minwords_10context\"\n",
    "model.save(model_name)"
   ]
  },
  {
   "cell_type": "code",
   "execution_count": 185,
   "metadata": {
    "collapsed": false,
    "deletable": true,
    "editable": true
   },
   "outputs": [],
   "source": [
    "def makeFeatureVec(words, model, num_features):\n",
    "    featureVec = np.zeros((num_features), dtype = \"Float64\")\n",
    "    nwords = 0\n",
    "    index2word_set = set(model.wv.index2word)\n",
    "    for word in words:\n",
    "        if word in index2word_set:\n",
    "            nwords = nwords + 1\n",
    "            featureVec = np.add(featureVec, model[word])\n",
    "#     featureVec = np.divide(featureVec, nwords)\n",
    "    return featureVec\n",
    "def getAvgFeatureVecs(reviews, model, num_features):\n",
    "    counter = 0\n",
    "    reviewFeatureVecs = np.zeros((len(reviews), num_features), dtype = \"Float64\")\n",
    "    for review in reviews:\n",
    "        if counter % 1000. == 0.:\n",
    "            print(\"Review %d of %d\" %(counter, len(reviews)))\n",
    "        reviewFeatureVecs[counter] = makeFeatureVec(review, model, num_features)\n",
    "        counter = counter + 1\n",
    "    return reviewFeatureVecs"
   ]
  },
  {
   "cell_type": "code",
   "execution_count": 186,
   "metadata": {
    "collapsed": false,
    "deletable": true,
    "editable": true
   },
   "outputs": [
    {
     "name": "stderr",
     "output_type": "stream",
     "text": [
      "/usr/local/lib/python2.7/site-packages/ipykernel/__main__.py:13: DeprecationWarning: Numeric-style type codes are deprecated and will result in an error in the future.\n",
      "/usr/local/lib/python2.7/site-packages/ipykernel/__main__.py:2: DeprecationWarning: Numeric-style type codes are deprecated and will result in an error in the future.\n",
      "  from ipykernel import kernelapp as app\n"
     ]
    },
    {
     "name": "stdout",
     "output_type": "stream",
     "text": [
      "Review 0 of 61709\n",
      "Review 1000 of 61709\n",
      "Review 2000 of 61709\n",
      "Review 3000 of 61709\n",
      "Review 4000 of 61709\n",
      "Review 5000 of 61709\n",
      "Review 6000 of 61709\n",
      "Review 7000 of 61709\n",
      "Review 8000 of 61709\n",
      "Review 9000 of 61709\n",
      "Review 10000 of 61709\n",
      "Review 11000 of 61709\n",
      "Review 12000 of 61709\n",
      "Review 13000 of 61709\n",
      "Review 14000 of 61709\n",
      "Review 15000 of 61709\n",
      "Review 16000 of 61709\n",
      "Review 17000 of 61709\n",
      "Review 18000 of 61709\n",
      "Review 19000 of 61709\n",
      "Review 20000 of 61709\n",
      "Review 21000 of 61709\n",
      "Review 22000 of 61709\n",
      "Review 23000 of 61709\n",
      "Review 24000 of 61709\n",
      "Review 25000 of 61709\n",
      "Review 26000 of 61709\n",
      "Review 27000 of 61709\n",
      "Review 28000 of 61709\n",
      "Review 29000 of 61709\n",
      "Review 30000 of 61709\n",
      "Review 31000 of 61709\n",
      "Review 32000 of 61709\n",
      "Review 33000 of 61709\n",
      "Review 34000 of 61709\n",
      "Review 35000 of 61709\n",
      "Review 36000 of 61709\n",
      "Review 37000 of 61709\n",
      "Review 38000 of 61709\n",
      "Review 39000 of 61709\n",
      "Review 40000 of 61709\n",
      "Review 41000 of 61709\n",
      "Review 42000 of 61709\n",
      "Review 43000 of 61709\n",
      "Review 44000 of 61709\n",
      "Review 45000 of 61709\n",
      "Review 46000 of 61709\n",
      "Review 47000 of 61709\n",
      "Review 48000 of 61709\n",
      "Review 49000 of 61709\n",
      "Review 50000 of 61709\n",
      "Review 51000 of 61709\n",
      "Review 52000 of 61709\n",
      "Review 53000 of 61709\n",
      "Review 54000 of 61709\n",
      "Review 55000 of 61709\n",
      "Review 56000 of 61709\n",
      "Review 57000 of 61709\n",
      "Review 58000 of 61709\n",
      "Review 59000 of 61709\n",
      "Review 60000 of 61709\n",
      "Review 61000 of 61709\n",
      "Creating average feature vecs for test reviews\n",
      "Review 0 of 61710\n",
      "Review 1000 of 61710\n",
      "Review 2000 of 61710\n",
      "Review 3000 of 61710\n",
      "Review 4000 of 61710\n",
      "Review 5000 of 61710\n",
      "Review 6000 of 61710\n",
      "Review 7000 of 61710\n",
      "Review 8000 of 61710\n",
      "Review 9000 of 61710\n",
      "Review 10000 of 61710\n",
      "Review 11000 of 61710\n",
      "Review 12000 of 61710\n",
      "Review 13000 of 61710\n",
      "Review 14000 of 61710\n",
      "Review 15000 of 61710\n",
      "Review 16000 of 61710\n",
      "Review 17000 of 61710\n",
      "Review 18000 of 61710\n",
      "Review 19000 of 61710\n",
      "Review 20000 of 61710\n",
      "Review 21000 of 61710\n",
      "Review 22000 of 61710\n",
      "Review 23000 of 61710\n",
      "Review 24000 of 61710\n",
      "Review 25000 of 61710\n",
      "Review 26000 of 61710\n",
      "Review 27000 of 61710\n",
      "Review 28000 of 61710\n",
      "Review 29000 of 61710\n",
      "Review 30000 of 61710\n",
      "Review 31000 of 61710\n",
      "Review 32000 of 61710\n",
      "Review 33000 of 61710\n",
      "Review 34000 of 61710\n",
      "Review 35000 of 61710\n",
      "Review 36000 of 61710\n",
      "Review 37000 of 61710\n",
      "Review 38000 of 61710\n",
      "Review 39000 of 61710\n",
      "Review 40000 of 61710\n",
      "Review 41000 of 61710\n",
      "Review 42000 of 61710\n",
      "Review 43000 of 61710\n",
      "Review 44000 of 61710\n",
      "Review 45000 of 61710\n",
      "Review 46000 of 61710\n",
      "Review 47000 of 61710\n",
      "Review 48000 of 61710\n",
      "Review 49000 of 61710\n",
      "Review 50000 of 61710\n",
      "Review 51000 of 61710\n",
      "Review 52000 of 61710\n",
      "Review 53000 of 61710\n",
      "Review 54000 of 61710\n",
      "Review 55000 of 61710\n",
      "Review 56000 of 61710\n",
      "Review 57000 of 61710\n",
      "Review 58000 of 61710\n",
      "Review 59000 of 61710\n",
      "Review 60000 of 61710\n",
      "Review 61000 of 61710\n"
     ]
    }
   ],
   "source": [
    "#words to paragraphs vector averaging technique\n",
    "clean_train_reviews = []\n",
    "for review in train[\"review\"]:\n",
    "    clean_train_reviews.append( review_to_wordlist( review, remove_stopwords = True))\n",
    "trainDataVecs = getAvgFeatureVecs(clean_train_reviews, model, num_features)\n",
    "\n",
    "print(\"Creating average feature vecs for test reviews\")\n",
    "\n",
    "clean_test_reviews = []\n",
    "for review in test[\"review\"]:\n",
    "    clean_test_reviews.append( review_to_wordlist(review, remove_stopwords = True))\n",
    "    \n",
    "testDataVecs = getAvgFeatureVecs(clean_test_reviews, model, num_features)\n",
    "\n",
    "forest = forest.fit(trainDataVecs, train[\"sentiment\"])\n",
    "result = forest.predict( testDataVecs)\n"
   ]
  },
  {
   "cell_type": "code",
   "execution_count": 187,
   "metadata": {
    "collapsed": false
   },
   "outputs": [],
   "source": [
    "output = pd.DataFrame(data = {\"prediction\": result, \"sentiment\": test[\"sentiment\"]})\n",
    "output.to_csv(\"5_4_3_Word2Vec_AverageVectors.csv\", index = False)"
   ]
  },
  {
   "cell_type": "code",
   "execution_count": 80,
   "metadata": {
    "collapsed": false,
    "deletable": true,
    "editable": true
   },
   "outputs": [
    {
     "ename": "ValueError",
     "evalue": "Number of features of the model must match the input. Model n_features is 300 and input n_features is 5000 ",
     "output_type": "error",
     "traceback": [
      "\u001b[0;31m------------------------------------------------------------------\u001b[0m",
      "\u001b[0;31mValueError\u001b[0m                       Traceback (most recent call last)",
      "\u001b[0;32m<ipython-input-80-3b0e43e66940>\u001b[0m in \u001b[0;36m<module>\u001b[0;34m()\u001b[0m\n\u001b[1;32m      1\u001b[0m \u001b[0;31m# featureVec = np.zeros((num_features), dtype = \"Float64\")\u001b[0m\u001b[0;34m\u001b[0m\u001b[0;34m\u001b[0m\u001b[0m\n\u001b[1;32m      2\u001b[0m \u001b[0;31m# featureVec = np.divide(featureVec, nwords)\u001b[0m\u001b[0;34m\u001b[0m\u001b[0;34m\u001b[0m\u001b[0m\n\u001b[0;32m----> 3\u001b[0;31m \u001b[0;32mprint\u001b[0m\u001b[0;34m(\u001b[0m\u001b[0mforest\u001b[0m\u001b[0;34m.\u001b[0m\u001b[0mscore\u001b[0m\u001b[0;34m(\u001b[0m\u001b[0mtest_data_features\u001b[0m\u001b[0;34m,\u001b[0m \u001b[0mtest\u001b[0m\u001b[0;34m[\u001b[0m\u001b[0;34m'sentiment'\u001b[0m\u001b[0;34m]\u001b[0m\u001b[0;34m)\u001b[0m\u001b[0;34m)\u001b[0m\u001b[0;34m\u001b[0m\u001b[0m\n\u001b[0m",
      "\u001b[0;32m/usr/local/lib/python2.7/site-packages/sklearn/base.pyc\u001b[0m in \u001b[0;36mscore\u001b[0;34m(self, X, y, sample_weight)\u001b[0m\n\u001b[1;32m    347\u001b[0m         \"\"\"\n\u001b[1;32m    348\u001b[0m         \u001b[0;32mfrom\u001b[0m \u001b[0;34m.\u001b[0m\u001b[0mmetrics\u001b[0m \u001b[0;32mimport\u001b[0m \u001b[0maccuracy_score\u001b[0m\u001b[0;34m\u001b[0m\u001b[0m\n\u001b[0;32m--> 349\u001b[0;31m         \u001b[0;32mreturn\u001b[0m \u001b[0maccuracy_score\u001b[0m\u001b[0;34m(\u001b[0m\u001b[0my\u001b[0m\u001b[0;34m,\u001b[0m \u001b[0mself\u001b[0m\u001b[0;34m.\u001b[0m\u001b[0mpredict\u001b[0m\u001b[0;34m(\u001b[0m\u001b[0mX\u001b[0m\u001b[0;34m)\u001b[0m\u001b[0;34m,\u001b[0m \u001b[0msample_weight\u001b[0m\u001b[0;34m=\u001b[0m\u001b[0msample_weight\u001b[0m\u001b[0;34m)\u001b[0m\u001b[0;34m\u001b[0m\u001b[0m\n\u001b[0m\u001b[1;32m    350\u001b[0m \u001b[0;34m\u001b[0m\u001b[0m\n\u001b[1;32m    351\u001b[0m \u001b[0;34m\u001b[0m\u001b[0m\n",
      "\u001b[0;32m/usr/local/lib/python2.7/site-packages/sklearn/ensemble/forest.pyc\u001b[0m in \u001b[0;36mpredict\u001b[0;34m(self, X)\u001b[0m\n\u001b[1;32m    532\u001b[0m             \u001b[0mThe\u001b[0m \u001b[0mpredicted\u001b[0m \u001b[0mclasses\u001b[0m\u001b[0;34m.\u001b[0m\u001b[0;34m\u001b[0m\u001b[0m\n\u001b[1;32m    533\u001b[0m         \"\"\"\n\u001b[0;32m--> 534\u001b[0;31m         \u001b[0mproba\u001b[0m \u001b[0;34m=\u001b[0m \u001b[0mself\u001b[0m\u001b[0;34m.\u001b[0m\u001b[0mpredict_proba\u001b[0m\u001b[0;34m(\u001b[0m\u001b[0mX\u001b[0m\u001b[0;34m)\u001b[0m\u001b[0;34m\u001b[0m\u001b[0m\n\u001b[0m\u001b[1;32m    535\u001b[0m \u001b[0;34m\u001b[0m\u001b[0m\n\u001b[1;32m    536\u001b[0m         \u001b[0;32mif\u001b[0m \u001b[0mself\u001b[0m\u001b[0;34m.\u001b[0m\u001b[0mn_outputs_\u001b[0m \u001b[0;34m==\u001b[0m \u001b[0;36m1\u001b[0m\u001b[0;34m:\u001b[0m\u001b[0;34m\u001b[0m\u001b[0m\n",
      "\u001b[0;32m/usr/local/lib/python2.7/site-packages/sklearn/ensemble/forest.pyc\u001b[0m in \u001b[0;36mpredict_proba\u001b[0;34m(self, X)\u001b[0m\n\u001b[1;32m    571\u001b[0m         \"\"\"\n\u001b[1;32m    572\u001b[0m         \u001b[0;31m# Check data\u001b[0m\u001b[0;34m\u001b[0m\u001b[0;34m\u001b[0m\u001b[0m\n\u001b[0;32m--> 573\u001b[0;31m         \u001b[0mX\u001b[0m \u001b[0;34m=\u001b[0m \u001b[0mself\u001b[0m\u001b[0;34m.\u001b[0m\u001b[0m_validate_X_predict\u001b[0m\u001b[0;34m(\u001b[0m\u001b[0mX\u001b[0m\u001b[0;34m)\u001b[0m\u001b[0;34m\u001b[0m\u001b[0m\n\u001b[0m\u001b[1;32m    574\u001b[0m \u001b[0;34m\u001b[0m\u001b[0m\n\u001b[1;32m    575\u001b[0m         \u001b[0;31m# Assign chunk of trees to jobs\u001b[0m\u001b[0;34m\u001b[0m\u001b[0;34m\u001b[0m\u001b[0m\n",
      "\u001b[0;32m/usr/local/lib/python2.7/site-packages/sklearn/ensemble/forest.pyc\u001b[0m in \u001b[0;36m_validate_X_predict\u001b[0;34m(self, X)\u001b[0m\n\u001b[1;32m    353\u001b[0m                                  \"call `fit` before exploiting the model.\")\n\u001b[1;32m    354\u001b[0m \u001b[0;34m\u001b[0m\u001b[0m\n\u001b[0;32m--> 355\u001b[0;31m         \u001b[0;32mreturn\u001b[0m \u001b[0mself\u001b[0m\u001b[0;34m.\u001b[0m\u001b[0mestimators_\u001b[0m\u001b[0;34m[\u001b[0m\u001b[0;36m0\u001b[0m\u001b[0;34m]\u001b[0m\u001b[0;34m.\u001b[0m\u001b[0m_validate_X_predict\u001b[0m\u001b[0;34m(\u001b[0m\u001b[0mX\u001b[0m\u001b[0;34m,\u001b[0m \u001b[0mcheck_input\u001b[0m\u001b[0;34m=\u001b[0m\u001b[0mTrue\u001b[0m\u001b[0;34m)\u001b[0m\u001b[0;34m\u001b[0m\u001b[0m\n\u001b[0m\u001b[1;32m    356\u001b[0m \u001b[0;34m\u001b[0m\u001b[0m\n\u001b[1;32m    357\u001b[0m     \u001b[0;34m@\u001b[0m\u001b[0mproperty\u001b[0m\u001b[0;34m\u001b[0m\u001b[0m\n",
      "\u001b[0;32m/usr/local/lib/python2.7/site-packages/sklearn/tree/tree.pyc\u001b[0m in \u001b[0;36m_validate_X_predict\u001b[0;34m(self, X, check_input)\u001b[0m\n\u001b[1;32m    374\u001b[0m                              \u001b[0;34m\"match the input. Model n_features is %s and \"\u001b[0m\u001b[0;34m\u001b[0m\u001b[0m\n\u001b[1;32m    375\u001b[0m                              \u001b[0;34m\"input n_features is %s \"\u001b[0m\u001b[0;34m\u001b[0m\u001b[0m\n\u001b[0;32m--> 376\u001b[0;31m                              % (self.n_features_, n_features))\n\u001b[0m\u001b[1;32m    377\u001b[0m \u001b[0;34m\u001b[0m\u001b[0m\n\u001b[1;32m    378\u001b[0m         \u001b[0;32mreturn\u001b[0m \u001b[0mX\u001b[0m\u001b[0;34m\u001b[0m\u001b[0m\n",
      "\u001b[0;31mValueError\u001b[0m: Number of features of the model must match the input. Model n_features is 300 and input n_features is 5000 "
     ]
    }
   ],
   "source": [
    "# featureVec = np.zeros((num_features), dtype = \"Float64\")\n",
    "# featureVec = np.divide(featureVec, nwords)\n",
    "print(forest.score(test_data_features, test['sentiment']))"
   ]
  },
  {
   "cell_type": "code",
   "execution_count": 188,
   "metadata": {
    "collapsed": false,
    "deletable": true,
    "editable": true
   },
   "outputs": [
    {
     "name": "stdout",
     "output_type": "stream",
     "text": [
      "('Time taken for clustering :', 6.631669044494629, 'seconds')\n"
     ]
    }
   ],
   "source": [
    "from sklearn.cluster import KMeans\n",
    "import time\n",
    "\n",
    "start = time.time()\n",
    "\n",
    "word_vectors = model.wv.syn0\n",
    "num_clusters = word_vectors.shape[0]/5\n",
    "kmeans_clustering = KMeans(n_clusters = num_clusters)\n",
    "idx = kmeans_clustering.fit_predict(word_vectors)\n",
    "\n",
    "end = time.time()\n",
    "elapsed = end - start\n",
    "print(\"Time taken for clustering :\", elapsed, \"seconds\")"
   ]
  },
  {
   "cell_type": "code",
   "execution_count": 189,
   "metadata": {
    "collapsed": true,
    "deletable": true,
    "editable": true
   },
   "outputs": [],
   "source": [
    "word_centroid_map = dict(zip(model.wv.index2word, idx))"
   ]
  },
  {
   "cell_type": "code",
   "execution_count": 190,
   "metadata": {
    "collapsed": false,
    "deletable": true,
    "editable": true
   },
   "outputs": [
    {
     "name": "stdout",
     "output_type": "stream",
     "text": [
      "\n",
      "Cluster 0\n",
      "['features']\n",
      "\n",
      "Cluster 1\n",
      "['laid', 'runs', 'together', 'serves', 'developed', 'built', 'performs']\n",
      "\n",
      "Cluster 2\n",
      "['order', 'pocket', 'terms', 'country', 'whats', 'city', 'future', 'ways', 'case', 'middle', 'world', 'general', 'hurry', 'store', 'while', 'age', 'putting', 'opinion', 'comparison', 'areas', 'book', 'own']\n",
      "\n",
      "Cluster 3\n",
      "['several', 'multiple']\n",
      "\n",
      "Cluster 4\n",
      "['transfer']\n",
      "\n",
      "Cluster 5\n",
      "['acct', 'account']\n",
      "\n",
      "Cluster 6\n",
      "['told', 'went', 'got', 'took', 'said', 'finally', 'downloaded', 'today', 'opened', 'first', 'hasnt', 'stopped', 'wasnt', 'recently', 'called', 'started', 'loved']\n",
      "\n",
      "Cluster 7\n",
      "['ill', 'may', 'might', 'wouldnt']\n",
      "\n",
      "Cluster 8\n",
      "['photo', 'picture']\n",
      "\n",
      "Cluster 9\n",
      "['hate', 'force', 'forces', 'asks', 'require', 'create', 'requires']\n"
     ]
    }
   ],
   "source": [
    "for cluster in xrange(0,10):\n",
    "    print(\"\\nCluster %d\" % cluster)\n",
    "    words = []\n",
    "    for i in xrange(0, len(word_centroid_map.values())):\n",
    "        if( word_centroid_map.values()[i] == cluster):\n",
    "            words.append(word_centroid_map.keys()[i])\n",
    "    print(words)"
   ]
  },
  {
   "cell_type": "code",
   "execution_count": 191,
   "metadata": {
    "collapsed": true,
    "deletable": true,
    "editable": true
   },
   "outputs": [],
   "source": [
    "def create_bag_of_centroids(wordlist, word_centroid_map):\n",
    "    num_centroids = max(word_centroid_map.values()) + 1\n",
    "    bag_of_centroids = np.zeros(num_centroids, dtype = \"float32\")\n",
    "    for word in wordlist:\n",
    "        if word in word_centroid_map:\n",
    "            index = word_centroid_map[word]\n",
    "            bag_of_centroids[index] += 1\n",
    "    return bag_of_centroids"
   ]
  },
  {
   "cell_type": "code",
   "execution_count": 192,
   "metadata": {
    "collapsed": false,
    "deletable": true,
    "editable": true
   },
   "outputs": [],
   "source": [
    "train_centroids = np.zeros((train[\"review\"].size, num_clusters), dtype = \"float32\")\n",
    "counter = 0\n",
    "for review in clean_train_reviews:\n",
    "    train_centroids[counter] = create_bag_of_centroids(review, word_centroid_map)\n",
    "    counter += 1\n",
    "\n",
    "test_centroids = np.zeros(( test[\"review\"].size, num_clusters), dtype=\"float32\")\n",
    "counter = 0\n",
    "for review in clean_test_reviews:\n",
    "    test_centroids[counter] = create_bag_of_centroids(review, word_centroid_map)\n",
    "    counter += 1"
   ]
  },
  {
   "cell_type": "code",
   "execution_count": 193,
   "metadata": {
    "collapsed": false,
    "deletable": true,
    "editable": true
   },
   "outputs": [],
   "source": [
    "forest.fit(train_centroids, train[\"sentiment\"])\n",
    "result = forest.predict(test_centroids)\n",
    "\n",
    "output = pd.DataFrame(data = {\"prediction\": result, \"sentiment\": test[\"sentiment\"]})\n",
    "output.to_csv(\"5_4_3_BagofCentroids.csv\", index = False)"
   ]
  },
  {
   "cell_type": "code",
   "execution_count": 88,
   "metadata": {
    "collapsed": false,
    "deletable": true,
    "editable": true
   },
   "outputs": [
    {
     "ename": "ValueError",
     "evalue": "Number of features of the model must match the input. Model n_features is 443 and input n_features is 5000 ",
     "output_type": "error",
     "traceback": [
      "\u001b[0;31m------------------------------------------------------------------\u001b[0m",
      "\u001b[0;31mValueError\u001b[0m                       Traceback (most recent call last)",
      "\u001b[0;32m<ipython-input-88-164946609a95>\u001b[0m in \u001b[0;36m<module>\u001b[0;34m()\u001b[0m\n\u001b[0;32m----> 1\u001b[0;31m \u001b[0;32mprint\u001b[0m\u001b[0;34m(\u001b[0m\u001b[0mforest\u001b[0m\u001b[0;34m.\u001b[0m\u001b[0mscore\u001b[0m\u001b[0;34m(\u001b[0m\u001b[0mtest_data_features\u001b[0m\u001b[0;34m,\u001b[0m \u001b[0mtest\u001b[0m\u001b[0;34m[\u001b[0m\u001b[0;34m'sentiment'\u001b[0m\u001b[0;34m]\u001b[0m\u001b[0;34m)\u001b[0m\u001b[0;34m)\u001b[0m\u001b[0;34m\u001b[0m\u001b[0m\n\u001b[0m",
      "\u001b[0;32m/usr/local/lib/python2.7/site-packages/sklearn/base.pyc\u001b[0m in \u001b[0;36mscore\u001b[0;34m(self, X, y, sample_weight)\u001b[0m\n\u001b[1;32m    347\u001b[0m         \"\"\"\n\u001b[1;32m    348\u001b[0m         \u001b[0;32mfrom\u001b[0m \u001b[0;34m.\u001b[0m\u001b[0mmetrics\u001b[0m \u001b[0;32mimport\u001b[0m \u001b[0maccuracy_score\u001b[0m\u001b[0;34m\u001b[0m\u001b[0m\n\u001b[0;32m--> 349\u001b[0;31m         \u001b[0;32mreturn\u001b[0m \u001b[0maccuracy_score\u001b[0m\u001b[0;34m(\u001b[0m\u001b[0my\u001b[0m\u001b[0;34m,\u001b[0m \u001b[0mself\u001b[0m\u001b[0;34m.\u001b[0m\u001b[0mpredict\u001b[0m\u001b[0;34m(\u001b[0m\u001b[0mX\u001b[0m\u001b[0;34m)\u001b[0m\u001b[0;34m,\u001b[0m \u001b[0msample_weight\u001b[0m\u001b[0;34m=\u001b[0m\u001b[0msample_weight\u001b[0m\u001b[0;34m)\u001b[0m\u001b[0;34m\u001b[0m\u001b[0m\n\u001b[0m\u001b[1;32m    350\u001b[0m \u001b[0;34m\u001b[0m\u001b[0m\n\u001b[1;32m    351\u001b[0m \u001b[0;34m\u001b[0m\u001b[0m\n",
      "\u001b[0;32m/usr/local/lib/python2.7/site-packages/sklearn/ensemble/forest.pyc\u001b[0m in \u001b[0;36mpredict\u001b[0;34m(self, X)\u001b[0m\n\u001b[1;32m    532\u001b[0m             \u001b[0mThe\u001b[0m \u001b[0mpredicted\u001b[0m \u001b[0mclasses\u001b[0m\u001b[0;34m.\u001b[0m\u001b[0;34m\u001b[0m\u001b[0m\n\u001b[1;32m    533\u001b[0m         \"\"\"\n\u001b[0;32m--> 534\u001b[0;31m         \u001b[0mproba\u001b[0m \u001b[0;34m=\u001b[0m \u001b[0mself\u001b[0m\u001b[0;34m.\u001b[0m\u001b[0mpredict_proba\u001b[0m\u001b[0;34m(\u001b[0m\u001b[0mX\u001b[0m\u001b[0;34m)\u001b[0m\u001b[0;34m\u001b[0m\u001b[0m\n\u001b[0m\u001b[1;32m    535\u001b[0m \u001b[0;34m\u001b[0m\u001b[0m\n\u001b[1;32m    536\u001b[0m         \u001b[0;32mif\u001b[0m \u001b[0mself\u001b[0m\u001b[0;34m.\u001b[0m\u001b[0mn_outputs_\u001b[0m \u001b[0;34m==\u001b[0m \u001b[0;36m1\u001b[0m\u001b[0;34m:\u001b[0m\u001b[0;34m\u001b[0m\u001b[0m\n",
      "\u001b[0;32m/usr/local/lib/python2.7/site-packages/sklearn/ensemble/forest.pyc\u001b[0m in \u001b[0;36mpredict_proba\u001b[0;34m(self, X)\u001b[0m\n\u001b[1;32m    571\u001b[0m         \"\"\"\n\u001b[1;32m    572\u001b[0m         \u001b[0;31m# Check data\u001b[0m\u001b[0;34m\u001b[0m\u001b[0;34m\u001b[0m\u001b[0m\n\u001b[0;32m--> 573\u001b[0;31m         \u001b[0mX\u001b[0m \u001b[0;34m=\u001b[0m \u001b[0mself\u001b[0m\u001b[0;34m.\u001b[0m\u001b[0m_validate_X_predict\u001b[0m\u001b[0;34m(\u001b[0m\u001b[0mX\u001b[0m\u001b[0;34m)\u001b[0m\u001b[0;34m\u001b[0m\u001b[0m\n\u001b[0m\u001b[1;32m    574\u001b[0m \u001b[0;34m\u001b[0m\u001b[0m\n\u001b[1;32m    575\u001b[0m         \u001b[0;31m# Assign chunk of trees to jobs\u001b[0m\u001b[0;34m\u001b[0m\u001b[0;34m\u001b[0m\u001b[0m\n",
      "\u001b[0;32m/usr/local/lib/python2.7/site-packages/sklearn/ensemble/forest.pyc\u001b[0m in \u001b[0;36m_validate_X_predict\u001b[0;34m(self, X)\u001b[0m\n\u001b[1;32m    353\u001b[0m                                  \"call `fit` before exploiting the model.\")\n\u001b[1;32m    354\u001b[0m \u001b[0;34m\u001b[0m\u001b[0m\n\u001b[0;32m--> 355\u001b[0;31m         \u001b[0;32mreturn\u001b[0m \u001b[0mself\u001b[0m\u001b[0;34m.\u001b[0m\u001b[0mestimators_\u001b[0m\u001b[0;34m[\u001b[0m\u001b[0;36m0\u001b[0m\u001b[0;34m]\u001b[0m\u001b[0;34m.\u001b[0m\u001b[0m_validate_X_predict\u001b[0m\u001b[0;34m(\u001b[0m\u001b[0mX\u001b[0m\u001b[0;34m,\u001b[0m \u001b[0mcheck_input\u001b[0m\u001b[0;34m=\u001b[0m\u001b[0mTrue\u001b[0m\u001b[0;34m)\u001b[0m\u001b[0;34m\u001b[0m\u001b[0m\n\u001b[0m\u001b[1;32m    356\u001b[0m \u001b[0;34m\u001b[0m\u001b[0m\n\u001b[1;32m    357\u001b[0m     \u001b[0;34m@\u001b[0m\u001b[0mproperty\u001b[0m\u001b[0;34m\u001b[0m\u001b[0m\n",
      "\u001b[0;32m/usr/local/lib/python2.7/site-packages/sklearn/tree/tree.pyc\u001b[0m in \u001b[0;36m_validate_X_predict\u001b[0;34m(self, X, check_input)\u001b[0m\n\u001b[1;32m    374\u001b[0m                              \u001b[0;34m\"match the input. Model n_features is %s and \"\u001b[0m\u001b[0;34m\u001b[0m\u001b[0m\n\u001b[1;32m    375\u001b[0m                              \u001b[0;34m\"input n_features is %s \"\u001b[0m\u001b[0;34m\u001b[0m\u001b[0m\n\u001b[0;32m--> 376\u001b[0;31m                              % (self.n_features_, n_features))\n\u001b[0m\u001b[1;32m    377\u001b[0m \u001b[0;34m\u001b[0m\u001b[0m\n\u001b[1;32m    378\u001b[0m         \u001b[0;32mreturn\u001b[0m \u001b[0mX\u001b[0m\u001b[0;34m\u001b[0m\u001b[0m\n",
      "\u001b[0;31mValueError\u001b[0m: Number of features of the model must match the input. Model n_features is 443 and input n_features is 5000 "
     ]
    }
   ],
   "source": [
    "print(forest.score(test_data_features, test['sentiment']))"
   ]
  },
  {
   "cell_type": "code",
   "execution_count": null,
   "metadata": {
    "collapsed": true
   },
   "outputs": [],
   "source": []
  }
 ],
 "metadata": {
  "kernelspec": {
   "display_name": "Python 2",
   "language": "python",
   "name": "python2"
  },
  "language_info": {
   "codemirror_mode": {
    "name": "ipython",
    "version": 2
   },
   "file_extension": ".py",
   "mimetype": "text/x-python",
   "name": "python",
   "nbconvert_exporter": "python",
   "pygments_lexer": "ipython2",
   "version": "2.7.13"
  }
 },
 "nbformat": 4,
 "nbformat_minor": 2
}

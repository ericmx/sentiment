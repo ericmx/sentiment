{
 "cells": [
  {
   "cell_type": "code",
   "execution_count": 27,
   "metadata": {
    "collapsed": true
   },
   "outputs": [],
   "source": [
    "import numpy as np\n",
    "import pandas as pd\n",
    "from lxml import html\n",
    "from sklearn import metrics\n",
    "from sklearn.cross_validation import train_test_split\n",
    "from sklearn.linear_model import LogisticRegression as LR\n",
    "from sklearn.feature_extraction.text import TfidfVectorizer"
   ]
  },
  {
   "cell_type": "code",
   "execution_count": 28,
   "metadata": {
    "collapsed": true
   },
   "outputs": [],
   "source": [
    "train_data = pd.read_csv('5_4_3_split_data_train.csv', header = 0)\n",
    "test_data = pd.read_csv('5_4_3_split_data_test.csv', header = 0)"
   ]
  },
  {
   "cell_type": "code",
   "execution_count": 29,
   "metadata": {
    "collapsed": false
   },
   "outputs": [
    {
     "data": {
      "text/html": [
       "<div>\n",
       "<table border=\"1\" class=\"dataframe\">\n",
       "  <thead>\n",
       "    <tr style=\"text-align: right;\">\n",
       "      <th></th>\n",
       "      <th>review</th>\n",
       "      <th>sentiment</th>\n",
       "    </tr>\n",
       "  </thead>\n",
       "  <tbody>\n",
       "    <tr>\n",
       "      <th>0</th>\n",
       "      <td>no problem with constant improvement i switche...</td>\n",
       "      <td>1</td>\n",
       "    </tr>\n",
       "    <tr>\n",
       "      <th>1</th>\n",
       "      <td>i live  minutes away from the nearest branch a...</td>\n",
       "      <td>1</td>\n",
       "    </tr>\n",
       "    <tr>\n",
       "      <th>2</th>\n",
       "      <td>i am very annoyed with this app i do like bein...</td>\n",
       "      <td>0</td>\n",
       "    </tr>\n",
       "    <tr>\n",
       "      <th>3</th>\n",
       "      <td>i dont see how so many people on the reviews c...</td>\n",
       "      <td>1</td>\n",
       "    </tr>\n",
       "    <tr>\n",
       "      <th>4</th>\n",
       "      <td>you can do almost every function the full site...</td>\n",
       "      <td>1</td>\n",
       "    </tr>\n",
       "  </tbody>\n",
       "</table>\n",
       "</div>"
      ],
      "text/plain": [
       "                                              review  sentiment\n",
       "0  no problem with constant improvement i switche...          1\n",
       "1  i live  minutes away from the nearest branch a...          1\n",
       "2  i am very annoyed with this app i do like bein...          0\n",
       "3  i dont see how so many people on the reviews c...          1\n",
       "4  you can do almost every function the full site...          1"
      ]
     },
     "execution_count": 29,
     "metadata": {},
     "output_type": "execute_result"
    }
   ],
   "source": [
    "test_data.head()"
   ]
  },
  {
   "cell_type": "code",
   "execution_count": 30,
   "metadata": {
    "collapsed": true
   },
   "outputs": [],
   "source": [
    "trainX = train_data['review'].values"
   ]
  },
  {
   "cell_type": "code",
   "execution_count": 31,
   "metadata": {
    "collapsed": false
   },
   "outputs": [],
   "source": [
    "trainY = train_data['sentiment'].values"
   ]
  },
  {
   "cell_type": "code",
   "execution_count": 32,
   "metadata": {
    "collapsed": true
   },
   "outputs": [],
   "source": [
    "vect = TfidfVectorizer(min_df=10, ngram_range=(1, 2))\n",
    "trainX = vect.fit_transform(trainX)"
   ]
  },
  {
   "cell_type": "code",
   "execution_count": 33,
   "metadata": {
    "collapsed": false
   },
   "outputs": [
    {
     "data": {
      "text/plain": [
       "LogisticRegression(C=1.0, class_weight=None, dual=False, fit_intercept=True,\n",
       "          intercept_scaling=1, max_iter=100, multi_class='ovr', n_jobs=1,\n",
       "          penalty='l2', random_state=None, solver='liblinear', tol=0.0001,\n",
       "          verbose=0, warm_start=False)"
      ]
     },
     "execution_count": 33,
     "metadata": {},
     "output_type": "execute_result"
    }
   ],
   "source": [
    "model = LR()\n",
    "model.fit(trainX, trainY)"
   ]
  },
  {
   "cell_type": "code",
   "execution_count": 34,
   "metadata": {
    "collapsed": false
   },
   "outputs": [],
   "source": [
    "testX = test_data['review'].values\n",
    "testY = test_data['sentiment'].values\n",
    "testX = vect.transform(testX)\n",
    "pr_testX = model.predict_proba(testX)[:, 1]\n",
    "\n",
    "pd.DataFrame(np.asarray([pr_testX]).T).to_csv('test.csv',index=False,header=[\"sentiment\"])"
   ]
  },
  {
   "cell_type": "code",
   "execution_count": 35,
   "metadata": {
    "collapsed": false
   },
   "outputs": [
    {
     "name": "stdout",
     "output_type": "stream",
     "text": [
      "0.922134534671\n"
     ]
    }
   ],
   "source": [
    "print(model.score(testX, te_data['sentiment']))"
   ]
  },
  {
   "cell_type": "code",
   "execution_count": 23,
   "metadata": {
    "collapsed": false
   },
   "outputs": [
    {
     "name": "stdout",
     "output_type": "stream",
     "text": [
      "  (0, 9000)\t0.0637898675555\n",
      "  (0, 8901)\t0.0664639204085\n",
      "  (0, 8900)\t0.0938144277244\n",
      "  (0, 8847)\t0.0544440518329\n",
      "  (0, 8734)\t0.0640750761288\n",
      "  (0, 8731)\t0.0412362765201\n",
      "  (0, 8693)\t0.045423055602\n",
      "  (0, 8685)\t0.0814633772527\n",
      "  (0, 8663)\t0.0498420024828\n",
      "  (0, 8655)\t0.0398853360544\n",
      "  (0, 8645)\t0.0596409301191\n",
      "  (0, 8634)\t0.0408087545535\n",
      "  (0, 8575)\t0.068291450399\n",
      "  (0, 8568)\t0.0675917633443\n",
      "  (0, 8562)\t0.0612241905753\n",
      "  (0, 8530)\t0.101994572656\n",
      "  (0, 8494)\t0.0673204252718\n",
      "  (0, 8446)\t0.0673204252718\n",
      "  (0, 8432)\t0.219341272397\n",
      "  (0, 8426)\t0.0449887841072\n",
      "  (0, 8420)\t0.040472623471\n",
      "  (0, 8284)\t0.0378247567697\n",
      "  (0, 8244)\t0.0363291052789\n",
      "  (0, 8196)\t0.0694124166419\n",
      "  (0, 8165)\t0.0201524148763\n",
      "  :\t:\n",
      "  (61707, 2398)\t0.137842933533\n",
      "  (61707, 1863)\t0.366295378514\n",
      "  (61707, 864)\t0.352990996467\n",
      "  (61707, 663)\t0.0879907484542\n",
      "  (61707, 423)\t0.225840096002\n",
      "  (61707, 369)\t0.120186263385\n",
      "  (61708, 8941)\t0.297659976145\n",
      "  (61708, 8912)\t0.191321711419\n",
      "  (61708, 8165)\t0.132124953142\n",
      "  (61708, 7854)\t0.147101537823\n",
      "  (61708, 7687)\t0.102911279387\n",
      "  (61708, 5252)\t0.370329411493\n",
      "  (61708, 5250)\t0.198191447409\n",
      "  (61708, 4286)\t0.310506160184\n",
      "  (61708, 4264)\t0.168335464808\n",
      "  (61708, 4123)\t0.277077878024\n",
      "  (61708, 4084)\t0.11596712585\n",
      "  (61708, 2614)\t0.347753678627\n",
      "  (61708, 2596)\t0.226869529919\n",
      "  (61708, 2423)\t0.146545212349\n",
      "  (61708, 2398)\t0.132512550986\n",
      "  (61708, 2268)\t0.281347308961\n",
      "  (61708, 2266)\t0.203750233997\n",
      "  (61708, 477)\t0.297078547571\n",
      "  (61708, 369)\t0.115538663799\n"
     ]
    }
   ],
   "source": [
    "print(testX)"
   ]
  },
  {
   "cell_type": "code",
   "execution_count": 24,
   "metadata": {
    "collapsed": false
   },
   "outputs": [
    {
     "name": "stdout",
     "output_type": "stream",
     "text": [
      "0        1\n",
      "1        1\n",
      "2        0\n",
      "3        1\n",
      "4        1\n",
      "5        1\n",
      "6        0\n",
      "7        1\n",
      "8        1\n",
      "9        1\n",
      "10       0\n",
      "11       1\n",
      "12       1\n",
      "13       1\n",
      "14       1\n",
      "15       1\n",
      "16       0\n",
      "17       0\n",
      "18       1\n",
      "19       0\n",
      "20       1\n",
      "21       1\n",
      "22       1\n",
      "23       1\n",
      "24       1\n",
      "25       0\n",
      "26       0\n",
      "27       1\n",
      "28       1\n",
      "29       1\n",
      "        ..\n",
      "61679    1\n",
      "61680    1\n",
      "61681    1\n",
      "61682    1\n",
      "61683    1\n",
      "61684    1\n",
      "61685    1\n",
      "61686    1\n",
      "61687    1\n",
      "61688    1\n",
      "61689    1\n",
      "61690    1\n",
      "61691    1\n",
      "61692    1\n",
      "61693    0\n",
      "61694    1\n",
      "61695    1\n",
      "61696    1\n",
      "61697    1\n",
      "61698    1\n",
      "61699    1\n",
      "61700    1\n",
      "61701    1\n",
      "61702    1\n",
      "61703    1\n",
      "61704    1\n",
      "61705    0\n",
      "61706    1\n",
      "61707    1\n",
      "61708    1\n",
      "Name: sentiment, dtype: int64\n"
     ]
    }
   ],
   "source": [
    "print(te_data['sentiment'])"
   ]
  },
  {
   "cell_type": "code",
   "execution_count": null,
   "metadata": {
    "collapsed": true
   },
   "outputs": [],
   "source": []
  }
 ],
 "metadata": {
  "kernelspec": {
   "display_name": "Python 2",
   "language": "python",
   "name": "python2"
  },
  "language_info": {
   "codemirror_mode": {
    "name": "ipython",
    "version": 2
   },
   "file_extension": ".py",
   "mimetype": "text/x-python",
   "name": "python",
   "nbconvert_exporter": "python",
   "pygments_lexer": "ipython2",
   "version": "2.7.13"
  }
 },
 "nbformat": 4,
 "nbformat_minor": 2
}

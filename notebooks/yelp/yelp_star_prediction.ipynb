{
 "cells": [
  {
   "cell_type": "code",
   "execution_count": 10,
   "metadata": {
    "collapsed": false
   },
   "outputs": [
    {
     "name": "stdout",
     "output_type": "stream",
     "text": [
      "Populating the interactive namespace from numpy and matplotlib\n"
     ]
    },
    {
     "name": "stderr",
     "output_type": "stream",
     "text": [
      "/usr/local/lib/python2.7/site-packages/IPython/core/magics/pylab.py:161: UserWarning: pylab import has clobbered these variables: ['plot']\n",
      "`%matplotlib` prevents importing * from pylab and numpy\n",
      "  \"\\n`%matplotlib` prevents importing * from pylab and numpy\"\n"
     ]
    }
   ],
   "source": [
    "%pylab inline\n",
    "import seaborn as sns\n",
    "import nltk\n",
    "import matplotlib.pyplot as plt\n",
    "import pandas as pd\n",
    "import numpy as np"
   ]
  },
  {
   "cell_type": "code",
   "execution_count": 3,
   "metadata": {
    "collapsed": false
   },
   "outputs": [
    {
     "data": {
      "text/html": [
       "<div>\n",
       "<table border=\"1\" class=\"dataframe\">\n",
       "  <thead>\n",
       "    <tr style=\"text-align: right;\">\n",
       "      <th></th>\n",
       "      <th>review</th>\n",
       "      <th>sentiment</th>\n",
       "    </tr>\n",
       "  </thead>\n",
       "  <tbody>\n",
       "    <tr>\n",
       "      <th>0</th>\n",
       "      <td>no problem with constant improvement i switche...</td>\n",
       "      <td>1</td>\n",
       "    </tr>\n",
       "    <tr>\n",
       "      <th>1</th>\n",
       "      <td>i live  minutes away from the nearest branch a...</td>\n",
       "      <td>1</td>\n",
       "    </tr>\n",
       "    <tr>\n",
       "      <th>2</th>\n",
       "      <td>i am very annoyed with this app i do like bein...</td>\n",
       "      <td>0</td>\n",
       "    </tr>\n",
       "    <tr>\n",
       "      <th>3</th>\n",
       "      <td>i dont see how so many people on the reviews c...</td>\n",
       "      <td>1</td>\n",
       "    </tr>\n",
       "    <tr>\n",
       "      <th>4</th>\n",
       "      <td>you can do almost every function the full site...</td>\n",
       "      <td>1</td>\n",
       "    </tr>\n",
       "  </tbody>\n",
       "</table>\n",
       "</div>"
      ],
      "text/plain": [
       "                                              review  sentiment\n",
       "0  no problem with constant improvement i switche...          1\n",
       "1  i live  minutes away from the nearest branch a...          1\n",
       "2  i am very annoyed with this app i do like bein...          0\n",
       "3  i dont see how so many people on the reviews c...          1\n",
       "4  you can do almost every function the full site...          1"
      ]
     },
     "execution_count": 3,
     "metadata": {},
     "output_type": "execute_result"
    }
   ],
   "source": [
    "txtFile = '5_4_3_all_data.csv'\n",
    "df = pd.read_csv(txtFile, header = 0)\n",
    "df.head()"
   ]
  },
  {
   "cell_type": "code",
   "execution_count": 4,
   "metadata": {
    "collapsed": true
   },
   "outputs": [],
   "source": [
    "df['len'] = [len(x) for x in df['review']]"
   ]
  },
  {
   "cell_type": "code",
   "execution_count": 6,
   "metadata": {
    "collapsed": false
   },
   "outputs": [
    {
     "name": "stdout",
     "output_type": "stream",
     "text": [
      "('Mean = :', 108.14862591651277)\n",
      "('std = :', 114.56359160662112)\n"
     ]
    }
   ],
   "source": [
    "pos = df[(df['sentiment'] == 1)]\n",
    "plot = sns.distplot(pos['len'], label = 'Distribution of Positive Scores', axlabel = 'Length of the Reviews', color = \"g\")\n",
    "fig = plot.get_figure()\n",
    "fig.savefig(\"pos_distribution.png\")\n",
    "print('Mean = :', np.mean(pos['len']))\n",
    "print('std = :', np.std(pos['len']))"
   ]
  },
  {
   "cell_type": "code",
   "execution_count": 7,
   "metadata": {
    "collapsed": false
   },
   "outputs": [
    {
     "name": "stdout",
     "output_type": "stream",
     "text": [
      "mean = 118.569851108\n",
      "std = 149.520259822\n"
     ]
    }
   ],
   "source": [
    "neg = df[(df['sentiment'] == 0)]\n",
    "plot = sns.distplot(neg['len'],label='Distribution of Positive Scores',axlabel='Length of the Reviews', color=\"r\")\n",
    "fig = plot.get_figure()\n",
    "fig.savefig(\"neg_distribution.png\")\n",
    "print 'mean =', np.mean(neg['len'])\n",
    "print 'std =', np.std(neg['len'])"
   ]
  },
  {
   "cell_type": "code",
   "execution_count": 8,
   "metadata": {
    "collapsed": false
   },
   "outputs": [
    {
     "data": {
      "text/html": [
       "<div>\n",
       "<table border=\"1\" class=\"dataframe\">\n",
       "  <thead>\n",
       "    <tr style=\"text-align: right;\">\n",
       "      <th></th>\n",
       "      <th>sentiment</th>\n",
       "      <th>len</th>\n",
       "    </tr>\n",
       "  </thead>\n",
       "  <tbody>\n",
       "    <tr>\n",
       "      <th>count</th>\n",
       "      <td>123419.000000</td>\n",
       "      <td>123419.000000</td>\n",
       "    </tr>\n",
       "    <tr>\n",
       "      <th>mean</th>\n",
       "      <td>0.886265</td>\n",
       "      <td>109.333879</td>\n",
       "    </tr>\n",
       "    <tr>\n",
       "      <th>std</th>\n",
       "      <td>0.317490</td>\n",
       "      <td>119.104230</td>\n",
       "    </tr>\n",
       "    <tr>\n",
       "      <th>min</th>\n",
       "      <td>0.000000</td>\n",
       "      <td>1.000000</td>\n",
       "    </tr>\n",
       "    <tr>\n",
       "      <th>25%</th>\n",
       "      <td>1.000000</td>\n",
       "      <td>35.000000</td>\n",
       "    </tr>\n",
       "    <tr>\n",
       "      <th>50%</th>\n",
       "      <td>1.000000</td>\n",
       "      <td>75.000000</td>\n",
       "    </tr>\n",
       "    <tr>\n",
       "      <th>75%</th>\n",
       "      <td>1.000000</td>\n",
       "      <td>143.000000</td>\n",
       "    </tr>\n",
       "    <tr>\n",
       "      <th>max</th>\n",
       "      <td>1.000000</td>\n",
       "      <td>5285.000000</td>\n",
       "    </tr>\n",
       "  </tbody>\n",
       "</table>\n",
       "</div>"
      ],
      "text/plain": [
       "           sentiment            len\n",
       "count  123419.000000  123419.000000\n",
       "mean        0.886265     109.333879\n",
       "std         0.317490     119.104230\n",
       "min         0.000000       1.000000\n",
       "25%         1.000000      35.000000\n",
       "50%         1.000000      75.000000\n",
       "75%         1.000000     143.000000\n",
       "max         1.000000    5285.000000"
      ]
     },
     "execution_count": 8,
     "metadata": {},
     "output_type": "execute_result"
    }
   ],
   "source": [
    "df.describe()"
   ]
  },
  {
   "cell_type": "code",
   "execution_count": 11,
   "metadata": {
    "collapsed": true
   },
   "outputs": [],
   "source": [
    "# Mapping length of sentences\n",
    "def len_vis(data_col):\n",
    "    t_col = data_col.apply(lambda x: len(x))\n",
    "    fig=plt.figure() #Plots in matplotlib reside within a figure object, use plt.figure to create new figure\n",
    "    #Create one or more subplots using add_subplot, because you can't create blank figure\n",
    "    ax = fig.add_subplot(1,1,1)\n",
    "    #Variable\n",
    "    ax.hist(t_col,bins = 50) # Here you can play with number of bins\n",
    "\n",
    "    plt.title('Length Distribution')\n",
    "    plt.xlabel('Length')\n",
    "    plt.ylabel('Frequency')\n",
    "    plt.show()"
   ]
  },
  {
   "cell_type": "code",
   "execution_count": 13,
   "metadata": {
    "collapsed": false
   },
   "outputs": [
    {
     "data": {
      "image/png": "[encoded data removed]",
      "text/plain": [
       "<matplotlib.figure.Figure at 0x112a021d0>"
      ]
     },
     "metadata": {},
     "output_type": "display_data"
    }
   ],
   "source": [
    "len_vis(df['review'])"
   ]
  },
  {
   "cell_type": "code",
   "execution_count": 19,
   "metadata": {
    "collapsed": true
   },
   "outputs": [],
   "source": [
    "def count_unique(words):\n",
    "    uniq = set()\n",
    "    for sentence in words:\n",
    "        for word in sentence:\n",
    "            uniq.add(word)\n",
    "    return len(uniq)"
   ]
  },
  {
   "cell_type": "code",
   "execution_count": 15,
   "metadata": {
    "collapsed": true
   },
   "outputs": [],
   "source": [
    "df['review'] = df['review'].apply(lambda x: unicode(x, errors = \"ignore\"))"
   ]
  },
  {
   "cell_type": "code",
   "execution_count": 16,
   "metadata": {
    "collapsed": false
   },
   "outputs": [
    {
     "data": {
      "text/html": [
       "<div>\n",
       "<table border=\"1\" class=\"dataframe\">\n",
       "  <thead>\n",
       "    <tr style=\"text-align: right;\">\n",
       "      <th></th>\n",
       "      <th>review</th>\n",
       "      <th>sentiment</th>\n",
       "      <th>len</th>\n",
       "    </tr>\n",
       "  </thead>\n",
       "  <tbody>\n",
       "    <tr>\n",
       "      <th>0</th>\n",
       "      <td>[no, problem, with, constant, improvement, i, ...</td>\n",
       "      <td>1</td>\n",
       "      <td>1316</td>\n",
       "    </tr>\n",
       "    <tr>\n",
       "      <th>1</th>\n",
       "      <td>[i, live, minutes, away, from, the, nearest, b...</td>\n",
       "      <td>1</td>\n",
       "      <td>1276</td>\n",
       "    </tr>\n",
       "    <tr>\n",
       "      <th>2</th>\n",
       "      <td>[i, am, very, annoyed, with, this, app, i, do,...</td>\n",
       "      <td>0</td>\n",
       "      <td>1373</td>\n",
       "    </tr>\n",
       "    <tr>\n",
       "      <th>3</th>\n",
       "      <td>[i, dont, see, how, so, many, people, on, the,...</td>\n",
       "      <td>1</td>\n",
       "      <td>1203</td>\n",
       "    </tr>\n",
       "    <tr>\n",
       "      <th>4</th>\n",
       "      <td>[you, can, do, almost, every, function, the, f...</td>\n",
       "      <td>1</td>\n",
       "      <td>1212</td>\n",
       "    </tr>\n",
       "  </tbody>\n",
       "</table>\n",
       "</div>"
      ],
      "text/plain": [
       "                                              review  sentiment   len\n",
       "0  [no, problem, with, constant, improvement, i, ...          1  1316\n",
       "1  [i, live, minutes, away, from, the, nearest, b...          1  1276\n",
       "2  [i, am, very, annoyed, with, this, app, i, do,...          0  1373\n",
       "3  [i, dont, see, how, so, many, people, on, the,...          1  1203\n",
       "4  [you, can, do, almost, every, function, the, f...          1  1212"
      ]
     },
     "execution_count": 16,
     "metadata": {},
     "output_type": "execute_result"
    }
   ],
   "source": [
    "from nltk.tokenize import RegexpTokenizer\n",
    "\n",
    "tokenizer = RegexpTokenizer(r'\\w+')\n",
    "\n",
    "df['review'] = df['review'].apply(lambda x: tokenizer.tokenize(x))\n",
    "df.head()"
   ]
  },
  {
   "cell_type": "code",
   "execution_count": 20,
   "metadata": {
    "collapsed": false
   },
   "outputs": [
    {
     "data": {
      "text/plain": [
       "26861"
      ]
     },
     "execution_count": 20,
     "metadata": {},
     "output_type": "execute_result"
    }
   ],
   "source": [
    "count_unique(df['review'])"
   ]
  },
  {
   "cell_type": "code",
   "execution_count": 22,
   "metadata": {
    "collapsed": false
   },
   "outputs": [],
   "source": [
    "# POS tag\n",
    "df['posr']= df['review'].apply(lambda x: nltk.pos_tag(x))\n",
    "# Leave the non POS removal ones alone\n",
    "df['nposr'] = df['review']"
   ]
  },
  {
   "cell_type": "code",
   "execution_count": 23,
   "metadata": {
    "collapsed": false
   },
   "outputs": [
    {
     "data": {
      "image/png": "[encoded data removed]",
      "text/plain": [
       "<matplotlib.figure.Figure at 0x112982e10>"
      ]
     },
     "metadata": {},
     "output_type": "display_data"
    }
   ],
   "source": [
    "# Visualize Parts of Speech\n",
    "pos_dict = {}\n",
    "for sent in df['posr']:\n",
    "    for pair in sent:\n",
    "        if pair[1] in pos_dict:\n",
    "            pos_dict[pair[1]].add(pair[0])\n",
    "        else:\n",
    "            pos_dict.update({pair[1]: set(pair[0])})\n",
    "\n",
    "# Pie chart of POS distribution\n",
    "temp = pos_dict.values()\n",
    "x_list = []\n",
    "for x in temp: \n",
    "    x_list.append(len(x))\n",
    "label_list = pos_dict.keys()\n",
    "pyplot.axis(\"equal\") #The pie chart is oval by default. To make it a circle use pyplot.axis(\"equal\")\n",
    "#To show the percentage of each pie slice, pass an output format to the autopctparameter \n",
    "plt.pie(x_list,labels=label_list) \n",
    "plt.title(\"POS Distribution\")\n",
    "plt.show()"
   ]
  },
  {
   "cell_type": "code",
   "execution_count": 24,
   "metadata": {
    "collapsed": false
   },
   "outputs": [
    {
     "data": {
      "text/html": [
       "<div>\n",
       "<table border=\"1\" class=\"dataframe\">\n",
       "  <thead>\n",
       "    <tr style=\"text-align: right;\">\n",
       "      <th></th>\n",
       "      <th>review</th>\n",
       "      <th>sentiment</th>\n",
       "      <th>len</th>\n",
       "      <th>posr</th>\n",
       "      <th>nposr</th>\n",
       "    </tr>\n",
       "  </thead>\n",
       "  <tbody>\n",
       "    <tr>\n",
       "      <th>0</th>\n",
       "      <td>[no, problem, with, constant, improvement, i, ...</td>\n",
       "      <td>1</td>\n",
       "      <td>1316</td>\n",
       "      <td>[(no, DT), (problem, NN), (with, IN), (constan...</td>\n",
       "      <td>[no, problem, with, constant, improvement, i, ...</td>\n",
       "    </tr>\n",
       "    <tr>\n",
       "      <th>1</th>\n",
       "      <td>[i, live, minutes, away, from, the, nearest, b...</td>\n",
       "      <td>1</td>\n",
       "      <td>1276</td>\n",
       "      <td>[(i, JJ), (live, VBP), (minutes, NNS), (away, ...</td>\n",
       "      <td>[i, live, minutes, away, from, the, nearest, b...</td>\n",
       "    </tr>\n",
       "    <tr>\n",
       "      <th>2</th>\n",
       "      <td>[i, am, very, annoyed, with, this, app, i, do,...</td>\n",
       "      <td>0</td>\n",
       "      <td>1373</td>\n",
       "      <td>[(i, NN), (am, VBP), (very, RB), (annoyed, JJ)...</td>\n",
       "      <td>[i, am, very, annoyed, with, this, app, i, do,...</td>\n",
       "    </tr>\n",
       "    <tr>\n",
       "      <th>3</th>\n",
       "      <td>[i, dont, see, how, so, many, people, on, the,...</td>\n",
       "      <td>1</td>\n",
       "      <td>1203</td>\n",
       "      <td>[(i, JJ), (dont, NN), (see, VBP), (how, WRB), ...</td>\n",
       "      <td>[i, dont, see, how, so, many, people, on, the,...</td>\n",
       "    </tr>\n",
       "    <tr>\n",
       "      <th>4</th>\n",
       "      <td>[you, can, do, almost, every, function, the, f...</td>\n",
       "      <td>1</td>\n",
       "      <td>1212</td>\n",
       "      <td>[(you, PRP), (can, MD), (do, VB), (almost, RB)...</td>\n",
       "      <td>[you, can, do, almost, every, function, the, f...</td>\n",
       "    </tr>\n",
       "  </tbody>\n",
       "</table>\n",
       "</div>"
      ],
      "text/plain": [
       "                                              review  sentiment   len  \\\n",
       "0  [no, problem, with, constant, improvement, i, ...          1  1316   \n",
       "1  [i, live, minutes, away, from, the, nearest, b...          1  1276   \n",
       "2  [i, am, very, annoyed, with, this, app, i, do,...          0  1373   \n",
       "3  [i, dont, see, how, so, many, people, on, the,...          1  1203   \n",
       "4  [you, can, do, almost, every, function, the, f...          1  1212   \n",
       "\n",
       "                                                posr  \\\n",
       "0  [(no, DT), (problem, NN), (with, IN), (constan...   \n",
       "1  [(i, JJ), (live, VBP), (minutes, NNS), (away, ...   \n",
       "2  [(i, NN), (am, VBP), (very, RB), (annoyed, JJ)...   \n",
       "3  [(i, JJ), (dont, NN), (see, VBP), (how, WRB), ...   \n",
       "4  [(you, PRP), (can, MD), (do, VB), (almost, RB)...   \n",
       "\n",
       "                                               nposr  \n",
       "0  [no, problem, with, constant, improvement, i, ...  \n",
       "1  [i, live, minutes, away, from, the, nearest, b...  \n",
       "2  [i, am, very, annoyed, with, this, app, i, do,...  \n",
       "3  [i, dont, see, how, so, many, people, on, the,...  \n",
       "4  [you, can, do, almost, every, function, the, f...  "
      ]
     },
     "execution_count": 24,
     "metadata": {},
     "output_type": "execute_result"
    }
   ],
   "source": [
    "df.head()"
   ]
  },
  {
   "cell_type": "code",
   "execution_count": 25,
   "metadata": {
    "collapsed": false
   },
   "outputs": [
    {
     "data": {
      "text/html": [
       "<div>\n",
       "<table border=\"1\" class=\"dataframe\">\n",
       "  <thead>\n",
       "    <tr style=\"text-align: right;\">\n",
       "      <th></th>\n",
       "      <th>review</th>\n",
       "      <th>sentiment</th>\n",
       "      <th>len</th>\n",
       "      <th>posr</th>\n",
       "      <th>nposr</th>\n",
       "    </tr>\n",
       "  </thead>\n",
       "  <tbody>\n",
       "    <tr>\n",
       "      <th>0</th>\n",
       "      <td>[no, problem, with, constant, improvement, i, ...</td>\n",
       "      <td>1</td>\n",
       "      <td>1316</td>\n",
       "      <td>[problem, constant, improvement, i, switched, ...</td>\n",
       "      <td>[no, problem, with, constant, improvement, i, ...</td>\n",
       "    </tr>\n",
       "    <tr>\n",
       "      <th>1</th>\n",
       "      <td>[i, live, minutes, away, from, the, nearest, b...</td>\n",
       "      <td>1</td>\n",
       "      <td>1276</td>\n",
       "      <td>[i, minutes, away, nearest, branch, app, lets,...</td>\n",
       "      <td>[i, live, minutes, away, from, the, nearest, b...</td>\n",
       "    </tr>\n",
       "    <tr>\n",
       "      <th>2</th>\n",
       "      <td>[i, am, very, annoyed, with, this, app, i, do,...</td>\n",
       "      <td>0</td>\n",
       "      <td>1373</td>\n",
       "      <td>[i, very, annoyed, app, i, being, able, check,...</td>\n",
       "      <td>[i, am, very, annoyed, with, this, app, i, do,...</td>\n",
       "    </tr>\n",
       "    <tr>\n",
       "      <th>3</th>\n",
       "      <td>[i, dont, see, how, so, many, people, on, the,...</td>\n",
       "      <td>1</td>\n",
       "      <td>1203</td>\n",
       "      <td>[i, dont, so, many, people, reviews, not, show...</td>\n",
       "      <td>[i, dont, see, how, so, many, people, on, the,...</td>\n",
       "    </tr>\n",
       "    <tr>\n",
       "      <th>4</th>\n",
       "      <td>[you, can, do, almost, every, function, the, f...</td>\n",
       "      <td>1</td>\n",
       "      <td>1212</td>\n",
       "      <td>[do, almost, function, full, site, allows, do,...</td>\n",
       "      <td>[you, can, do, almost, every, function, the, f...</td>\n",
       "    </tr>\n",
       "  </tbody>\n",
       "</table>\n",
       "</div>"
      ],
      "text/plain": [
       "                                              review  sentiment   len  \\\n",
       "0  [no, problem, with, constant, improvement, i, ...          1  1316   \n",
       "1  [i, live, minutes, away, from, the, nearest, b...          1  1276   \n",
       "2  [i, am, very, annoyed, with, this, app, i, do,...          0  1373   \n",
       "3  [i, dont, see, how, so, many, people, on, the,...          1  1203   \n",
       "4  [you, can, do, almost, every, function, the, f...          1  1212   \n",
       "\n",
       "                                                posr  \\\n",
       "0  [problem, constant, improvement, i, switched, ...   \n",
       "1  [i, minutes, away, nearest, branch, app, lets,...   \n",
       "2  [i, very, annoyed, app, i, being, able, check,...   \n",
       "3  [i, dont, so, many, people, reviews, not, show...   \n",
       "4  [do, almost, function, full, site, allows, do,...   \n",
       "\n",
       "                                               nposr  \n",
       "0  [no, problem, with, constant, improvement, i, ...  \n",
       "1  [i, live, minutes, away, from, the, nearest, b...  \n",
       "2  [i, am, very, annoyed, with, this, app, i, do,...  \n",
       "3  [i, dont, see, how, so, many, people, on, the,...  \n",
       "4  [you, can, do, almost, every, function, the, f...  "
      ]
     },
     "execution_count": 25,
     "metadata": {},
     "output_type": "execute_result"
    }
   ],
   "source": [
    "pos_keep = [\"JJ\",\"JJR\",\"JJS\",\"NN\",\"NNP\",\"NNS\",\"RB\",\"RBR\",\"VB\",\"VBD\",\"VBG\",\"VBN\",\"VBZ\"]\n",
    "\n",
    "\n",
    "def remove_pos(full):\n",
    "    redc =[]\n",
    "    for pair in full:\n",
    "        if pair[1] in pos_keep:\n",
    "            redc.append(pair[0])\n",
    "    return redc\n",
    "# Remove the words that are not in pos_keep\n",
    "df['posr']= df['posr'].apply(lambda x: remove_pos(x))\n",
    "\n",
    "df.head()"
   ]
  },
  {
   "cell_type": "code",
   "execution_count": 26,
   "metadata": {
    "collapsed": false
   },
   "outputs": [
    {
     "name": "stdout",
     "output_type": "stream",
     "text": [
      "25703\n"
     ]
    }
   ],
   "source": [
    "print(count_unique(df['posr']))"
   ]
  },
  {
   "cell_type": "code",
   "execution_count": 27,
   "metadata": {
    "collapsed": false
   },
   "outputs": [
    {
     "data": {
      "text/html": [
       "<div>\n",
       "<table border=\"1\" class=\"dataframe\">\n",
       "  <thead>\n",
       "    <tr style=\"text-align: right;\">\n",
       "      <th></th>\n",
       "      <th>review</th>\n",
       "      <th>sentiment</th>\n",
       "      <th>len</th>\n",
       "      <th>posr</th>\n",
       "      <th>nposr</th>\n",
       "      <th>posr_stpd</th>\n",
       "      <th>nposr_stpd</th>\n",
       "      <th>posr_nstpd</th>\n",
       "      <th>nposr_nstpd</th>\n",
       "    </tr>\n",
       "  </thead>\n",
       "  <tbody>\n",
       "    <tr>\n",
       "      <th>0</th>\n",
       "      <td>[no, problem, with, constant, improvement, i, ...</td>\n",
       "      <td>1</td>\n",
       "      <td>1316</td>\n",
       "      <td>[problem, constant, improvement, i, switched, ...</td>\n",
       "      <td>[no, problem, with, constant, improvement, i, ...</td>\n",
       "      <td>[problem, constant, improvement, switched, cha...</td>\n",
       "      <td>[problem, constant, improvement, switched, cha...</td>\n",
       "      <td>[problem, constant, improvement, i, switched, ...</td>\n",
       "      <td>[no, problem, with, constant, improvement, i, ...</td>\n",
       "    </tr>\n",
       "    <tr>\n",
       "      <th>1</th>\n",
       "      <td>[i, live, minutes, away, from, the, nearest, b...</td>\n",
       "      <td>1</td>\n",
       "      <td>1276</td>\n",
       "      <td>[i, minutes, away, nearest, branch, app, lets,...</td>\n",
       "      <td>[i, live, minutes, away, from, the, nearest, b...</td>\n",
       "      <td>[minutes, away, nearest, branch, app, lets, ba...</td>\n",
       "      <td>[live, minutes, away, nearest, branch, app, le...</td>\n",
       "      <td>[i, minutes, away, nearest, branch, app, lets,...</td>\n",
       "      <td>[i, live, minutes, away, from, the, nearest, b...</td>\n",
       "    </tr>\n",
       "    <tr>\n",
       "      <th>2</th>\n",
       "      <td>[i, am, very, annoyed, with, this, app, i, do,...</td>\n",
       "      <td>0</td>\n",
       "      <td>1373</td>\n",
       "      <td>[i, very, annoyed, app, i, being, able, check,...</td>\n",
       "      <td>[i, am, very, annoyed, with, this, app, i, do,...</td>\n",
       "      <td>[annoyed, app, able, check, balance, recent, c...</td>\n",
       "      <td>[annoyed, app, like, able, check, balance, rec...</td>\n",
       "      <td>[i, very, annoyed, app, i, being, able, check,...</td>\n",
       "      <td>[i, am, very, annoyed, with, this, app, i, do,...</td>\n",
       "    </tr>\n",
       "    <tr>\n",
       "      <th>3</th>\n",
       "      <td>[i, dont, see, how, so, many, people, on, the,...</td>\n",
       "      <td>1</td>\n",
       "      <td>1203</td>\n",
       "      <td>[i, dont, so, many, people, reviews, not, show...</td>\n",
       "      <td>[i, dont, see, how, so, many, people, on, the,...</td>\n",
       "      <td>[dont, many, people, reviews, not, showing, cu...</td>\n",
       "      <td>[dont, see, many, people, reviews, complain, n...</td>\n",
       "      <td>[i, dont, so, many, people, reviews, not, show...</td>\n",
       "      <td>[i, dont, see, how, so, many, people, on, the,...</td>\n",
       "    </tr>\n",
       "    <tr>\n",
       "      <th>4</th>\n",
       "      <td>[you, can, do, almost, every, function, the, f...</td>\n",
       "      <td>1</td>\n",
       "      <td>1212</td>\n",
       "      <td>[do, almost, function, full, site, allows, do,...</td>\n",
       "      <td>[you, can, do, almost, every, function, the, f...</td>\n",
       "      <td>[almost, function, full, site, allows, directl...</td>\n",
       "      <td>[almost, every, function, full, site, allows, ...</td>\n",
       "      <td>[do, almost, function, full, site, allows, do,...</td>\n",
       "      <td>[you, can, do, almost, every, function, the, f...</td>\n",
       "    </tr>\n",
       "  </tbody>\n",
       "</table>\n",
       "</div>"
      ],
      "text/plain": [
       "                                              review  sentiment   len  \\\n",
       "0  [no, problem, with, constant, improvement, i, ...          1  1316   \n",
       "1  [i, live, minutes, away, from, the, nearest, b...          1  1276   \n",
       "2  [i, am, very, annoyed, with, this, app, i, do,...          0  1373   \n",
       "3  [i, dont, see, how, so, many, people, on, the,...          1  1203   \n",
       "4  [you, can, do, almost, every, function, the, f...          1  1212   \n",
       "\n",
       "                                                posr  \\\n",
       "0  [problem, constant, improvement, i, switched, ...   \n",
       "1  [i, minutes, away, nearest, branch, app, lets,...   \n",
       "2  [i, very, annoyed, app, i, being, able, check,...   \n",
       "3  [i, dont, so, many, people, reviews, not, show...   \n",
       "4  [do, almost, function, full, site, allows, do,...   \n",
       "\n",
       "                                               nposr  \\\n",
       "0  [no, problem, with, constant, improvement, i, ...   \n",
       "1  [i, live, minutes, away, from, the, nearest, b...   \n",
       "2  [i, am, very, annoyed, with, this, app, i, do,...   \n",
       "3  [i, dont, see, how, so, many, people, on, the,...   \n",
       "4  [you, can, do, almost, every, function, the, f...   \n",
       "\n",
       "                                           posr_stpd  \\\n",
       "0  [problem, constant, improvement, switched, cha...   \n",
       "1  [minutes, away, nearest, branch, app, lets, ba...   \n",
       "2  [annoyed, app, able, check, balance, recent, c...   \n",
       "3  [dont, many, people, reviews, not, showing, cu...   \n",
       "4  [almost, function, full, site, allows, directl...   \n",
       "\n",
       "                                          nposr_stpd  \\\n",
       "0  [problem, constant, improvement, switched, cha...   \n",
       "1  [live, minutes, away, nearest, branch, app, le...   \n",
       "2  [annoyed, app, like, able, check, balance, rec...   \n",
       "3  [dont, see, many, people, reviews, complain, n...   \n",
       "4  [almost, every, function, full, site, allows, ...   \n",
       "\n",
       "                                          posr_nstpd  \\\n",
       "0  [problem, constant, improvement, i, switched, ...   \n",
       "1  [i, minutes, away, nearest, branch, app, lets,...   \n",
       "2  [i, very, annoyed, app, i, being, able, check,...   \n",
       "3  [i, dont, so, many, people, reviews, not, show...   \n",
       "4  [do, almost, function, full, site, allows, do,...   \n",
       "\n",
       "                                         nposr_nstpd  \n",
       "0  [no, problem, with, constant, improvement, i, ...  \n",
       "1  [i, live, minutes, away, from, the, nearest, b...  \n",
       "2  [i, am, very, annoyed, with, this, app, i, do,...  \n",
       "3  [i, dont, see, how, so, many, people, on, the,...  \n",
       "4  [you, can, do, almost, every, function, the, f...  "
      ]
     },
     "execution_count": 27,
     "metadata": {},
     "output_type": "execute_result"
    }
   ],
   "source": [
    "# Import the list of stopwords from NLTK\n",
    "from nltk.corpus import stopwords\n",
    "\n",
    "# Remove the stopwords and store in \"No Stops\" column\n",
    "stop = set(stopwords.words('english'))\n",
    "# Ensure \"not\" is kept\n",
    "stop.remove(\"not\")\n",
    "df['posr_stpd'] = df['posr'].apply(lambda x: [item for item in x if item not in stop])\n",
    "df['nposr_stpd'] = df['nposr'].apply(lambda x: [item for item in x if item not in stop])\n",
    "df['posr_nstpd'] = df['posr']\n",
    "df['nposr_nstpd'] = df['nposr']\n",
    "# visual check\n",
    "df.head()"
   ]
  },
  {
   "cell_type": "code",
   "execution_count": 28,
   "metadata": {
    "collapsed": false
   },
   "outputs": [
    {
     "data": {
      "text/html": [
       "<div>\n",
       "<table border=\"1\" class=\"dataframe\">\n",
       "  <thead>\n",
       "    <tr style=\"text-align: right;\">\n",
       "      <th></th>\n",
       "      <th>review</th>\n",
       "      <th>sentiment</th>\n",
       "      <th>len</th>\n",
       "      <th>posr</th>\n",
       "      <th>nposr</th>\n",
       "      <th>posr_stpd</th>\n",
       "      <th>nposr_stpd</th>\n",
       "      <th>posr_nstpd</th>\n",
       "      <th>nposr_nstpd</th>\n",
       "      <th>nposr_nstpd_nstem</th>\n",
       "      <th>...</th>\n",
       "      <th>nposr_stpd_port</th>\n",
       "      <th>posr_stpd_port</th>\n",
       "      <th>nposr_nstpd_snow</th>\n",
       "      <th>posr_nstpd_snow</th>\n",
       "      <th>nposr_stpd_snow</th>\n",
       "      <th>posr_stpd_snow</th>\n",
       "      <th>nposr_nstpd_lanc</th>\n",
       "      <th>posr_nstpd_lanc</th>\n",
       "      <th>nposr_stpd_lanc</th>\n",
       "      <th>posr_stpd_lanc</th>\n",
       "    </tr>\n",
       "  </thead>\n",
       "  <tbody>\n",
       "    <tr>\n",
       "      <th>0</th>\n",
       "      <td>[no, problem, with, constant, improvement, i, ...</td>\n",
       "      <td>1</td>\n",
       "      <td>1316</td>\n",
       "      <td>[problem, constant, improvement, i, switched, ...</td>\n",
       "      <td>[no, problem, with, constant, improvement, i, ...</td>\n",
       "      <td>[problem, constant, improvement, switched, cha...</td>\n",
       "      <td>[problem, constant, improvement, switched, cha...</td>\n",
       "      <td>[problem, constant, improvement, i, switched, ...</td>\n",
       "      <td>[no, problem, with, constant, improvement, i, ...</td>\n",
       "      <td>[no, problem, with, constant, improvement, i, ...</td>\n",
       "      <td>...</td>\n",
       "      <td>[problem, constant, improv, switch, chase, app...</td>\n",
       "      <td>[problem, constant, improv, switch, chase, app...</td>\n",
       "      <td>[no, problem, with, constant, improv, i, switc...</td>\n",
       "      <td>[problem, constant, improv, i, switch, chase, ...</td>\n",
       "      <td>[problem, constant, improv, switch, chase, app...</td>\n",
       "      <td>[problem, constant, improv, switch, chase, app...</td>\n",
       "      <td>[no, problem, with, const, improv, i, switch, ...</td>\n",
       "      <td>[problem, const, improv, i, switch, chas, ont,...</td>\n",
       "      <td>[problem, const, improv, switch, chas, approv,...</td>\n",
       "      <td>[problem, const, improv, switch, chas, approv,...</td>\n",
       "    </tr>\n",
       "    <tr>\n",
       "      <th>1</th>\n",
       "      <td>[i, live, minutes, away, from, the, nearest, b...</td>\n",
       "      <td>1</td>\n",
       "      <td>1276</td>\n",
       "      <td>[i, minutes, away, nearest, branch, app, lets,...</td>\n",
       "      <td>[i, live, minutes, away, from, the, nearest, b...</td>\n",
       "      <td>[minutes, away, nearest, branch, app, lets, ba...</td>\n",
       "      <td>[live, minutes, away, nearest, branch, app, le...</td>\n",
       "      <td>[i, minutes, away, nearest, branch, app, lets,...</td>\n",
       "      <td>[i, live, minutes, away, from, the, nearest, b...</td>\n",
       "      <td>[i, live, minutes, away, from, the, nearest, b...</td>\n",
       "      <td>...</td>\n",
       "      <td>[live, minut, away, nearest, branch, app, let,...</td>\n",
       "      <td>[minut, away, nearest, branch, app, let, basic...</td>\n",
       "      <td>[i, live, minut, away, from, the, nearest, bra...</td>\n",
       "      <td>[i, minut, away, nearest, branch, app, let, do...</td>\n",
       "      <td>[live, minut, away, nearest, branch, app, let,...</td>\n",
       "      <td>[minut, away, nearest, branch, app, let, basic...</td>\n",
       "      <td>[i, liv, minut, away, from, the, nearest, bran...</td>\n",
       "      <td>[i, minut, away, nearest, branch, ap, let, do,...</td>\n",
       "      <td>[liv, minut, away, nearest, branch, ap, let, b...</td>\n",
       "      <td>[minut, away, nearest, branch, ap, let, bas, b...</td>\n",
       "    </tr>\n",
       "    <tr>\n",
       "      <th>2</th>\n",
       "      <td>[i, am, very, annoyed, with, this, app, i, do,...</td>\n",
       "      <td>0</td>\n",
       "      <td>1373</td>\n",
       "      <td>[i, very, annoyed, app, i, being, able, check,...</td>\n",
       "      <td>[i, am, very, annoyed, with, this, app, i, do,...</td>\n",
       "      <td>[annoyed, app, able, check, balance, recent, c...</td>\n",
       "      <td>[annoyed, app, like, able, check, balance, rec...</td>\n",
       "      <td>[i, very, annoyed, app, i, being, able, check,...</td>\n",
       "      <td>[i, am, very, annoyed, with, this, app, i, do,...</td>\n",
       "      <td>[i, am, very, annoyed, with, this, app, i, do,...</td>\n",
       "      <td>...</td>\n",
       "      <td>[annoy, app, like, abl, check, balanc, recent,...</td>\n",
       "      <td>[annoy, app, abl, check, balanc, recent, check...</td>\n",
       "      <td>[i, am, veri, annoy, with, this, app, i, do, l...</td>\n",
       "      <td>[i, veri, annoy, app, i, be, abl, check, balan...</td>\n",
       "      <td>[annoy, app, like, abl, check, balanc, recent,...</td>\n",
       "      <td>[annoy, app, abl, check, balanc, recent, check...</td>\n",
       "      <td>[i, am, very, annoy, with, thi, ap, i, do, lik...</td>\n",
       "      <td>[i, very, annoy, ap, i, being, abl, check, bal...</td>\n",
       "      <td>[annoy, ap, lik, abl, check, bal, rec, check, ...</td>\n",
       "      <td>[annoy, ap, abl, check, bal, rec, check, credi...</td>\n",
       "    </tr>\n",
       "    <tr>\n",
       "      <th>3</th>\n",
       "      <td>[i, dont, see, how, so, many, people, on, the,...</td>\n",
       "      <td>1</td>\n",
       "      <td>1203</td>\n",
       "      <td>[i, dont, so, many, people, reviews, not, show...</td>\n",
       "      <td>[i, dont, see, how, so, many, people, on, the,...</td>\n",
       "      <td>[dont, many, people, reviews, not, showing, cu...</td>\n",
       "      <td>[dont, see, many, people, reviews, complain, n...</td>\n",
       "      <td>[i, dont, so, many, people, reviews, not, show...</td>\n",
       "      <td>[i, dont, see, how, so, many, people, on, the,...</td>\n",
       "      <td>[i, dont, see, how, so, many, people, on, the,...</td>\n",
       "      <td>...</td>\n",
       "      <td>[dont, see, mani, peopl, review, complain, not...</td>\n",
       "      <td>[dont, mani, peopl, review, not, show, current...</td>\n",
       "      <td>[i, dont, see, how, so, mani, peopl, on, the, ...</td>\n",
       "      <td>[i, dont, so, mani, peopl, review, not, show, ...</td>\n",
       "      <td>[dont, see, mani, peopl, review, complain, not...</td>\n",
       "      <td>[dont, mani, peopl, review, not, show, current...</td>\n",
       "      <td>[i, dont, see, how, so, many, peopl, on, the, ...</td>\n",
       "      <td>[i, dont, so, many, peopl, review, not, show, ...</td>\n",
       "      <td>[dont, see, many, peopl, review, complain, not...</td>\n",
       "      <td>[dont, many, peopl, review, not, show, cur, am...</td>\n",
       "    </tr>\n",
       "    <tr>\n",
       "      <th>4</th>\n",
       "      <td>[you, can, do, almost, every, function, the, f...</td>\n",
       "      <td>1</td>\n",
       "      <td>1212</td>\n",
       "      <td>[do, almost, function, full, site, allows, do,...</td>\n",
       "      <td>[you, can, do, almost, every, function, the, f...</td>\n",
       "      <td>[almost, function, full, site, allows, directl...</td>\n",
       "      <td>[almost, every, function, full, site, allows, ...</td>\n",
       "      <td>[do, almost, function, full, site, allows, do,...</td>\n",
       "      <td>[you, can, do, almost, every, function, the, f...</td>\n",
       "      <td>[you, can, do, almost, every, function, the, f...</td>\n",
       "      <td>...</td>\n",
       "      <td>[almost, everi, function, full, site, allow, d...</td>\n",
       "      <td>[almost, function, full, site, allow, directli...</td>\n",
       "      <td>[you, can, do, almost, everi, function, the, f...</td>\n",
       "      <td>[do, almost, function, full, site, allow, do, ...</td>\n",
       "      <td>[almost, everi, function, full, site, allow, d...</td>\n",
       "      <td>[almost, function, full, site, allow, direct, ...</td>\n",
       "      <td>[you, can, do, almost, every, funct, the, ful,...</td>\n",
       "      <td>[do, almost, funct, ful, sit, allow, do, direc...</td>\n",
       "      <td>[almost, every, funct, ful, sit, allow, direct...</td>\n",
       "      <td>[almost, funct, ful, sit, allow, direct, ap, r...</td>\n",
       "    </tr>\n",
       "  </tbody>\n",
       "</table>\n",
       "<p>5 rows × 25 columns</p>\n",
       "</div>"
      ],
      "text/plain": [
       "                                              review  sentiment   len  \\\n",
       "0  [no, problem, with, constant, improvement, i, ...          1  1316   \n",
       "1  [i, live, minutes, away, from, the, nearest, b...          1  1276   \n",
       "2  [i, am, very, annoyed, with, this, app, i, do,...          0  1373   \n",
       "3  [i, dont, see, how, so, many, people, on, the,...          1  1203   \n",
       "4  [you, can, do, almost, every, function, the, f...          1  1212   \n",
       "\n",
       "                                                posr  \\\n",
       "0  [problem, constant, improvement, i, switched, ...   \n",
       "1  [i, minutes, away, nearest, branch, app, lets,...   \n",
       "2  [i, very, annoyed, app, i, being, able, check,...   \n",
       "3  [i, dont, so, many, people, reviews, not, show...   \n",
       "4  [do, almost, function, full, site, allows, do,...   \n",
       "\n",
       "                                               nposr  \\\n",
       "0  [no, problem, with, constant, improvement, i, ...   \n",
       "1  [i, live, minutes, away, from, the, nearest, b...   \n",
       "2  [i, am, very, annoyed, with, this, app, i, do,...   \n",
       "3  [i, dont, see, how, so, many, people, on, the,...   \n",
       "4  [you, can, do, almost, every, function, the, f...   \n",
       "\n",
       "                                           posr_stpd  \\\n",
       "0  [problem, constant, improvement, switched, cha...   \n",
       "1  [minutes, away, nearest, branch, app, lets, ba...   \n",
       "2  [annoyed, app, able, check, balance, recent, c...   \n",
       "3  [dont, many, people, reviews, not, showing, cu...   \n",
       "4  [almost, function, full, site, allows, directl...   \n",
       "\n",
       "                                          nposr_stpd  \\\n",
       "0  [problem, constant, improvement, switched, cha...   \n",
       "1  [live, minutes, away, nearest, branch, app, le...   \n",
       "2  [annoyed, app, like, able, check, balance, rec...   \n",
       "3  [dont, see, many, people, reviews, complain, n...   \n",
       "4  [almost, every, function, full, site, allows, ...   \n",
       "\n",
       "                                          posr_nstpd  \\\n",
       "0  [problem, constant, improvement, i, switched, ...   \n",
       "1  [i, minutes, away, nearest, branch, app, lets,...   \n",
       "2  [i, very, annoyed, app, i, being, able, check,...   \n",
       "3  [i, dont, so, many, people, reviews, not, show...   \n",
       "4  [do, almost, function, full, site, allows, do,...   \n",
       "\n",
       "                                         nposr_nstpd  \\\n",
       "0  [no, problem, with, constant, improvement, i, ...   \n",
       "1  [i, live, minutes, away, from, the, nearest, b...   \n",
       "2  [i, am, very, annoyed, with, this, app, i, do,...   \n",
       "3  [i, dont, see, how, so, many, people, on, the,...   \n",
       "4  [you, can, do, almost, every, function, the, f...   \n",
       "\n",
       "                                   nposr_nstpd_nstem  \\\n",
       "0  [no, problem, with, constant, improvement, i, ...   \n",
       "1  [i, live, minutes, away, from, the, nearest, b...   \n",
       "2  [i, am, very, annoyed, with, this, app, i, do,...   \n",
       "3  [i, dont, see, how, so, many, people, on, the,...   \n",
       "4  [you, can, do, almost, every, function, the, f...   \n",
       "\n",
       "                         ...                          \\\n",
       "0                        ...                           \n",
       "1                        ...                           \n",
       "2                        ...                           \n",
       "3                        ...                           \n",
       "4                        ...                           \n",
       "\n",
       "                                     nposr_stpd_port  \\\n",
       "0  [problem, constant, improv, switch, chase, app...   \n",
       "1  [live, minut, away, nearest, branch, app, let,...   \n",
       "2  [annoy, app, like, abl, check, balanc, recent,...   \n",
       "3  [dont, see, mani, peopl, review, complain, not...   \n",
       "4  [almost, everi, function, full, site, allow, d...   \n",
       "\n",
       "                                      posr_stpd_port  \\\n",
       "0  [problem, constant, improv, switch, chase, app...   \n",
       "1  [minut, away, nearest, branch, app, let, basic...   \n",
       "2  [annoy, app, abl, check, balanc, recent, check...   \n",
       "3  [dont, mani, peopl, review, not, show, current...   \n",
       "4  [almost, function, full, site, allow, directli...   \n",
       "\n",
       "                                    nposr_nstpd_snow  \\\n",
       "0  [no, problem, with, constant, improv, i, switc...   \n",
       "1  [i, live, minut, away, from, the, nearest, bra...   \n",
       "2  [i, am, veri, annoy, with, this, app, i, do, l...   \n",
       "3  [i, dont, see, how, so, mani, peopl, on, the, ...   \n",
       "4  [you, can, do, almost, everi, function, the, f...   \n",
       "\n",
       "                                     posr_nstpd_snow  \\\n",
       "0  [problem, constant, improv, i, switch, chase, ...   \n",
       "1  [i, minut, away, nearest, branch, app, let, do...   \n",
       "2  [i, veri, annoy, app, i, be, abl, check, balan...   \n",
       "3  [i, dont, so, mani, peopl, review, not, show, ...   \n",
       "4  [do, almost, function, full, site, allow, do, ...   \n",
       "\n",
       "                                     nposr_stpd_snow  \\\n",
       "0  [problem, constant, improv, switch, chase, app...   \n",
       "1  [live, minut, away, nearest, branch, app, let,...   \n",
       "2  [annoy, app, like, abl, check, balanc, recent,...   \n",
       "3  [dont, see, mani, peopl, review, complain, not...   \n",
       "4  [almost, everi, function, full, site, allow, d...   \n",
       "\n",
       "                                      posr_stpd_snow  \\\n",
       "0  [problem, constant, improv, switch, chase, app...   \n",
       "1  [minut, away, nearest, branch, app, let, basic...   \n",
       "2  [annoy, app, abl, check, balanc, recent, check...   \n",
       "3  [dont, mani, peopl, review, not, show, current...   \n",
       "4  [almost, function, full, site, allow, direct, ...   \n",
       "\n",
       "                                    nposr_nstpd_lanc  \\\n",
       "0  [no, problem, with, const, improv, i, switch, ...   \n",
       "1  [i, liv, minut, away, from, the, nearest, bran...   \n",
       "2  [i, am, very, annoy, with, thi, ap, i, do, lik...   \n",
       "3  [i, dont, see, how, so, many, peopl, on, the, ...   \n",
       "4  [you, can, do, almost, every, funct, the, ful,...   \n",
       "\n",
       "                                     posr_nstpd_lanc  \\\n",
       "0  [problem, const, improv, i, switch, chas, ont,...   \n",
       "1  [i, minut, away, nearest, branch, ap, let, do,...   \n",
       "2  [i, very, annoy, ap, i, being, abl, check, bal...   \n",
       "3  [i, dont, so, many, peopl, review, not, show, ...   \n",
       "4  [do, almost, funct, ful, sit, allow, do, direc...   \n",
       "\n",
       "                                     nposr_stpd_lanc  \\\n",
       "0  [problem, const, improv, switch, chas, approv,...   \n",
       "1  [liv, minut, away, nearest, branch, ap, let, b...   \n",
       "2  [annoy, ap, lik, abl, check, bal, rec, check, ...   \n",
       "3  [dont, see, many, peopl, review, complain, not...   \n",
       "4  [almost, every, funct, ful, sit, allow, direct...   \n",
       "\n",
       "                                      posr_stpd_lanc  \n",
       "0  [problem, const, improv, switch, chas, approv,...  \n",
       "1  [minut, away, nearest, branch, ap, let, bas, b...  \n",
       "2  [annoy, ap, abl, check, bal, rec, check, credi...  \n",
       "3  [dont, many, peopl, review, not, show, cur, am...  \n",
       "4  [almost, funct, ful, sit, allow, direct, ap, r...  \n",
       "\n",
       "[5 rows x 25 columns]"
      ]
     },
     "execution_count": 28,
     "metadata": {},
     "output_type": "execute_result"
    }
   ],
   "source": [
    "#testing 3 different stemmers: porter, snowball, and lancaster\n",
    "ps = nltk.PorterStemmer()\n",
    "ss = nltk.SnowballStemmer('english')\n",
    "ls = nltk.LancasterStemmer()\n",
    "\n",
    "# No Stemming\n",
    "df['nposr_nstpd_nstem'] = df['nposr_nstpd']\n",
    "df['posr_nstpd_nstem'] = df['posr_nstpd']\n",
    "df['nposr_stpd_nstem'] = df['nposr_stpd']\n",
    "df['posr_stpd_nstem'] = df['posr_stpd']\n",
    "# Porter\n",
    "df['nposr_nstpd_port'] = df['nposr_nstpd'].apply(lambda x: [ps.stem(y) for y in x])\n",
    "df['posr_nstpd_port'] = df['posr_nstpd'].apply(lambda x: [ps.stem(y) for y in x])\n",
    "df['nposr_stpd_port'] = df['nposr_stpd'].apply(lambda x: [ps.stem(y) for y in x])\n",
    "df['posr_stpd_port'] = df['posr_stpd'].apply(lambda x: [ps.stem(y) for y in x])\n",
    "# Snowball\n",
    "df['nposr_nstpd_snow'] = df['nposr_nstpd'].apply(lambda x: [ss.stem(y) for y in x])\n",
    "df['posr_nstpd_snow'] = df['posr_nstpd'].apply(lambda x: [ss.stem(y) for y in x])\n",
    "df['nposr_stpd_snow'] = df['nposr_stpd'].apply(lambda x: [ss.stem(y) for y in x])\n",
    "df['posr_stpd_snow'] = df['posr_stpd'].apply(lambda x: [ss.stem(y) for y in x])\n",
    "# Lancaster\n",
    "df['nposr_nstpd_lanc'] = df['nposr_nstpd'].apply(lambda x: [ls.stem(y) for y in x])\n",
    "df['posr_nstpd_lanc'] = df['posr_nstpd'].apply(lambda x: [ls.stem(y) for y in x])\n",
    "df['nposr_stpd_lanc'] = df['nposr_stpd'].apply(lambda x: [ls.stem(y) for y in x])\n",
    "df['posr_stpd_lanc'] = df['posr_stpd'].apply(lambda x: [ls.stem(y) for y in x])\n",
    "\n",
    "df.head()"
   ]
  },
  {
   "cell_type": "code",
   "execution_count": 29,
   "metadata": {
    "collapsed": true
   },
   "outputs": [],
   "source": [
    "df.to_csv('final.csv')"
   ]
  },
  {
   "cell_type": "code",
   "execution_count": 30,
   "metadata": {
    "collapsed": false
   },
   "outputs": [
    {
     "name": "stderr",
     "output_type": "stream",
     "text": [
      "/usr/local/lib/python2.7/site-packages/nltk/twitter/__init__.py:20: UserWarning: The twython library has not been installed. Some functionality from the twitter package will not be available.\n",
      "  warnings.warn(\"The twython library has not been installed. \"\n"
     ]
    }
   ],
   "source": [
    "from nltk.classify import NaiveBayesClassifier\n",
    ">>> from nltk.corpus import subjectivity\n",
    ">>> from nltk.sentiment import SentimentAnalyzer\n",
    ">>> from nltk.sentiment.util import *\n",
    "\n",
    "from sklearn.linear_model import LogisticRegression\n",
    "from nltk.classify.scikitlearn import SklearnClassifier\n",
    "logreg = SklearnClassifier(LogisticRegression())"
   ]
  },
  {
   "cell_type": "code",
   "execution_count": 31,
   "metadata": {
    "collapsed": true
   },
   "outputs": [],
   "source": [
    "## Transform data into list of ([tokens],sentiment label)\n",
    "def createTrainingDataNLTK(sentences,labels):\n",
    "    rdata = np.vstack([sentences,labels])\n",
    "    rdata = np.transpose(rdata)\n",
    "    data = list();\n",
    "    for i in range(0,len(rdata)):\n",
    "        tokens = rdata[i][0].split(\" \")\n",
    "        d_tuple = (tokens, rdata[i][1]);\n",
    "        data.append(d_tuple)\n",
    "    return data;"
   ]
  },
  {
   "cell_type": "code",
   "execution_count": 32,
   "metadata": {
    "collapsed": true
   },
   "outputs": [],
   "source": [
    "# create a list of all possible feature reduction permutations in the order of stopword removal_pos_stem\n",
    "featurereductions = ['nposr_nstpd_nstem', 'posr_nstpd_nstem', \n",
    "                     'nposr_stpd_nstem', 'posr_stpd_nstem', \n",
    "                     'nposr_nstpd_port', 'nposr_nstpd_snow', 'nposr_nstpd_lanc', 'nposr_stpd_port', 'nposr_stpd_snow', 'nposr_stpd_lanc',\n",
    "                     'posr_nstpd_port', 'posr_nstpd_snow', 'posr_nstpd_lanc', 'posr_stpd_port', 'posr_stpd_snow', 'posr_stpd_lanc']"
   ]
  },
  {
   "cell_type": "code",
   "execution_count": 33,
   "metadata": {
    "collapsed": true
   },
   "outputs": [],
   "source": [
    "# merge the words into sentence to use current implementation of createTrainingData\n",
    "def create_nltk_train_data (feature_reduction):\n",
    "    df['sentences'] = df[feature_reduction].apply(lambda x: \" \".join(x).encode('UTF-8'))\n",
    "    x_label = \"sentences\"\n",
    "    y_label = \"sentiment\"\n",
    "    nltk_train_data = createTrainingDataNLTK(df[x_label],df[y_label])\n",
    "    return nltk_train_data"
   ]
  },
  {
   "cell_type": "code",
   "execution_count": 34,
   "metadata": {
    "collapsed": true
   },
   "outputs": [],
   "source": [
    "# returns the accuracy of the test data for Naive Bayes\n",
    "# when predicted against fitted training data\n",
    "def train1(training_set,test_set):\n",
    "    \n",
    "    sentim_analyzer = SentimentAnalyzer()\n",
    "    all_words_neg = sentim_analyzer.all_words([mark_negation(doc) for doc in training_set])\n",
    "    unigram_feats = sentim_analyzer.unigram_word_feats(all_words_neg, min_freq=4)\n",
    "    sentim_analyzer.add_feat_extractor(extract_unigram_feats, unigrams=unigram_feats)\n",
    "    \n",
    "    training_set = sentim_analyzer.apply_features(training_set)\n",
    "    test_set = sentim_analyzer.apply_features(test_set)\n",
    "                                              \n",
    "    trainer = NaiveBayesClassifier.train\n",
    "    classifier = sentim_analyzer.train(trainer, training_set)\n",
    "    results = sentim_analyzer.evaluate(test_set).items()                             \n",
    "    return results"
   ]
  },
  {
   "cell_type": "code",
   "execution_count": 36,
   "metadata": {
    "collapsed": false
   },
   "outputs": [],
   "source": [
    "# returns the accuracy of the test data for Logistic Regression\n",
    "# when predicted against fitted training data\n",
    "def train2(training_set,test_set):\n",
    "    \n",
    "    sentim_analyzer = SentimentAnalyzer()\n",
    "    all_words_neg = sentim_analyzer.all_words([mark_negation(doc) for doc in training_set])\n",
    "    unigram_feats = sentim_analyzer.unigram_word_feats(all_words_neg, min_freq=4)\n",
    "    sentim_analyzer.add_feat_extractor(extract_unigram_feats, unigrams=unigram_feats)\n",
    "    \n",
    "    training_set = sentim_analyzer.apply_features(training_set)\n",
    "    test_set = sentim_analyzer.apply_features(test_set)\n",
    "                                              \n",
    "    trainer = logreg.train\n",
    "    classifier = sentim_analyzer.train(trainer, training_set)\n",
    "    results = sentim_analyzer.evaluate(test_set).items()                             \n",
    "    return results"
   ]
  },
  {
   "cell_type": "code",
   "execution_count": 37,
   "metadata": {
    "collapsed": true
   },
   "outputs": [],
   "source": [
    "## A custom parser function to interpret results of training function\n",
    "def nltk_parser(results,summer):\n",
    "    for key,value in sorted(results):\n",
    "        #print('{0}: {1}'.format(key, value))\n",
    "        if key == \"Accuracy\": summer += value;\n",
    "    print\n",
    "    return summer"
   ]
  },
  {
   "cell_type": "code",
   "execution_count": 39,
   "metadata": {
    "collapsed": true
   },
   "outputs": [],
   "source": [
    "## k-fold cross validation designed to be agnostic to training data and training function\n",
    "def k_fold_validation(k,data,train_func,parser):\n",
    "    \n",
    "    b_length = len(data)/k; # the testing bucket length\n",
    "    sum_acc = 0; # Use this for average accuracy\n",
    "    print k, \"- fold cross validation\"\n",
    "    print \"-----------------------------\"\n",
    "    for i in range(0,k):       \n",
    "        s_i = i*b_length; # testing interval start index\n",
    "        f_i = s_i + b_length; # testing interval end index\n",
    "        test_data = data[s_i:f_i]\n",
    "        train_data = data[0:s_i]+data[f_i:len(data)];\n",
    "        metrics = train_func(train_data,test_data);\n",
    "        sum_acc = parser(metrics,sum_acc);\n",
    "\n",
    "    print '\\nAverage Accuracy:', sum_acc / k;"
   ]
  },
  {
   "cell_type": "code",
   "execution_count": 40,
   "metadata": {
    "collapsed": true
   },
   "outputs": [],
   "source": [
    "## k-fold cross validation designed to be agnostic to training data and training function\n",
    "# Returns average accuracy\n",
    "def k_fold_validation_simple(k,data,train_func,parser):\n",
    "    b_length = len(data)/k; # the testing bucket length\n",
    "    sum_acc = 0; # Use this for average accuracy\n",
    "    for i in range(0,k):       \n",
    "        s_i = i*b_length; # testing interval start index\n",
    "        f_i = s_i + b_length; # testing interval end index\n",
    "        test_data = data[s_i:f_i]\n",
    "        train_data = data[0:s_i]+data[f_i:len(data)];\n",
    "        metrics = train_func(train_data,test_data);\n",
    "        sum_acc = parser(metrics,sum_acc);\n",
    "    return sum_acc / k;\n"
   ]
  },
  {
   "cell_type": "code",
   "execution_count": 41,
   "metadata": {
    "collapsed": false
   },
   "outputs": [
    {
     "name": "stdout",
     "output_type": "stream",
     "text": [
      "nposr_nstpd_nstem\n",
      "Training classifier\n",
      "Evaluating NaiveBayesClassifier results...\n"
     ]
    },
    {
     "ename": "KeyboardInterrupt",
     "evalue": "",
     "output_type": "error",
     "traceback": [
      "\u001b[0;31m------------------------------------------------------------------\u001b[0m",
      "\u001b[0;31mKeyboardInterrupt\u001b[0m                Traceback (most recent call last)",
      "\u001b[0;32m<ipython-input-41-68d45c874ed5>\u001b[0m in \u001b[0;36m<module>\u001b[0;34m()\u001b[0m\n\u001b[1;32m      5\u001b[0m     \u001b[0mnltk_train_data\u001b[0m \u001b[0;34m=\u001b[0m \u001b[0mcreate_nltk_train_data\u001b[0m \u001b[0;34m(\u001b[0m\u001b[0mfeaturereductions\u001b[0m\u001b[0;34m[\u001b[0m\u001b[0mi\u001b[0m\u001b[0;34m]\u001b[0m\u001b[0;34m)\u001b[0m\u001b[0;34m\u001b[0m\u001b[0m\n\u001b[1;32m      6\u001b[0m     \u001b[0;32mprint\u001b[0m \u001b[0mfeaturereductions\u001b[0m\u001b[0;34m[\u001b[0m\u001b[0mi\u001b[0m\u001b[0;34m]\u001b[0m\u001b[0;34m\u001b[0m\u001b[0m\n\u001b[0;32m----> 7\u001b[0;31m     \u001b[0maccuracies\u001b[0m\u001b[0;34m.\u001b[0m\u001b[0mappend\u001b[0m\u001b[0;34m(\u001b[0m\u001b[0mk_fold_validation_simple\u001b[0m\u001b[0;34m(\u001b[0m\u001b[0mK\u001b[0m\u001b[0;34m,\u001b[0m\u001b[0mnltk_train_data\u001b[0m\u001b[0;34m,\u001b[0m\u001b[0mtrain1\u001b[0m\u001b[0;34m,\u001b[0m\u001b[0mnltk_parser\u001b[0m\u001b[0;34m)\u001b[0m\u001b[0;34m)\u001b[0m\u001b[0;34m\u001b[0m\u001b[0m\n\u001b[0m\u001b[1;32m      8\u001b[0m     \u001b[0;31m# creates a dict with featurereduction techniques, accuracy, and feature counts\u001b[0m\u001b[0;34m\u001b[0m\u001b[0;34m\u001b[0m\u001b[0m\n\u001b[1;32m      9\u001b[0m     \u001b[0mdict_metrics_nb\u001b[0m\u001b[0;34m.\u001b[0m\u001b[0mupdate\u001b[0m\u001b[0;34m(\u001b[0m\u001b[0;34m{\u001b[0m\u001b[0mfeaturereductions\u001b[0m\u001b[0;34m[\u001b[0m\u001b[0mi\u001b[0m\u001b[0;34m]\u001b[0m\u001b[0;34m:\u001b[0m \u001b[0maccuracies\u001b[0m\u001b[0;34m[\u001b[0m\u001b[0mi\u001b[0m\u001b[0;34m]\u001b[0m\u001b[0;34m}\u001b[0m\u001b[0;34m)\u001b[0m\u001b[0;34m\u001b[0m\u001b[0m\n",
      "\u001b[0;32m<ipython-input-40-f5971797c9e6>\u001b[0m in \u001b[0;36mk_fold_validation_simple\u001b[0;34m(k, data, train_func, parser)\u001b[0m\n\u001b[1;32m      9\u001b[0m         \u001b[0mtest_data\u001b[0m \u001b[0;34m=\u001b[0m \u001b[0mdata\u001b[0m\u001b[0;34m[\u001b[0m\u001b[0ms_i\u001b[0m\u001b[0;34m:\u001b[0m\u001b[0mf_i\u001b[0m\u001b[0;34m]\u001b[0m\u001b[0;34m\u001b[0m\u001b[0m\n\u001b[1;32m     10\u001b[0m         \u001b[0mtrain_data\u001b[0m \u001b[0;34m=\u001b[0m \u001b[0mdata\u001b[0m\u001b[0;34m[\u001b[0m\u001b[0;36m0\u001b[0m\u001b[0;34m:\u001b[0m\u001b[0ms_i\u001b[0m\u001b[0;34m]\u001b[0m\u001b[0;34m+\u001b[0m\u001b[0mdata\u001b[0m\u001b[0;34m[\u001b[0m\u001b[0mf_i\u001b[0m\u001b[0;34m:\u001b[0m\u001b[0mlen\u001b[0m\u001b[0;34m(\u001b[0m\u001b[0mdata\u001b[0m\u001b[0;34m)\u001b[0m\u001b[0;34m]\u001b[0m\u001b[0;34m;\u001b[0m\u001b[0;34m\u001b[0m\u001b[0m\n\u001b[0;32m---> 11\u001b[0;31m         \u001b[0mmetrics\u001b[0m \u001b[0;34m=\u001b[0m \u001b[0mtrain_func\u001b[0m\u001b[0;34m(\u001b[0m\u001b[0mtrain_data\u001b[0m\u001b[0;34m,\u001b[0m\u001b[0mtest_data\u001b[0m\u001b[0;34m)\u001b[0m\u001b[0;34m;\u001b[0m\u001b[0;34m\u001b[0m\u001b[0m\n\u001b[0m\u001b[1;32m     12\u001b[0m         \u001b[0msum_acc\u001b[0m \u001b[0;34m=\u001b[0m \u001b[0mparser\u001b[0m\u001b[0;34m(\u001b[0m\u001b[0mmetrics\u001b[0m\u001b[0;34m,\u001b[0m\u001b[0msum_acc\u001b[0m\u001b[0;34m)\u001b[0m\u001b[0;34m;\u001b[0m\u001b[0;34m\u001b[0m\u001b[0m\n\u001b[1;32m     13\u001b[0m     \u001b[0;32mreturn\u001b[0m \u001b[0msum_acc\u001b[0m \u001b[0;34m/\u001b[0m \u001b[0mk\u001b[0m\u001b[0;34m;\u001b[0m\u001b[0;34m\u001b[0m\u001b[0m\n",
      "\u001b[0;32m<ipython-input-34-89da92ffe43f>\u001b[0m in \u001b[0;36mtrain1\u001b[0;34m(training_set, test_set)\u001b[0m\n\u001b[1;32m     13\u001b[0m     \u001b[0mtrainer\u001b[0m \u001b[0;34m=\u001b[0m \u001b[0mNaiveBayesClassifier\u001b[0m\u001b[0;34m.\u001b[0m\u001b[0mtrain\u001b[0m\u001b[0;34m\u001b[0m\u001b[0m\n\u001b[1;32m     14\u001b[0m     \u001b[0mclassifier\u001b[0m \u001b[0;34m=\u001b[0m \u001b[0msentim_analyzer\u001b[0m\u001b[0;34m.\u001b[0m\u001b[0mtrain\u001b[0m\u001b[0;34m(\u001b[0m\u001b[0mtrainer\u001b[0m\u001b[0;34m,\u001b[0m \u001b[0mtraining_set\u001b[0m\u001b[0;34m)\u001b[0m\u001b[0;34m\u001b[0m\u001b[0m\n\u001b[0;32m---> 15\u001b[0;31m     \u001b[0mresults\u001b[0m \u001b[0;34m=\u001b[0m \u001b[0msentim_analyzer\u001b[0m\u001b[0;34m.\u001b[0m\u001b[0mevaluate\u001b[0m\u001b[0;34m(\u001b[0m\u001b[0mtest_set\u001b[0m\u001b[0;34m)\u001b[0m\u001b[0;34m.\u001b[0m\u001b[0mitems\u001b[0m\u001b[0;34m(\u001b[0m\u001b[0;34m)\u001b[0m\u001b[0;34m\u001b[0m\u001b[0m\n\u001b[0m\u001b[1;32m     16\u001b[0m     \u001b[0;32mreturn\u001b[0m \u001b[0mresults\u001b[0m\u001b[0;34m\u001b[0m\u001b[0m\n",
      "\u001b[0;32m/usr/local/lib/python2.7/site-packages/nltk/sentiment/sentiment_analyzer.pyc\u001b[0m in \u001b[0;36mevaluate\u001b[0;34m(self, test_set, classifier, accuracy, f_measure, precision, recall, verbose)\u001b[0m\n\u001b[1;32m    205\u001b[0m             \u001b[0mlabels\u001b[0m\u001b[0;34m.\u001b[0m\u001b[0madd\u001b[0m\u001b[0;34m(\u001b[0m\u001b[0mlabel\u001b[0m\u001b[0;34m)\u001b[0m\u001b[0;34m\u001b[0m\u001b[0m\n\u001b[1;32m    206\u001b[0m             \u001b[0mgold_results\u001b[0m\u001b[0;34m[\u001b[0m\u001b[0mlabel\u001b[0m\u001b[0;34m]\u001b[0m\u001b[0;34m.\u001b[0m\u001b[0madd\u001b[0m\u001b[0;34m(\u001b[0m\u001b[0mi\u001b[0m\u001b[0;34m)\u001b[0m\u001b[0;34m\u001b[0m\u001b[0m\n\u001b[0;32m--> 207\u001b[0;31m             \u001b[0mobserved\u001b[0m \u001b[0;34m=\u001b[0m \u001b[0mclassifier\u001b[0m\u001b[0;34m.\u001b[0m\u001b[0mclassify\u001b[0m\u001b[0;34m(\u001b[0m\u001b[0mfeats\u001b[0m\u001b[0;34m)\u001b[0m\u001b[0;34m\u001b[0m\u001b[0m\n\u001b[0m\u001b[1;32m    208\u001b[0m             \u001b[0mtest_results\u001b[0m\u001b[0;34m[\u001b[0m\u001b[0mobserved\u001b[0m\u001b[0;34m]\u001b[0m\u001b[0;34m.\u001b[0m\u001b[0madd\u001b[0m\u001b[0;34m(\u001b[0m\u001b[0mi\u001b[0m\u001b[0;34m)\u001b[0m\u001b[0;34m\u001b[0m\u001b[0m\n\u001b[1;32m    209\u001b[0m \u001b[0;34m\u001b[0m\u001b[0m\n",
      "\u001b[0;32m/usr/local/lib/python2.7/site-packages/nltk/classify/naivebayes.pyc\u001b[0m in \u001b[0;36mclassify\u001b[0;34m(self, featureset)\u001b[0m\n\u001b[1;32m     86\u001b[0m \u001b[0;34m\u001b[0m\u001b[0m\n\u001b[1;32m     87\u001b[0m     \u001b[0;32mdef\u001b[0m \u001b[0mclassify\u001b[0m\u001b[0;34m(\u001b[0m\u001b[0mself\u001b[0m\u001b[0;34m,\u001b[0m \u001b[0mfeatureset\u001b[0m\u001b[0;34m)\u001b[0m\u001b[0;34m:\u001b[0m\u001b[0;34m\u001b[0m\u001b[0m\n\u001b[0;32m---> 88\u001b[0;31m         \u001b[0;32mreturn\u001b[0m \u001b[0mself\u001b[0m\u001b[0;34m.\u001b[0m\u001b[0mprob_classify\u001b[0m\u001b[0;34m(\u001b[0m\u001b[0mfeatureset\u001b[0m\u001b[0;34m)\u001b[0m\u001b[0;34m.\u001b[0m\u001b[0mmax\u001b[0m\u001b[0;34m(\u001b[0m\u001b[0;34m)\u001b[0m\u001b[0;34m\u001b[0m\u001b[0m\n\u001b[0m\u001b[1;32m     89\u001b[0m \u001b[0;34m\u001b[0m\u001b[0m\n\u001b[1;32m     90\u001b[0m     \u001b[0;32mdef\u001b[0m \u001b[0mprob_classify\u001b[0m\u001b[0;34m(\u001b[0m\u001b[0mself\u001b[0m\u001b[0;34m,\u001b[0m \u001b[0mfeatureset\u001b[0m\u001b[0;34m)\u001b[0m\u001b[0;34m:\u001b[0m\u001b[0;34m\u001b[0m\u001b[0m\n",
      "\u001b[0;32m/usr/local/lib/python2.7/site-packages/nltk/classify/naivebayes.pyc\u001b[0m in \u001b[0;36mprob_classify\u001b[0;34m(self, featureset)\u001b[0m\n\u001b[1;32m    110\u001b[0m         \u001b[0;32mfor\u001b[0m \u001b[0mlabel\u001b[0m \u001b[0;32min\u001b[0m \u001b[0mself\u001b[0m\u001b[0;34m.\u001b[0m\u001b[0m_labels\u001b[0m\u001b[0;34m:\u001b[0m\u001b[0;34m\u001b[0m\u001b[0m\n\u001b[1;32m    111\u001b[0m             \u001b[0;32mfor\u001b[0m \u001b[0;34m(\u001b[0m\u001b[0mfname\u001b[0m\u001b[0;34m,\u001b[0m \u001b[0mfval\u001b[0m\u001b[0;34m)\u001b[0m \u001b[0;32min\u001b[0m \u001b[0mfeatureset\u001b[0m\u001b[0;34m.\u001b[0m\u001b[0mitems\u001b[0m\u001b[0;34m(\u001b[0m\u001b[0;34m)\u001b[0m\u001b[0;34m:\u001b[0m\u001b[0;34m\u001b[0m\u001b[0m\n\u001b[0;32m--> 112\u001b[0;31m                 \u001b[0;32mif\u001b[0m \u001b[0;34m(\u001b[0m\u001b[0mlabel\u001b[0m\u001b[0;34m,\u001b[0m \u001b[0mfname\u001b[0m\u001b[0;34m)\u001b[0m \u001b[0;32min\u001b[0m \u001b[0mself\u001b[0m\u001b[0;34m.\u001b[0m\u001b[0m_feature_probdist\u001b[0m\u001b[0;34m:\u001b[0m\u001b[0;34m\u001b[0m\u001b[0m\n\u001b[0m\u001b[1;32m    113\u001b[0m                     \u001b[0mfeature_probs\u001b[0m \u001b[0;34m=\u001b[0m \u001b[0mself\u001b[0m\u001b[0;34m.\u001b[0m\u001b[0m_feature_probdist\u001b[0m\u001b[0;34m[\u001b[0m\u001b[0mlabel\u001b[0m\u001b[0;34m,\u001b[0m \u001b[0mfname\u001b[0m\u001b[0;34m]\u001b[0m\u001b[0;34m\u001b[0m\u001b[0m\n\u001b[1;32m    114\u001b[0m                     \u001b[0mlogprob\u001b[0m\u001b[0;34m[\u001b[0m\u001b[0mlabel\u001b[0m\u001b[0;34m]\u001b[0m \u001b[0;34m+=\u001b[0m \u001b[0mfeature_probs\u001b[0m\u001b[0;34m.\u001b[0m\u001b[0mlogprob\u001b[0m\u001b[0;34m(\u001b[0m\u001b[0mfval\u001b[0m\u001b[0;34m)\u001b[0m\u001b[0;34m\u001b[0m\u001b[0m\n",
      "\u001b[0;31mKeyboardInterrupt\u001b[0m: "
     ]
    }
   ],
   "source": [
    "K = 5; # Constant for K-fold cross validation\n",
    "accuracies =[]\n",
    "dict_metrics_nb = {}\n",
    "for i in range(0, len(featurereductions)):\n",
    "    nltk_train_data = create_nltk_train_data (featurereductions[i])\n",
    "    print featurereductions[i]\n",
    "    accuracies.append(k_fold_validation_simple(K,nltk_train_data,train1,nltk_parser))\n",
    "    # creates a dict with featurereduction techniques, accuracy, and feature counts\n",
    "    dict_metrics_nb.update({featurereductions[i]: accuracies[i]})\n",
    "    print accuracies[i]"
   ]
  },
  {
   "cell_type": "code",
   "execution_count": null,
   "metadata": {
    "collapsed": true
   },
   "outputs": [],
   "source": []
  }
 ],
 "metadata": {
  "kernelspec": {
   "display_name": "Python 2",
   "language": "python",
   "name": "python2"
  },
  "language_info": {
   "codemirror_mode": {
    "name": "ipython",
    "version": 2
   },
   "file_extension": ".py",
   "mimetype": "text/x-python",
   "name": "python",
   "nbconvert_exporter": "python",
   "pygments_lexer": "ipython2",
   "version": "2.7.13"
  }
 },
 "nbformat": 4,
 "nbformat_minor": 2
}

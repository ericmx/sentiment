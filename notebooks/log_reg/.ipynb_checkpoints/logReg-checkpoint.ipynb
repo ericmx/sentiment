{
 "cells": [
  {
   "cell_type": "code",
   "execution_count": 2,
   "metadata": {
    "collapsed": false,
    "deletable": true,
    "editable": true
   },
   "outputs": [
    {
     "name": "stderr",
     "output_type": "stream",
     "text": [
      "/usr/local/lib/python2.7/site-packages/sklearn/cross_validation.py:44: DeprecationWarning: This module was deprecated in version 0.18 in favor of the model_selection module into which all the refactored classes and functions are moved. Also note that the interface of the new CV iterators are different from that of this module. This module will be removed in 0.20.\n",
      "  \"This module will be removed in 0.20.\", DeprecationWarning)\n"
     ]
    }
   ],
   "source": [
    "import numpy as np\n",
    "import pandas as pd\n",
    "import time\n",
    "from sklearn import metrics\n",
    "from sklearn.cross_validation import train_test_split\n",
    "from sklearn.linear_model import LogisticRegression as LR\n",
    "from sklearn.feature_extraction.text import TfidfVectorizer\n",
    "from sklearn.model_selection import cross_val_score"
   ]
  },
  {
   "cell_type": "code",
   "execution_count": 3,
   "metadata": {
    "collapsed": true,
    "deletable": true,
    "editable": true
   },
   "outputs": [],
   "source": [
    "df = pd.read_csv('5_4_3_all_data.csv', header = 0)\n",
    "# train_data = pd.read_csv('5_4_3_split_data_train.csv', header = 0)\n",
    "# test_data = pd.read_csv('5_4_3_split_data_test.csv', header = 0)"
   ]
  },
  {
   "cell_type": "code",
   "execution_count": 4,
   "metadata": {
    "collapsed": false,
    "deletable": true,
    "editable": true,
    "scrolled": true
   },
   "outputs": [
    {
     "data": {
      "text/html": [
       "<div>\n",
       "<table border=\"1\" class=\"dataframe\">\n",
       "  <thead>\n",
       "    <tr style=\"text-align: right;\">\n",
       "      <th></th>\n",
       "      <th>review</th>\n",
       "      <th>sentiment</th>\n",
       "    </tr>\n",
       "  </thead>\n",
       "  <tbody>\n",
       "    <tr>\n",
       "      <th>0</th>\n",
       "      <td>no problem with constant improvement i switche...</td>\n",
       "      <td>1</td>\n",
       "    </tr>\n",
       "    <tr>\n",
       "      <th>1</th>\n",
       "      <td>i live  minutes away from the nearest branch a...</td>\n",
       "      <td>1</td>\n",
       "    </tr>\n",
       "    <tr>\n",
       "      <th>2</th>\n",
       "      <td>i am very annoyed with this app i do like bein...</td>\n",
       "      <td>0</td>\n",
       "    </tr>\n",
       "    <tr>\n",
       "      <th>3</th>\n",
       "      <td>i dont see how so many people on the reviews c...</td>\n",
       "      <td>1</td>\n",
       "    </tr>\n",
       "    <tr>\n",
       "      <th>4</th>\n",
       "      <td>you can do almost every function the full site...</td>\n",
       "      <td>1</td>\n",
       "    </tr>\n",
       "  </tbody>\n",
       "</table>\n",
       "</div>"
      ],
      "text/plain": [
       "                                              review  sentiment\n",
       "0  no problem with constant improvement i switche...          1\n",
       "1  i live  minutes away from the nearest branch a...          1\n",
       "2  i am very annoyed with this app i do like bein...          0\n",
       "3  i dont see how so many people on the reviews c...          1\n",
       "4  you can do almost every function the full site...          1"
      ]
     },
     "execution_count": 4,
     "metadata": {},
     "output_type": "execute_result"
    }
   ],
   "source": [
    "df.head()\n",
    "# test_data.head()"
   ]
  },
  {
   "cell_type": "code",
   "execution_count": 5,
   "metadata": {
    "collapsed": false,
    "deletable": true,
    "editable": true
   },
   "outputs": [],
   "source": [
    "# trainX = train_data['review'].values\n",
    "df.dropna(how=\"any\", inplace= True)\n",
    "X_train, X_test, y_train, y_test = train_test_split(df['review'], df['sentiment'], test_size = .2, random_state = 7)"
   ]
  },
  {
   "cell_type": "code",
   "execution_count": 6,
   "metadata": {
    "collapsed": false,
    "deletable": true,
    "editable": true
   },
   "outputs": [],
   "source": [
    "trainX = X_train.values\n",
    "trainY = y_train.values"
   ]
  },
  {
   "cell_type": "code",
   "execution_count": 7,
   "metadata": {
    "collapsed": false,
    "deletable": true,
    "editable": true
   },
   "outputs": [
    {
     "name": "stdout",
     "output_type": "stream",
     "text": [
      "Time to fit_transform :8.85598397255 seconds \n"
     ]
    }
   ],
   "source": [
    "vect = TfidfVectorizer(min_df=10, ngram_range=(1, 2))\n",
    "tic = time.time()\n",
    "trainX = vect.fit_transform(trainX)\n",
    "toc = time.time()\n",
    "print(\"Time to fit_transform :\" + str(toc-tic) + \" seconds \")"
   ]
  },
  {
   "cell_type": "code",
   "execution_count": 48,
   "metadata": {
    "collapsed": false,
    "deletable": true,
    "editable": true
   },
   "outputs": [],
   "source": [
    "# print(trainX)"
   ]
  },
  {
   "cell_type": "code",
   "execution_count": 8,
   "metadata": {
    "collapsed": false,
    "deletable": true,
    "editable": true
   },
   "outputs": [
    {
     "name": "stdout",
     "output_type": "stream",
     "text": [
      "Time to fit model :1.36175298691 seconds\n"
     ]
    }
   ],
   "source": [
    "model = LR()\n",
    "tic = time.time()\n",
    "model.fit(trainX, trainY)\n",
    "toc = time.time()\n",
    "print(\"Time to fit model :\" + str(toc-tic) + \" seconds\")"
   ]
  },
  {
   "cell_type": "code",
   "execution_count": 9,
   "metadata": {
    "collapsed": false,
    "deletable": true,
    "editable": true
   },
   "outputs": [
    {
     "name": "stdout",
     "output_type": "stream",
     "text": [
      "Time to predict probabilities on test set:0.00190401077271 seconds\n"
     ]
    }
   ],
   "source": [
    "testX = X_test.values\n",
    "testY = y_test.values\n",
    "testX = vect.transform(testX)\n",
    "\n",
    "tic = time.time()\n",
    "pr_testX = model.predict_proba(testX)[:, 1]\n",
    "toc = time.time()\n",
    "print(\"Time to predict probabilities on test set:\" + str(toc-tic) + \" seconds\")\n",
    "pd.DataFrame(np.asarray([pr_testX]).T).to_csv('test.csv',index=False,header=[\"sentiment\"])"
   ]
  },
  {
   "cell_type": "code",
   "execution_count": 13,
   "metadata": {
    "collapsed": false,
    "deletable": true,
    "editable": true
   },
   "outputs": [
    {
     "name": "stdout",
     "output_type": "stream",
     "text": [
      "0.884500081024\n"
     ]
    }
   ],
   "source": [
    "print(model.score(testX, testY))"
   ]
  },
  {
   "cell_type": "code",
   "execution_count": 44,
   "metadata": {
    "collapsed": false,
    "deletable": true,
    "editable": true
   },
   "outputs": [
    {
     "name": "stdout",
     "output_type": "stream",
     "text": [
      "[ 0.88471198  0.88503605  0.88526981  0.88493639  0.8846933 ]\n"
     ]
    }
   ],
   "source": [
    "scores = cross_val_score(model, testX, testY, cv = 5)\n",
    "print(scores)"
   ]
  },
  {
   "cell_type": "code",
   "execution_count": 23,
   "metadata": {
    "collapsed": false,
    "deletable": true,
    "editable": true
   },
   "outputs": [
    {
     "name": "stdout",
     "output_type": "stream",
     "text": [
      "  (0, 9000)\t0.0637898675555\n",
      "  (0, 8901)\t0.0664639204085\n",
      "  (0, 8900)\t0.0938144277244\n",
      "  (0, 8847)\t0.0544440518329\n",
      "  (0, 8734)\t0.0640750761288\n",
      "  (0, 8731)\t0.0412362765201\n",
      "  (0, 8693)\t0.045423055602\n",
      "  (0, 8685)\t0.0814633772527\n",
      "  (0, 8663)\t0.0498420024828\n",
      "  (0, 8655)\t0.0398853360544\n",
      "  (0, 8645)\t0.0596409301191\n",
      "  (0, 8634)\t0.0408087545535\n",
      "  (0, 8575)\t0.068291450399\n",
      "  (0, 8568)\t0.0675917633443\n",
      "  (0, 8562)\t0.0612241905753\n",
      "  (0, 8530)\t0.101994572656\n",
      "  (0, 8494)\t0.0673204252718\n",
      "  (0, 8446)\t0.0673204252718\n",
      "  (0, 8432)\t0.219341272397\n",
      "  (0, 8426)\t0.0449887841072\n",
      "  (0, 8420)\t0.040472623471\n",
      "  (0, 8284)\t0.0378247567697\n",
      "  (0, 8244)\t0.0363291052789\n",
      "  (0, 8196)\t0.0694124166419\n",
      "  (0, 8165)\t0.0201524148763\n",
      "  :\t:\n",
      "  (61707, 2398)\t0.137842933533\n",
      "  (61707, 1863)\t0.366295378514\n",
      "  (61707, 864)\t0.352990996467\n",
      "  (61707, 663)\t0.0879907484542\n",
      "  (61707, 423)\t0.225840096002\n",
      "  (61707, 369)\t0.120186263385\n",
      "  (61708, 8941)\t0.297659976145\n",
      "  (61708, 8912)\t0.191321711419\n",
      "  (61708, 8165)\t0.132124953142\n",
      "  (61708, 7854)\t0.147101537823\n",
      "  (61708, 7687)\t0.102911279387\n",
      "  (61708, 5252)\t0.370329411493\n",
      "  (61708, 5250)\t0.198191447409\n",
      "  (61708, 4286)\t0.310506160184\n",
      "  (61708, 4264)\t0.168335464808\n",
      "  (61708, 4123)\t0.277077878024\n",
      "  (61708, 4084)\t0.11596712585\n",
      "  (61708, 2614)\t0.347753678627\n",
      "  (61708, 2596)\t0.226869529919\n",
      "  (61708, 2423)\t0.146545212349\n",
      "  (61708, 2398)\t0.132512550986\n",
      "  (61708, 2268)\t0.281347308961\n",
      "  (61708, 2266)\t0.203750233997\n",
      "  (61708, 477)\t0.297078547571\n",
      "  (61708, 369)\t0.115538663799\n"
     ]
    }
   ],
   "source": [
    "print(testX)"
   ]
  },
  {
   "cell_type": "code",
   "execution_count": 41,
   "metadata": {
    "collapsed": false,
    "deletable": true,
    "editable": true
   },
   "outputs": [
    {
     "name": "stdout",
     "output_type": "stream",
     "text": [
      "0        1\n",
      "1        1\n",
      "2        0\n",
      "3        1\n",
      "4        1\n",
      "5        1\n",
      "6        0\n",
      "7        1\n",
      "8        1\n",
      "9        1\n",
      "10       0\n",
      "11       1\n",
      "12       1\n",
      "13       1\n",
      "14       1\n",
      "15       1\n",
      "16       0\n",
      "17       0\n",
      "18       1\n",
      "19       0\n",
      "20       1\n",
      "21       1\n",
      "22       1\n",
      "23       1\n",
      "24       1\n",
      "25       0\n",
      "26       0\n",
      "27       1\n",
      "28       1\n",
      "29       1\n",
      "        ..\n",
      "61679    1\n",
      "61680    1\n",
      "61681    1\n",
      "61682    1\n",
      "61683    1\n",
      "61684    1\n",
      "61685    1\n",
      "61686    1\n",
      "61687    1\n",
      "61688    1\n",
      "61689    1\n",
      "61690    1\n",
      "61691    1\n",
      "61692    1\n",
      "61693    0\n",
      "61694    1\n",
      "61695    1\n",
      "61696    1\n",
      "61697    1\n",
      "61698    1\n",
      "61699    1\n",
      "61700    1\n",
      "61701    1\n",
      "61702    1\n",
      "61703    1\n",
      "61704    1\n",
      "61705    0\n",
      "61706    1\n",
      "61707    1\n",
      "61708    1\n",
      "Name: sentiment, dtype: int64\n"
     ]
    }
   ],
   "source": [
    "print(test_data['sentiment'])"
   ]
  },
  {
   "cell_type": "code",
   "execution_count": null,
   "metadata": {
    "collapsed": true,
    "deletable": true,
    "editable": true
   },
   "outputs": [],
   "source": []
  }
 ],
 "metadata": {
  "kernelspec": {
   "display_name": "Python 2",
   "language": "python",
   "name": "python2"
  },
  "language_info": {
   "codemirror_mode": {
    "name": "ipython",
    "version": 2
   },
   "file_extension": ".py",
   "mimetype": "text/x-python",
   "name": "python",
   "nbconvert_exporter": "python",
   "pygments_lexer": "ipython2",
   "version": "2.7.13"
  }
 },
 "nbformat": 4,
 "nbformat_minor": 2
}

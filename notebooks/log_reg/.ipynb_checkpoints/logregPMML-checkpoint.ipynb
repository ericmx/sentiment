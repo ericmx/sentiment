{
 "cells": [
  {
   "cell_type": "code",
   "execution_count": 1,
   "metadata": {
    "collapsed": false,
    "deletable": true,
    "editable": true
   },
   "outputs": [
    {
     "name": "stderr",
     "output_type": "stream",
     "text": [
      "/usr/local/lib/python2.7/site-packages/sklearn/cross_validation.py:44: DeprecationWarning: This module was deprecated in version 0.18 in favor of the model_selection module into which all the refactored classes and functions are moved. Also note that the interface of the new CV iterators are different from that of this module. This module will be removed in 0.20.\n",
      "  \"This module will be removed in 0.20.\", DeprecationWarning)\n"
     ]
    }
   ],
   "source": [
    "from sklearn2pmml import PMMLPipeline, sklearn2pmml\n",
    "from sklearn_pandas import DataFrameMapper\n",
    "from sklearn2pmml.decoration import ContinuousDomain\n",
    "from sklearn2pmml.feature_extraction.text import Splitter\n",
    "import numpy as np\n",
    "import pandas as pd\n",
    "from sklearn import metrics\n",
    "from sklearn.cross_validation import train_test_split\n",
    "from sklearn.linear_model import LogisticRegression as LR\n",
    "from sklearn.feature_extraction.text import TfidfVectorizer, TfidfTransformer\n",
    "from sklearn.model_selection import cross_val_score\n",
    "from sklearn.feature_extraction.text import TfidfTransformer\n",
    "from sklearn.pipeline import Pipeline\n",
    "from sklearn.feature_extraction.text import CountVectorizer\n",
    "import pickle"
   ]
  },
  {
   "cell_type": "code",
   "execution_count": 2,
   "metadata": {
    "collapsed": false,
    "deletable": true,
    "editable": true
   },
   "outputs": [],
   "source": [
    "# df = pd.read_csv('5_4_3_all_data.csv', header = 0 )\n",
    "dfpmml = pd.read_csv('sample.csv', header = 0)"
   ]
  },
  {
   "cell_type": "code",
   "execution_count": 3,
   "metadata": {
    "collapsed": false,
    "deletable": true,
    "editable": true
   },
   "outputs": [
    {
     "data": {
      "text/html": [
       "<div>\n",
       "<table border=\"1\" class=\"dataframe\">\n",
       "  <thead>\n",
       "    <tr style=\"text-align: right;\">\n",
       "      <th></th>\n",
       "      <th>review</th>\n",
       "      <th>sentiment</th>\n",
       "    </tr>\n",
       "  </thead>\n",
       "  <tbody>\n",
       "    <tr>\n",
       "      <th>0</th>\n",
       "      <td>no problem with constant improvement i switche...</td>\n",
       "      <td>1</td>\n",
       "    </tr>\n",
       "    <tr>\n",
       "      <th>1</th>\n",
       "      <td>i live  minutes away from the nearest branch a...</td>\n",
       "      <td>1</td>\n",
       "    </tr>\n",
       "    <tr>\n",
       "      <th>2</th>\n",
       "      <td>i am very annoyed with this app i do like bein...</td>\n",
       "      <td>0</td>\n",
       "    </tr>\n",
       "    <tr>\n",
       "      <th>3</th>\n",
       "      <td>i dont see how so many people on the reviews c...</td>\n",
       "      <td>1</td>\n",
       "    </tr>\n",
       "    <tr>\n",
       "      <th>4</th>\n",
       "      <td>you can do almost every function the full site...</td>\n",
       "      <td>1</td>\n",
       "    </tr>\n",
       "  </tbody>\n",
       "</table>\n",
       "</div>"
      ],
      "text/plain": [
       "                                              review  sentiment\n",
       "0  no problem with constant improvement i switche...          1\n",
       "1  i live  minutes away from the nearest branch a...          1\n",
       "2  i am very annoyed with this app i do like bein...          0\n",
       "3  i dont see how so many people on the reviews c...          1\n",
       "4  you can do almost every function the full site...          1"
      ]
     },
     "execution_count": 3,
     "metadata": {},
     "output_type": "execute_result"
    }
   ],
   "source": [
    "dfpmml.head()"
   ]
  },
  {
   "cell_type": "code",
   "execution_count": 4,
   "metadata": {
    "collapsed": false,
    "deletable": true,
    "editable": true
   },
   "outputs": [],
   "source": [
    "# df.dropna(how=\"any\", inplace= True)\n",
    "# X_train, X_test, y_train, y_test = train_test_split(df['review'], df['sentiment'], test_size = .2, random_state = 7)\n",
    "X_train, X_test, y_train, y_test = train_test_split(dfpmml['review'], dfpmml['sentiment'], test_size = .2, random_state = 7)"
   ]
  },
  {
   "cell_type": "code",
   "execution_count": 5,
   "metadata": {
    "collapsed": true,
    "deletable": true,
    "editable": true
   },
   "outputs": [],
   "source": [
    "trainX = X_train.values\n",
    "trainY = y_train.values\n",
    "testX = X_test.values\n",
    "testY = y_test.values"
   ]
  },
  {
   "cell_type": "code",
   "execution_count": null,
   "metadata": {
    "collapsed": false,
    "deletable": true,
    "editable": true
   },
   "outputs": [],
   "source": [
    "# to_vect = Pipeline([('vect',TfidfVectorizer(),('tfidf', TfidfTransformer()))])\n",
    "# to_vect = Pipeline([('vect',TfidfVectorizer(min_df =10 ,ngram_range=(1,2))),\n",
    "#                     ('tfidf', TfidfTransformer())])"
   ]
  },
  {
   "cell_type": "code",
   "execution_count": null,
   "metadata": {
    "collapsed": true,
    "deletable": true,
    "editable": true
   },
   "outputs": [],
   "source": [
    "countvec = CountVectorizer()"
   ]
  },
  {
   "cell_type": "code",
   "execution_count": null,
   "metadata": {
    "collapsed": false,
    "deletable": true,
    "editable": true
   },
   "outputs": [],
   "source": [
    "sent = [\"the remember me feature on the log in screen never works and as such you always need to re enter your login information every time you use the app for me ive found that if i re enter my login id check the remember me button again and then close the app immediately after the touch id feature works upon relaunching the app this is too much of a hassle and too much to have to do simply to check your balance you could log in much easier using a computer but then that defeats the purpose of having the convenience of the app in the first place there are many banking apps that at this moment all use touch id and this is the only one so far that has a problem with login it wouldnt be so much of an issue for me but after reading a lot of the negative reviews ive noticed that this has been an ongoing problem for quite some time and that chase doesnt seem interested in fixing it and that for me seems like a bad way to do business i think if chase really cares about their customers they would listen to their concerns and try to address them but it doesnt look like thats going to happen anytime soonso for now they get  stars\"]\n",
    "vectorizedSentence = countvec.fit_transform(sent)"
   ]
  },
  {
   "cell_type": "code",
   "execution_count": null,
   "metadata": {
    "collapsed": false
   },
   "outputs": [],
   "source": [
    "# print(vectorizedSentence[0])\n",
    "dfpmml.head()"
   ]
  },
  {
   "cell_type": "code",
   "execution_count": 34,
   "metadata": {
    "collapsed": false,
    "deletable": true,
    "editable": true
   },
   "outputs": [],
   "source": [
    "vect = TfidfVectorizer(min_df=1, ngram_range=(1, 2))\n",
    "# trainX = vect.fit_transform(trainX)\n",
    "# testX = vect.fit_transform(testX)\n",
    "# vect = CountVectorizer(min_df = 1, ngram_range=(1,2))\n",
    "# trainX = vect.fit_transform(trainX)\n",
    "# testX = vect.fit_transform(testX)\n",
    "singleReview = [\"the remember me feature on the log in screen never works and as such you always need to re enter your login information every time you use the app for me ive found that if i re enter my login id check the remember me button again and then close the app immediately after the touch id feature works upon relaunching the app this is too much of a hassle and too much to have to do simply to check your balance you could log in much easier using a computer but then that defeats the purpose of having the convenience of the app in the first place there are many banking apps that at this moment all use touch id and this is the only one so far that has a problem with login it wouldnt be so much of an issue for me but after reading a lot of the negative reviews ive noticed that this has been an ongoing problem for quite some time and that chase doesnt seem interested in fixing it and that for me seems like a bad way to do business i think if chase really cares about their customers they would listen to their concerns and try to address them but it doesnt look like thats going to happen anytime soonso for now they get  stars\"]\n",
    "vectorizedSentence = vect.fit_transform(singleReview)\n",
    "\n",
    "with open(\"vecsentence.txt\", 'w') as outF:\n",
    "    outF.write(str(vectorizedSentence.data))\n",
    "   "
   ]
  },
  {
   "cell_type": "code",
   "execution_count": 7,
   "metadata": {
    "collapsed": true,
    "deletable": true,
    "editable": true
   },
   "outputs": [],
   "source": [
    "model = LR()"
   ]
  },
  {
   "cell_type": "code",
   "execution_count": null,
   "metadata": {
    "collapsed": false,
    "deletable": true,
    "editable": true
   },
   "outputs": [],
   "source": [
    "model.fit(trainX, trainY)\n",
    "# print(testX[0])"
   ]
  },
  {
   "cell_type": "code",
   "execution_count": 8,
   "metadata": {
    "collapsed": false,
    "deletable": true,
    "editable": true
   },
   "outputs": [],
   "source": [
    "reviews_pipeline = PMMLPipeline([\n",
    "   #  (\"tf-idf\", TfidfVectorizer(analyzer=\"word\",tokenizer=Splitter(),norm = None, stop_words=\"english\", ngram_range=(1,2), dtype = np.float64)),\n",
    "#      (\"fit_transform\", TfidfTransformer(norm = None)),\n",
    "#   (\"countVec\", CountVectorizer(analyzer=\"word\", tokenizer=Splitter(),stop_words=\"english\", ngram_range=(1,2), dtype=np.float64)),\n",
    "    (\"classifier\", LR())\n",
    "])"
   ]
  },
  {
   "cell_type": "code",
   "execution_count": null,
   "metadata": {
    "collapsed": false
   },
   "outputs": [],
   "source": [
    "print(testX.shape)\n",
    "print(testY.shape)"
   ]
  },
  {
   "cell_type": "code",
   "execution_count": null,
   "metadata": {
    "collapsed": false
   },
   "outputs": [],
   "source": [
    "print(testY)"
   ]
  },
  {
   "cell_type": "code",
   "execution_count": 9,
   "metadata": {
    "collapsed": false,
    "deletable": true,
    "editable": true
   },
   "outputs": [
    {
     "data": {
      "text/plain": [
       "PMMLPipeline(steps=[('classifier', LogisticRegression(C=1.0, class_weight=None, dual=False, fit_intercept=True,\n",
       "          intercept_scaling=1, max_iter=100, multi_class='ovr', n_jobs=1,\n",
       "          penalty='l2', random_state=None, solver='liblinear', tol=0.0001,\n",
       "          verbose=0, warm_start=False))])"
      ]
     },
     "execution_count": 9,
     "metadata": {},
     "output_type": "execute_result"
    }
   ],
   "source": [
    "# reviews_pipeline.fit(dfpmml['review'], dfpmml['sentiment'])\n",
    "reviews_pipeline.fit(testX, testY)"
   ]
  },
  {
   "cell_type": "code",
   "execution_count": 10,
   "metadata": {
    "collapsed": false,
    "deletable": true,
    "editable": true
   },
   "outputs": [],
   "source": [
    "sklearn2pmml(reviews_pipeline, \"LogisticRegressionCountVect.pmml\", with_repr = True)"
   ]
  },
  {
   "cell_type": "code",
   "execution_count": 13,
   "metadata": {
    "collapsed": false
   },
   "outputs": [
    {
     "name": "stdout",
     "output_type": "stream",
     "text": [
      "you have a chase account  yes  this is the app that gives you a window into the soul of that account  want to know how much money you have  log in  want to transfer money from one chase account to another  log in  its  am youre partying and you go to the atm to pull more money for bad decisions  log in and check that you have that baddecision money to spend  dont have any money log in stare at the negative balance and cry  want to know why your wife left you  log in and look at your accounts and imagine what her new boyfriends accounts must look like  he does drive an  maserati  boom  youre logged in\n"
     ]
    }
   ],
   "source": [
    "print(dfpmml['review'].max())"
   ]
  },
  {
   "cell_type": "code",
   "execution_count": null,
   "metadata": {
    "collapsed": false,
    "deletable": true,
    "editable": true
   },
   "outputs": [],
   "source": [
    "model.fit(testX, testY)"
   ]
  },
  {
   "cell_type": "code",
   "execution_count": null,
   "metadata": {
    "collapsed": false,
    "deletable": true,
    "editable": true
   },
   "outputs": [],
   "source": [
    "pickle_file = open(\"pickleFile.pkl\", 'wb')"
   ]
  },
  {
   "cell_type": "code",
   "execution_count": null,
   "metadata": {
    "collapsed": true
   },
   "outputs": [],
   "source": [
    "pickle.dump(model, pickle_file)"
   ]
  },
  {
   "cell_type": "code",
   "execution_count": null,
   "metadata": {
    "collapsed": true
   },
   "outputs": [],
   "source": [
    "pickle_file.close()"
   ]
  },
  {
   "cell_type": "code",
   "execution_count": null,
   "metadata": {
    "collapsed": true
   },
   "outputs": [],
   "source": []
  }
 ],
 "metadata": {
  "kernelspec": {
   "display_name": "Python 2",
   "language": "python",
   "name": "python2"
  },
  "language_info": {
   "codemirror_mode": {
    "name": "ipython",
    "version": 2
   },
   "file_extension": ".py",
   "mimetype": "text/x-python",
   "name": "python",
   "nbconvert_exporter": "python",
   "pygments_lexer": "ipython2",
   "version": "2.7.13"
  }
 },
 "nbformat": 4,
 "nbformat_minor": 2
}

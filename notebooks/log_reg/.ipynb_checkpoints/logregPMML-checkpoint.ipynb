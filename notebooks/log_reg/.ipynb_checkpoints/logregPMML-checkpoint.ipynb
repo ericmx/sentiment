{
 "cells": [
  {
   "cell_type": "code",
   "execution_count": null,
   "metadata": {
    "collapsed": false,
    "deletable": true,
    "editable": true
   },
   "outputs": [],
   "source": [
    "from sklearn2pmml import PMMLPipeline, sklearn2pmml\n",
    "from sklearn2pmml.feature_extraction.text import Splitter\n",
    "import numpy as np\n",
    "import pandas as pd\n",
    "from sklearn.cross_validation import train_test_split\n",
    "from sklearn.linear_model import LogisticRegression as LR\n",
    "from sklearn.feature_extraction.text import TfidfVectorizer\n",
    "from sklearn.feature_extraction.text import CountVectorizer\n",
    "import pickle\n",
    "from sklearn.externals import joblib\n",
    "import time"
   ]
  },
  {
   "cell_type": "code",
   "execution_count": null,
   "metadata": {
    "collapsed": false,
    "deletable": true,
    "editable": true
   },
   "outputs": [],
   "source": [
    "datafile = pd.read_csv('5_4_3_all_data.csv', header = 0 )\n",
    "# dfpmml = pd.read_csv('sample.csv', header = 0)"
   ]
  },
  {
   "cell_type": "code",
   "execution_count": null,
   "metadata": {
    "collapsed": false,
    "deletable": true,
    "editable": true
   },
   "outputs": [],
   "source": [
    "df.head()\n",
    "# print(dfpmml.shape)"
   ]
  },
  {
   "cell_type": "code",
   "execution_count": null,
   "metadata": {
    "collapsed": false,
    "deletable": true,
    "editable": true
   },
   "outputs": [],
   "source": [
    "# df.dropna(how=\"any\", inplace= True)\n",
    "# X_train, X_test, y_train, y_test = train_test_split(df['review'], df['sentiment'], test_size = .2, random_state = 7)\n",
    "input_X= df['review']\n",
    "label_Y = df['sentiment']"
   ]
  },
  {
   "cell_type": "code",
   "execution_count": null,
   "metadata": {
    "collapsed": true,
    "deletable": true,
    "editable": true
   },
   "outputs": [],
   "source": [
    "trainX = X_train.values\n",
    "trainY = y_train.values\n",
    "# testX = X_test.values\n",
    "# testY = y_test.values"
   ]
  },
  {
   "cell_type": "code",
   "execution_count": null,
   "metadata": {
    "collapsed": false
   },
   "outputs": [],
   "source": [
    "print X_train.values.dtype"
   ]
  },
  {
   "cell_type": "code",
   "execution_count": null,
   "metadata": {
    "collapsed": false,
    "deletable": true,
    "editable": true
   },
   "outputs": [],
   "source": [
    "# # vect = TfidfVectorizer(min_df=1)\n",
    "# vect = TfidfVectorizer(min_df=10, ngram_range=(1, 2))\n",
    "# trainX = vect.fit_transform(trainX)\n",
    "#vect = CountVectorizer(min_df = 1)\n",
    "# trainX = vect.fit_transform(trainX)\n",
    "\n",
    "singleReview = [\"very terrible bad app\"]\n",
    "vectorizedSentence = vect.transform(singleReview)\n",
    "\n",
    "# with open(\"vecsentenceNeg.txt\", 'w') as outF:\n",
    "#     outF.write(str(vectorizedSentence.data))\n",
    "   "
   ]
  },
  {
   "cell_type": "code",
   "execution_count": null,
   "metadata": {
    "collapsed": false,
    "deletable": true,
    "editable": true
   },
   "outputs": [],
   "source": [
    "# print(vectorizedSentence)\n",
    "# print(vectorizedSentence.shape)"
   ]
  },
  {
   "cell_type": "code",
   "execution_count": null,
   "metadata": {
    "collapsed": true,
    "deletable": true,
    "editable": true
   },
   "outputs": [],
   "source": [
    "model = LR()"
   ]
  },
  {
   "cell_type": "code",
   "execution_count": null,
   "metadata": {
    "collapsed": false,
    "deletable": true,
    "editable": true
   },
   "outputs": [],
   "source": [
    "tic = time.time()\n",
    "model.fit(trainX, trainY)\n",
    "toc = time.time()\n",
    "print(\"Time in seconds to complete:\", (toc - tic))\n",
    "# print(testX[0])"
   ]
  },
  {
   "cell_type": "code",
   "execution_count": null,
   "metadata": {
    "collapsed": false,
    "deletable": true,
    "editable": true
   },
   "outputs": [],
   "source": [
    "tic = time.time()\n",
    "reviews_pipeline = PMMLPipeline([\n",
    "#    (\"tf-idf\", TfidfVectorizer(analyzer=\"word\",tokenizer=Splitter(),norm = None, stop_words=\"english\", ngram_range=(1,2), dtype = np.float64)),\n",
    "#   (\"countVec\", CountVectorizer(analyzer=\"word\", tokenizer=Splitter(),stop_words=\"english\", ngram_range=(1,2), dtype=np.float64)),\n",
    "    (\"classifier\", LR())\n",
    "])\n",
    "toc = time.time()\n",
    "print(\"Time in seconds to complete:\", (toc - tic))"
   ]
  },
  {
   "cell_type": "code",
   "execution_count": null,
   "metadata": {
    "collapsed": false,
    "deletable": true,
    "editable": true
   },
   "outputs": [],
   "source": [
    "print(testX.shape)\n",
    "print(testY.shape)"
   ]
  },
  {
   "cell_type": "code",
   "execution_count": null,
   "metadata": {
    "collapsed": false,
    "deletable": true,
    "editable": true
   },
   "outputs": [],
   "source": [
    "print(testY)"
   ]
  },
  {
   "cell_type": "code",
   "execution_count": null,
   "metadata": {
    "collapsed": false,
    "deletable": true,
    "editable": true
   },
   "outputs": [],
   "source": [
    "tic = time.time()\n",
    "reviews_pipeline.fit(trainX, trainY)\n",
    "toc = time.time()\n",
    "print(\"Time in seconds to complete:\", (toc - tic))"
   ]
  },
  {
   "cell_type": "code",
   "execution_count": null,
   "metadata": {
    "collapsed": false,
    "deletable": true,
    "editable": true
   },
   "outputs": [],
   "source": [
    "tic = time.time()\n",
    "sklearn2pmml(reviews_pipeline, \"LRModelAllData.pmml\", with_repr = True)\n",
    "toc = time.time()\n",
    "print(\"Time in seconds to complete:\", (toc - tic))"
   ]
  },
  {
   "cell_type": "code",
   "execution_count": null,
   "metadata": {
    "collapsed": false,
    "deletable": true,
    "editable": true
   },
   "outputs": [],
   "source": [
    "# print(dfpmml['review'].max())\n",
    "# print(reviews_pipeline.predict_proba(testX[100]))\n",
    "# # print(reviews_pipeline.predict_proba(testX[3406]))\n",
    "# print(reviews_pipeline.predict_proba(testX[757]))\n",
    "# print(reviews_pipeline.predict_proba(testX[3235]))\n",
    "\n",
    "print(reviews_pipeline.predict_proba(vectorizedSentence))"
   ]
  },
  {
   "cell_type": "code",
   "execution_count": null,
   "metadata": {
    "collapsed": false,
    "deletable": true,
    "editable": true
   },
   "outputs": [],
   "source": [
    "vect.vocabulary_."
   ]
  },
  {
   "cell_type": "code",
   "execution_count": null,
   "metadata": {
    "collapsed": false,
    "deletable": true,
    "editable": true
   },
   "outputs": [],
   "source": [
    "pickle_file = open(\"pickleFile.pkl\", 'wb')"
   ]
  },
  {
   "cell_type": "code",
   "execution_count": null,
   "metadata": {
    "collapsed": true,
    "deletable": true,
    "editable": true
   },
   "outputs": [],
   "source": [
    "pickle.dump(model, pickle_file)"
   ]
  },
  {
   "cell_type": "code",
   "execution_count": null,
   "metadata": {
    "collapsed": true,
    "deletable": true,
    "editable": true
   },
   "outputs": [],
   "source": [
    "pickle_file.close()"
   ]
  },
  {
   "cell_type": "code",
   "execution_count": null,
   "metadata": {
    "collapsed": true,
    "deletable": true,
    "editable": true
   },
   "outputs": [],
   "source": [
    "joblib_file = \"joblibLRModel.sav\""
   ]
  },
  {
   "cell_type": "code",
   "execution_count": null,
   "metadata": {
    "collapsed": false,
    "deletable": true,
    "editable": true
   },
   "outputs": [],
   "source": [
    "joblib.dump(model,joblib_file)"
   ]
  },
  {
   "cell_type": "code",
   "execution_count": null,
   "metadata": {
    "collapsed": true,
    "deletable": true,
    "editable": true
   },
   "outputs": [],
   "source": []
  }
 ],
 "metadata": {
  "kernelspec": {
   "display_name": "Python 2",
   "language": "python",
   "name": "python2"
  },
  "language_info": {
   "codemirror_mode": {
    "name": "ipython",
    "version": 2
   },
   "file_extension": ".py",
   "mimetype": "text/x-python",
   "name": "python",
   "nbconvert_exporter": "python",
   "pygments_lexer": "ipython2",
   "version": "2.7.13"
  }
 },
 "nbformat": 4,
 "nbformat_minor": 2
}

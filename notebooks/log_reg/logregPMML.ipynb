{
 "cells": [
  {
   "cell_type": "code",
   "execution_count": 64,
   "metadata": {
    "collapsed": false,
    "deletable": true,
    "editable": true
   },
   "outputs": [],
   "source": [
    "from sklearn2pmml import PMMLPipeline, sklearn2pmml\n",
    "from sklearn_pandas import DataFrameMapper\n",
    "from sklearn2pmml.feature_extraction.text import Splitter\n",
    "import numpy as np\n",
    "import pandas as pd\n",
    "from sklearn import metrics\n",
    "from sklearn.cross_validation import train_test_split\n",
    "from sklearn.linear_model import LogisticRegression as LR\n",
    "from sklearn.feature_extraction.text import TfidfVectorizer, TfidfTransformer\n",
    "from sklearn.model_selection import cross_val_score\n",
    "from sklearn.feature_extraction.text import TfidfTransformer\n",
    "from sklearn.pipeline import Pipeline\n",
    "from sklearn.feature_extraction.text import CountVectorizer\n",
    "import pickle"
   ]
  },
  {
   "cell_type": "code",
   "execution_count": 65,
   "metadata": {
    "collapsed": false,
    "deletable": true,
    "editable": true
   },
   "outputs": [],
   "source": [
    "# df = pd.read_csv('5_4_3_all_data.csv', header = 0 )\n",
    "dfpmml = pd.read_csv('sample.csv', header = 0)"
   ]
  },
  {
   "cell_type": "code",
   "execution_count": 66,
   "metadata": {
    "collapsed": false,
    "deletable": true,
    "editable": true
   },
   "outputs": [
    {
     "name": "stdout",
     "output_type": "stream",
     "text": [
      "(5000, 2)\n"
     ]
    }
   ],
   "source": [
    "dfpmml.head()\n",
    "print(dfpmml.shape)"
   ]
  },
  {
   "cell_type": "code",
   "execution_count": 67,
   "metadata": {
    "collapsed": false,
    "deletable": true,
    "editable": true
   },
   "outputs": [],
   "source": [
    "# df.dropna(how=\"any\", inplace= True)\n",
    "# X_train, X_test, y_train, y_test = train_test_split(df['review'], df['sentiment'], test_size = .2, random_state = 7)\n",
    "X_train, X_test, y_train, y_test = train_test_split(dfpmml['review'], dfpmml['sentiment'], test_size = .2, random_state = 7)"
   ]
  },
  {
   "cell_type": "code",
   "execution_count": 68,
   "metadata": {
    "collapsed": true,
    "deletable": true,
    "editable": true
   },
   "outputs": [],
   "source": [
    "trainX = X_train.values\n",
    "trainY = y_train.values\n",
    "testX = X_test.values\n",
    "testY = y_test.values"
   ]
  },
  {
   "cell_type": "code",
   "execution_count": null,
   "metadata": {
    "collapsed": false,
    "deletable": true,
    "editable": true
   },
   "outputs": [],
   "source": [
    "# to_vect = Pipeline([('vect',TfidfVectorizer(),('tfidf', TfidfTransformer()))])\n",
    "# to_vect = Pipeline([('vect',TfidfVectorizer(min_df =10 ,ngram_range=(1,2))),\n",
    "#                     ('tfidf', TfidfTransformer())])"
   ]
  },
  {
   "cell_type": "code",
   "execution_count": null,
   "metadata": {
    "collapsed": true,
    "deletable": true,
    "editable": true
   },
   "outputs": [],
   "source": [
    "countvec = CountVectorizer()"
   ]
  },
  {
   "cell_type": "code",
   "execution_count": null,
   "metadata": {
    "collapsed": false,
    "deletable": true,
    "editable": true
   },
   "outputs": [],
   "source": [
    "sent = [\"the remember me feature on the log in screen never works and as such you always need to re enter your login information every time you use the app for me ive found that if i re enter my login id check the remember me button again and then close the app immediately after the touch id feature works upon relaunching the app this is too much of a hassle and too much to have to do simply to check your balance you could log in much easier using a computer but then that defeats the purpose of having the convenience of the app in the first place there are many banking apps that at this moment all use touch id and this is the only one so far that has a problem with login it wouldnt be so much of an issue for me but after reading a lot of the negative reviews ive noticed that this has been an ongoing problem for quite some time and that chase doesnt seem interested in fixing it and that for me seems like a bad way to do business i think if chase really cares about their customers they would listen to their concerns and try to address them but it doesnt look like thats going to happen anytime soonso for now they get  stars\"]\n",
    "vectorizedSentence = countvec.fit_transform(sent)"
   ]
  },
  {
   "cell_type": "code",
   "execution_count": null,
   "metadata": {
    "collapsed": false
   },
   "outputs": [],
   "source": [
    "# print(vectorizedSentence[0])\n"
   ]
  },
  {
   "cell_type": "code",
   "execution_count": 69,
   "metadata": {
    "collapsed": false,
    "deletable": true,
    "editable": true
   },
   "outputs": [],
   "source": [
    "vect = TfidfVectorizer(min_df=1, ngram_range=(1, 2))\n",
    "trainX = vect.fit_transform(trainX)\n",
    "testX = vect.fit_transform(testX)\n",
    "# vect = CountVectorizer(min_df = 1, ngram_range=(1,2))\n",
    "\n",
    "# singleReview = [\"the remember me feature on the log in screen never works and as such you always need to re enter your login information every time you use the app for me ive found that if i re enter my login id check the remember me button again and then close the app immediately after the touch id feature works upon relaunching the app this is too much of a hassle and too much to have to do simply to check your balance you could log in much easier using a computer but then that defeats the purpose of having the convenience of the app in the first place there are many banking apps that at this moment all use touch id and this is the only one so far that has a problem with login it wouldnt be so much of an issue for me but after reading a lot of the negative reviews ive noticed that this has been an ongoing problem for quite some time and that chase doesnt seem interested in fixing it and that for me seems like a bad way to do business i think if chase really cares about their customers they would listen to their concerns and try to address them but it doesnt look like thats going to happen anytime soonso for now they get  stars\"]\n",
    "# vectorizedSentence = vect.fit_transform(singleReview)\n",
    "\n",
    "# with open(\"vecsentence.txt\", 'w') as outF:\n",
    "#     outF.write(str(vectorizedSentence.data))\n",
    "   "
   ]
  },
  {
   "cell_type": "code",
   "execution_count": 70,
   "metadata": {
    "collapsed": true,
    "deletable": true,
    "editable": true
   },
   "outputs": [],
   "source": [
    "model = LR()"
   ]
  },
  {
   "cell_type": "code",
   "execution_count": 71,
   "metadata": {
    "collapsed": false,
    "deletable": true,
    "editable": true
   },
   "outputs": [
    {
     "data": {
      "text/plain": [
       "LogisticRegression(C=1.0, class_weight=None, dual=False, fit_intercept=True,\n",
       "          intercept_scaling=1, max_iter=100, multi_class='ovr', n_jobs=1,\n",
       "          penalty='l2', random_state=None, solver='liblinear', tol=0.0001,\n",
       "          verbose=0, warm_start=False)"
      ]
     },
     "execution_count": 71,
     "metadata": {},
     "output_type": "execute_result"
    }
   ],
   "source": [
    "model.fit(trainX, trainY)\n",
    "# print(testX[0])"
   ]
  },
  {
   "cell_type": "code",
   "execution_count": 72,
   "metadata": {
    "collapsed": false,
    "deletable": true,
    "editable": true
   },
   "outputs": [],
   "source": [
    "reviews_pipeline = PMMLPipeline([\n",
    "   #  (\"tf-idf\", TfidfVectorizer(analyzer=\"word\",tokenizer=Splitter(),norm = None, stop_words=\"english\", ngram_range=(1,2), dtype = np.float64)),\n",
    "#      (\"fit_transform\", TfidfTransformer(norm = None)),\n",
    "#   (\"countVec\", CountVectorizer(analyzer=\"word\", tokenizer=Splitter(),stop_words=\"english\", ngram_range=(1,2), dtype=np.float64)),\n",
    "    (\"classifier\", LR())\n",
    "])"
   ]
  },
  {
   "cell_type": "code",
   "execution_count": null,
   "metadata": {
    "collapsed": false
   },
   "outputs": [],
   "source": [
    "print(testX.shape)\n",
    "print(testY.shape)"
   ]
  },
  {
   "cell_type": "code",
   "execution_count": null,
   "metadata": {
    "collapsed": false
   },
   "outputs": [],
   "source": [
    "print(testY)"
   ]
  },
  {
   "cell_type": "code",
   "execution_count": 73,
   "metadata": {
    "collapsed": false,
    "deletable": true,
    "editable": true
   },
   "outputs": [
    {
     "data": {
      "text/plain": [
       "PMMLPipeline(steps=[('classifier', LogisticRegression(C=1.0, class_weight=None, dual=False, fit_intercept=True,\n",
       "          intercept_scaling=1, max_iter=100, multi_class='ovr', n_jobs=1,\n",
       "          penalty='l2', random_state=None, solver='liblinear', tol=0.0001,\n",
       "          verbose=0, warm_start=False))])"
      ]
     },
     "execution_count": 73,
     "metadata": {},
     "output_type": "execute_result"
    }
   ],
   "source": [
    "# reviews_pipeline.fit(dfpmml['review'], dfpmml['sentiment'])\n",
    "reviews_pipeline.fit(testX, testY)"
   ]
  },
  {
   "cell_type": "code",
   "execution_count": 74,
   "metadata": {
    "collapsed": false,
    "deletable": true,
    "editable": true
   },
   "outputs": [],
   "source": [
    "sklearn2pmml(reviews_pipeline, \"LRTransformationTFIDFTest.pmml\", with_repr = True)"
   ]
  },
  {
   "cell_type": "code",
   "execution_count": 76,
   "metadata": {
    "collapsed": false
   },
   "outputs": [
    {
     "name": "stdout",
     "output_type": "stream",
     "text": [
      "[[ 0.12335019  0.87664981]]\n",
      "  (0, 35195)\t0.0284706899547\n",
      "  (0, 33096)\t0.142353449774\n",
      "  (0, 18365)\t0.0175405938512\n",
      "  (0, 17837)\t0.0176867410556\n",
      "  (0, 15734)\t0.0426519722312\n",
      "  (0, 6936)\t0.0278377160866\n",
      "  (0, 2069)\t0.0151939568369\n",
      "  (0, 3122)\t0.0155030927411\n",
      "  (0, 16474)\t0.0307753231935\n",
      "  (0, 40054)\t0.0516410470792\n",
      "  (0, 22786)\t0.0363682336068\n",
      "  (0, 6789)\t0.043365559191\n",
      "  (0, 34067)\t0.0450540096233\n",
      "  (0, 1460)\t0.0367376031067\n",
      "  (0, 32753)\t0.0212119060067\n",
      "  (0, 16834)\t0.0222256068028\n",
      "  (0, 39208)\t0.0224847929382\n",
      "  (0, 7889)\t0.0305837295884\n",
      "  (0, 40082)\t0.0490460725192\n",
      "  (0, 21097)\t0.0274170751664\n",
      "  (0, 9890)\t0.0314173932525\n",
      "  (0, 8045)\t0.0353845362768\n",
      "  (0, 243)\t0.0288871404456\n",
      "  (0, 15488)\t0.0209757498263\n",
      "  (0, 5539)\t0.0355207687993\n",
      "  :\t:\n",
      "  (0, 7896)\t0.0923116305457\n",
      "  (0, 1509)\t0.0923116305457\n",
      "  (0, 16675)\t0.0978077189624\n",
      "  (0, 38119)\t0.0978077189624\n",
      "  (0, 11612)\t0.0978077189624\n",
      "  (0, 23371)\t0.0853873780328\n",
      "  (0, 14551)\t0.0923116305457\n",
      "  (0, 37059)\t0.0923116305457\n",
      "  (0, 35437)\t0.0923116305457\n",
      "  (0, 17407)\t0.0978077189624\n",
      "  (0, 33707)\t0.0790164685492\n",
      "  (0, 29216)\t0.0790164685492\n",
      "  (0, 2077)\t0.0774199169224\n",
      "  (0, 347)\t0.0790164685492\n",
      "  (0, 23753)\t0.0923116305457\n",
      "  (0, 5713)\t0.0978077189624\n",
      "  (0, 6986)\t0.0884120937558\n",
      "  (0, 15678)\t0.0978077189624\n",
      "  (0, 31190)\t0.0978077189624\n",
      "  (0, 9354)\t0.0978077189624\n",
      "  (0, 28509)\t0.0978077189624\n",
      "  (0, 26782)\t0.0978077189624\n",
      "  (0, 6843)\t0.0735203801325\n",
      "  (0, 16659)\t0.0853873780328\n",
      "  (0, 37379)\t0.0829160053391\n"
     ]
    }
   ],
   "source": [
    "# print(dfpmml['review'].max())\n",
    "# print(testX[50])\n",
    "print(reviews_pipeline.predict_proba(testX[100]))\n",
    "print(testX[100])"
   ]
  },
  {
   "cell_type": "code",
   "execution_count": null,
   "metadata": {
    "collapsed": false,
    "deletable": true,
    "editable": true
   },
   "outputs": [],
   "source": [
    "model.fit(testX, testY)"
   ]
  },
  {
   "cell_type": "code",
   "execution_count": null,
   "metadata": {
    "collapsed": false,
    "deletable": true,
    "editable": true
   },
   "outputs": [],
   "source": [
    "pickle_file = open(\"pickleFile.pkl\", 'wb')"
   ]
  },
  {
   "cell_type": "code",
   "execution_count": null,
   "metadata": {
    "collapsed": true
   },
   "outputs": [],
   "source": [
    "pickle.dump(model, pickle_file)"
   ]
  },
  {
   "cell_type": "code",
   "execution_count": null,
   "metadata": {
    "collapsed": true
   },
   "outputs": [],
   "source": [
    "pickle_file.close()"
   ]
  },
  {
   "cell_type": "code",
   "execution_count": null,
   "metadata": {
    "collapsed": true
   },
   "outputs": [],
   "source": []
  }
 ],
 "metadata": {
  "kernelspec": {
   "display_name": "Python 2",
   "language": "python",
   "name": "python2"
  },
  "language_info": {
   "codemirror_mode": {
    "name": "ipython",
    "version": 2
   },
   "file_extension": ".py",
   "mimetype": "text/x-python",
   "name": "python",
   "nbconvert_exporter": "python",
   "pygments_lexer": "ipython2",
   "version": "2.7.13"
  }
 },
 "nbformat": 4,
 "nbformat_minor": 2
}
